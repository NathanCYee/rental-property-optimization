{
 "cells": [
  {
   "cell_type": "code",
   "execution_count": 1,
   "metadata": {},
   "outputs": [],
   "source": [
    "import numpy as np\n",
    "import tensorflow as tf\n",
    "from keras.models import load_model\n",
    "import pandas as pd\n",
    "from sklearn.metrics import r2_score\n",
    "from keras import backend as K\n",
    "from platypus import SMPSO, Problem, Real, NSGAII, MOEAD\n",
    "import pickle\n",
    "import matplotlib.pyplot as plt\n"
   ]
  },
  {
   "cell_type": "code",
   "execution_count": 2,
   "metadata": {},
   "outputs": [],
   "source": [
    "import warnings\n",
    "warnings.filterwarnings(\"ignore\", category=UserWarning)"
   ]
  },
  {
   "cell_type": "code",
   "execution_count": 3,
   "metadata": {},
   "outputs": [],
   "source": [
    "from sklearn.ensemble import RandomForestRegressor\n"
   ]
  },
  {
   "cell_type": "code",
   "execution_count": 4,
   "metadata": {},
   "outputs": [],
   "source": [
    "from problem import RentSale\n",
    "import visualization \n"
   ]
  },
  {
   "cell_type": "code",
   "execution_count": 5,
   "metadata": {},
   "outputs": [],
   "source": [
    "rent_model = pickle.load(open('../model_creation/outputs/rent_models/randforest_search.pkl', 'rb'))\n",
    "sale_model = pickle.load(open('../model_creation/outputs/sale_models/randforest_search.pkl', 'rb'))"
   ]
  },
  {
   "cell_type": "code",
   "execution_count": 37,
   "metadata": {},
   "outputs": [],
   "source": [
    "problem = RentSale(rent_model, sale_model)\n",
    "\n",
    "algorithm = SMPSO(problem, log_frequency=100)\n",
    "algorithm.run(5000)"
   ]
  },
  {
   "cell_type": "code",
   "execution_count": 38,
   "metadata": {},
   "outputs": [
    {
     "name": "stdout",
     "output_type": "stream",
     "text": [
      "Solution[574.1764966986543,2.0421601367748483,1.2910329914410381,13336.595855480842,19901.403857832665|-1812.7131428571429,49300.0|0]\n",
      "[-1812.7131428571429, 49300.0]\n"
     ]
    }
   ],
   "source": [
    "print(algorithm.result[0])\n",
    "print(algorithm.result[0].objectives)"
   ]
  },
  {
   "cell_type": "code",
   "execution_count": 39,
   "metadata": {},
   "outputs": [],
   "source": [
    "objectives = [list(row.objectives) for row in algorithm.result]\n",
    "parameters = [list(row.variables) for row in algorithm.result]"
   ]
  },
  {
   "cell_type": "code",
   "execution_count": 40,
   "metadata": {},
   "outputs": [],
   "source": [
    "objectives = pd.DataFrame(objectives, columns=['rental', 'sale'])\n",
    "objectives['rental'] = -1*objectives['rental']\n",
    "objectives['TBE']=objectives['sale']/objectives['rental']\n",
    "parameters = pd.DataFrame(parameters, columns=['sqfeet','beds','baths','income','density'])\n",
    "parameters['beds'] = parameters['beds'].astype(int)\n",
    "parameters['baths'] = parameters['baths'].astype(int)"
   ]
  },
  {
   "cell_type": "code",
   "execution_count": 41,
   "metadata": {},
   "outputs": [],
   "source": [
    "optimized_data = pd.concat([parameters, objectives], axis=1)"
   ]
  },
  {
   "cell_type": "code",
   "execution_count": 42,
   "metadata": {},
   "outputs": [
    {
     "data": {
      "text/html": [
       "<div>\n",
       "<style scoped>\n",
       "    .dataframe tbody tr th:only-of-type {\n",
       "        vertical-align: middle;\n",
       "    }\n",
       "\n",
       "    .dataframe tbody tr th {\n",
       "        vertical-align: top;\n",
       "    }\n",
       "\n",
       "    .dataframe thead th {\n",
       "        text-align: right;\n",
       "    }\n",
       "</style>\n",
       "<table border=\"1\" class=\"dataframe\">\n",
       "  <thead>\n",
       "    <tr style=\"text-align: right;\">\n",
       "      <th></th>\n",
       "      <th>sqfeet</th>\n",
       "      <th>beds</th>\n",
       "      <th>baths</th>\n",
       "      <th>income</th>\n",
       "      <th>density</th>\n",
       "      <th>rental</th>\n",
       "      <th>sale</th>\n",
       "      <th>TBE</th>\n",
       "    </tr>\n",
       "  </thead>\n",
       "  <tbody>\n",
       "    <tr>\n",
       "      <th>0</th>\n",
       "      <td>574.176497</td>\n",
       "      <td>2</td>\n",
       "      <td>1</td>\n",
       "      <td>13336.595855</td>\n",
       "      <td>19901.403858</td>\n",
       "      <td>1812.713143</td>\n",
       "      <td>49300.000000</td>\n",
       "      <td>27.196802</td>\n",
       "    </tr>\n",
       "    <tr>\n",
       "      <th>1</th>\n",
       "      <td>919.422405</td>\n",
       "      <td>2</td>\n",
       "      <td>1</td>\n",
       "      <td>129153.100341</td>\n",
       "      <td>65315.108535</td>\n",
       "      <td>3891.380000</td>\n",
       "      <td>993589.409938</td>\n",
       "      <td>255.330862</td>\n",
       "    </tr>\n",
       "    <tr>\n",
       "      <th>2</th>\n",
       "      <td>938.621704</td>\n",
       "      <td>3</td>\n",
       "      <td>1</td>\n",
       "      <td>128661.838215</td>\n",
       "      <td>79808.865573</td>\n",
       "      <td>3784.232000</td>\n",
       "      <td>770262.407768</td>\n",
       "      <td>203.545239</td>\n",
       "    </tr>\n",
       "    <tr>\n",
       "      <th>3</th>\n",
       "      <td>1590.833152</td>\n",
       "      <td>1</td>\n",
       "      <td>2</td>\n",
       "      <td>20638.012258</td>\n",
       "      <td>17942.975225</td>\n",
       "      <td>3727.932000</td>\n",
       "      <td>344514.945000</td>\n",
       "      <td>92.414493</td>\n",
       "    </tr>\n",
       "    <tr>\n",
       "      <th>4</th>\n",
       "      <td>681.300047</td>\n",
       "      <td>1</td>\n",
       "      <td>1</td>\n",
       "      <td>11368.000000</td>\n",
       "      <td>19487.110432</td>\n",
       "      <td>2040.971905</td>\n",
       "      <td>86846.000000</td>\n",
       "      <td>42.551296</td>\n",
       "    </tr>\n",
       "    <tr>\n",
       "      <th>5</th>\n",
       "      <td>853.125425</td>\n",
       "      <td>2</td>\n",
       "      <td>1</td>\n",
       "      <td>11368.000000</td>\n",
       "      <td>18674.092732</td>\n",
       "      <td>2543.343587</td>\n",
       "      <td>129177.500000</td>\n",
       "      <td>50.790424</td>\n",
       "    </tr>\n",
       "    <tr>\n",
       "      <th>6</th>\n",
       "      <td>1035.557724</td>\n",
       "      <td>2</td>\n",
       "      <td>1</td>\n",
       "      <td>16360.120169</td>\n",
       "      <td>19426.113493</td>\n",
       "      <td>2477.564000</td>\n",
       "      <td>90380.048333</td>\n",
       "      <td>36.479400</td>\n",
       "    </tr>\n",
       "    <tr>\n",
       "      <th>7</th>\n",
       "      <td>719.919088</td>\n",
       "      <td>2</td>\n",
       "      <td>1</td>\n",
       "      <td>15716.724201</td>\n",
       "      <td>39808.709149</td>\n",
       "      <td>2991.336000</td>\n",
       "      <td>129783.900850</td>\n",
       "      <td>43.386601</td>\n",
       "    </tr>\n",
       "    <tr>\n",
       "      <th>8</th>\n",
       "      <td>1911.376732</td>\n",
       "      <td>1</td>\n",
       "      <td>2</td>\n",
       "      <td>17073.814002</td>\n",
       "      <td>18514.492700</td>\n",
       "      <td>3417.210000</td>\n",
       "      <td>300649.835000</td>\n",
       "      <td>87.981083</td>\n",
       "    </tr>\n",
       "    <tr>\n",
       "      <th>9</th>\n",
       "      <td>1747.735770</td>\n",
       "      <td>1</td>\n",
       "      <td>1</td>\n",
       "      <td>18081.243188</td>\n",
       "      <td>19107.814843</td>\n",
       "      <td>3619.862000</td>\n",
       "      <td>332433.895000</td>\n",
       "      <td>91.836069</td>\n",
       "    </tr>\n",
       "    <tr>\n",
       "      <th>10</th>\n",
       "      <td>816.105412</td>\n",
       "      <td>2</td>\n",
       "      <td>1</td>\n",
       "      <td>17374.814877</td>\n",
       "      <td>46269.706545</td>\n",
       "      <td>3003.397067</td>\n",
       "      <td>183369.988636</td>\n",
       "      <td>61.054194</td>\n",
       "    </tr>\n",
       "    <tr>\n",
       "      <th>11</th>\n",
       "      <td>1249.686799</td>\n",
       "      <td>2</td>\n",
       "      <td>3</td>\n",
       "      <td>18207.648863</td>\n",
       "      <td>19386.972669</td>\n",
       "      <td>3185.351667</td>\n",
       "      <td>212262.616667</td>\n",
       "      <td>66.637106</td>\n",
       "    </tr>\n",
       "    <tr>\n",
       "      <th>12</th>\n",
       "      <td>882.276209</td>\n",
       "      <td>2</td>\n",
       "      <td>1</td>\n",
       "      <td>135619.545849</td>\n",
       "      <td>69117.795473</td>\n",
       "      <td>3832.616000</td>\n",
       "      <td>874258.052102</td>\n",
       "      <td>228.110004</td>\n",
       "    </tr>\n",
       "    <tr>\n",
       "      <th>13</th>\n",
       "      <td>1515.497672</td>\n",
       "      <td>1</td>\n",
       "      <td>4</td>\n",
       "      <td>21047.417789</td>\n",
       "      <td>18595.848899</td>\n",
       "      <td>3358.874000</td>\n",
       "      <td>245105.375000</td>\n",
       "      <td>72.972483</td>\n",
       "    </tr>\n",
       "    <tr>\n",
       "      <th>14</th>\n",
       "      <td>944.997743</td>\n",
       "      <td>2</td>\n",
       "      <td>1</td>\n",
       "      <td>130835.023951</td>\n",
       "      <td>71561.873930</td>\n",
       "      <td>3885.572000</td>\n",
       "      <td>892552.287184</td>\n",
       "      <td>229.709368</td>\n",
       "    </tr>\n",
       "    <tr>\n",
       "      <th>15</th>\n",
       "      <td>1289.383827</td>\n",
       "      <td>2</td>\n",
       "      <td>3</td>\n",
       "      <td>18990.471319</td>\n",
       "      <td>18364.187178</td>\n",
       "      <td>3249.655667</td>\n",
       "      <td>226935.307143</td>\n",
       "      <td>69.833647</td>\n",
       "    </tr>\n",
       "    <tr>\n",
       "      <th>16</th>\n",
       "      <td>982.176933</td>\n",
       "      <td>2</td>\n",
       "      <td>1</td>\n",
       "      <td>128308.920901</td>\n",
       "      <td>70503.387676</td>\n",
       "      <td>3879.656000</td>\n",
       "      <td>880363.187920</td>\n",
       "      <td>226.917847</td>\n",
       "    </tr>\n",
       "  </tbody>\n",
       "</table>\n",
       "</div>"
      ],
      "text/plain": [
       "         sqfeet  beds  baths         income       density       rental  \\\n",
       "0    574.176497     2      1   13336.595855  19901.403858  1812.713143   \n",
       "1    919.422405     2      1  129153.100341  65315.108535  3891.380000   \n",
       "2    938.621704     3      1  128661.838215  79808.865573  3784.232000   \n",
       "3   1590.833152     1      2   20638.012258  17942.975225  3727.932000   \n",
       "4    681.300047     1      1   11368.000000  19487.110432  2040.971905   \n",
       "5    853.125425     2      1   11368.000000  18674.092732  2543.343587   \n",
       "6   1035.557724     2      1   16360.120169  19426.113493  2477.564000   \n",
       "7    719.919088     2      1   15716.724201  39808.709149  2991.336000   \n",
       "8   1911.376732     1      2   17073.814002  18514.492700  3417.210000   \n",
       "9   1747.735770     1      1   18081.243188  19107.814843  3619.862000   \n",
       "10   816.105412     2      1   17374.814877  46269.706545  3003.397067   \n",
       "11  1249.686799     2      3   18207.648863  19386.972669  3185.351667   \n",
       "12   882.276209     2      1  135619.545849  69117.795473  3832.616000   \n",
       "13  1515.497672     1      4   21047.417789  18595.848899  3358.874000   \n",
       "14   944.997743     2      1  130835.023951  71561.873930  3885.572000   \n",
       "15  1289.383827     2      3   18990.471319  18364.187178  3249.655667   \n",
       "16   982.176933     2      1  128308.920901  70503.387676  3879.656000   \n",
       "\n",
       "             sale         TBE  \n",
       "0    49300.000000   27.196802  \n",
       "1   993589.409938  255.330862  \n",
       "2   770262.407768  203.545239  \n",
       "3   344514.945000   92.414493  \n",
       "4    86846.000000   42.551296  \n",
       "5   129177.500000   50.790424  \n",
       "6    90380.048333   36.479400  \n",
       "7   129783.900850   43.386601  \n",
       "8   300649.835000   87.981083  \n",
       "9   332433.895000   91.836069  \n",
       "10  183369.988636   61.054194  \n",
       "11  212262.616667   66.637106  \n",
       "12  874258.052102  228.110004  \n",
       "13  245105.375000   72.972483  \n",
       "14  892552.287184  229.709368  \n",
       "15  226935.307143   69.833647  \n",
       "16  880363.187920  226.917847  "
      ]
     },
     "execution_count": 42,
     "metadata": {},
     "output_type": "execute_result"
    }
   ],
   "source": [
    "optimized_data"
   ]
  },
  {
   "cell_type": "code",
   "execution_count": 43,
   "metadata": {},
   "outputs": [
    {
     "data": {
      "text/plain": [
       "(<Figure size 504x360 with 1 Axes>,\n",
       " <AxesSubplot:xlabel='Rent price', ylabel='Sale price'>)"
      ]
     },
     "execution_count": 43,
     "metadata": {},
     "output_type": "execute_result"
    },
    {
     "data": {
      "image/png": "[encoded data removed]",
      "text/plain": [
       "<Figure size 504x360 with 1 Axes>"
      ]
     },
     "metadata": {
      "needs_background": "light"
     },
     "output_type": "display_data"
    }
   ],
   "source": [
    "visualization.plot_pareto_front(optimized_data, \"Rent v. Sale Price\")"
   ]
  },
  {
   "cell_type": "code",
   "execution_count": 44,
   "metadata": {},
   "outputs": [
    {
     "data": {
      "text/plain": [
       "(<Figure size 1800x720 with 10 Axes>,\n",
       " array([[<AxesSubplot:xlabel='sqfeet', ylabel='beds'>,\n",
       "         <AxesSubplot:xlabel='sqfeet', ylabel='income'>,\n",
       "         <AxesSubplot:xlabel='beds', ylabel='baths'>,\n",
       "         <AxesSubplot:xlabel='beds', ylabel='density'>,\n",
       "         <AxesSubplot:xlabel='baths', ylabel='density'>],\n",
       "        [<AxesSubplot:xlabel='sqfeet', ylabel='baths'>,\n",
       "         <AxesSubplot:xlabel='sqfeet', ylabel='density'>,\n",
       "         <AxesSubplot:xlabel='beds', ylabel='income'>,\n",
       "         <AxesSubplot:xlabel='baths', ylabel='income'>,\n",
       "         <AxesSubplot:xlabel='income', ylabel='density'>]], dtype=object))"
      ]
     },
     "execution_count": 44,
     "metadata": {},
     "output_type": "execute_result"
    },
    {
     "data": {
      "image/png": "[encoded data removed]",
      "text/plain": [
       "<Figure size 1800x720 with 10 Axes>"
      ]
     },
     "metadata": {
      "needs_background": "light"
     },
     "output_type": "display_data"
    }
   ],
   "source": [
    "visualization.plot_input_distributions(optimized_data)"
   ]
  },
  {
   "cell_type": "code",
   "execution_count": 45,
   "metadata": {},
   "outputs": [],
   "source": [
    "optimized_data.to_csv('./outputs/rent_sale/smpso.csv')"
   ]
  }
 ],
 "metadata": {
  "kernelspec": {
   "display_name": "Python 3.9.7 ('tensorflow')",
   "language": "python",
   "name": "python3"
  },
  "language_info": {
   "codemirror_mode": {
    "name": "ipython",
    "version": 3
   },
   "file_extension": ".py",
   "mimetype": "text/x-python",
   "name": "python",
   "nbconvert_exporter": "python",
   "pygments_lexer": "ipython3",
   "version": "3.9.7"
  },
  "orig_nbformat": 4,
  "vscode": {
   "interpreter": {
    "hash": "604cf3a9394c66cbf5287310c1f5b5d7842e137a3208bfcc6a02740f6980241a"
   }
  }
 },
 "nbformat": 4,
 "nbformat_minor": 2
}
