{
 "cells": [
  {
   "cell_type": "code",
   "execution_count": 1,
   "metadata": {},
   "outputs": [],
   "source": [
    "import numpy as np\n",
    "import tensorflow as tf\n",
    "from keras.models import load_model\n",
    "import pandas as pd\n",
    "from sklearn.metrics import r2_score\n",
    "from keras import backend as K\n",
    "from platypus import SMPSO, Problem, Real, NSGAII, MOEAD\n",
    "import pickle\n",
    "import matplotlib.pyplot as plt\n"
   ]
  },
  {
   "cell_type": "code",
   "execution_count": 2,
   "metadata": {},
   "outputs": [],
   "source": [
    "import warnings\n",
    "warnings.filterwarnings(\"ignore\", category=UserWarning)"
   ]
  },
  {
   "cell_type": "code",
   "execution_count": 3,
   "metadata": {},
   "outputs": [],
   "source": [
    "from sklearn.ensemble import RandomForestRegressor\n"
   ]
  },
  {
   "cell_type": "code",
   "execution_count": 4,
   "metadata": {},
   "outputs": [],
   "source": [
    "from problem import TBE\n",
    "import visualization \n"
   ]
  },
  {
   "cell_type": "code",
   "execution_count": 5,
   "metadata": {},
   "outputs": [],
   "source": [
    "rent_model = pickle.load(open('../model_creation/outputs/rent_models/random_forest.pkl', 'rb'))\n",
    "sale_model = pickle.load(open('../model_creation/outputs/sale_models/random_forest.pkl', 'rb'))"
   ]
  },
  {
   "cell_type": "code",
   "execution_count": 18,
   "metadata": {},
   "outputs": [],
   "source": [
    "problem = ROI(rent_model, sale_model)\n",
    "\n",
    "algorithm = SMPSO(problem, log_frequency=100)\n",
    "algorithm.run(5000)"
   ]
  },
  {
   "cell_type": "code",
   "execution_count": 19,
   "metadata": {},
   "outputs": [
    {
     "name": "stdout",
     "output_type": "stream",
     "text": [
      "Solution[1120.4829690215952,2.994582577570575,1.4772797501091945,11368.0,18705.54734819749|27.358165042131176|0]\n",
      "[27.358165042131176]\n"
     ]
    }
   ],
   "source": [
    "print(algorithm.result[0])\n",
    "print(algorithm.result[0].objectives)"
   ]
  },
  {
   "cell_type": "code",
   "execution_count": 20,
   "metadata": {},
   "outputs": [],
   "source": [
    "objectives = [list(row.objectives) for row in algorithm.result]\n",
    "parameters = [list(row.variables) for row in algorithm.result]"
   ]
  },
  {
   "cell_type": "code",
   "execution_count": 21,
   "metadata": {},
   "outputs": [],
   "source": [
    "def predict_prices(parameters):\n",
    "    rent_price = pd.DataFrame(rent_model.predict(parameters),columns=['rental'])\n",
    "    sale_price = pd.DataFrame(sale_model.predict(parameters),columns=['sale'])\n",
    "    return pd.concat([rent_price, sale_price], axis=1)"
   ]
  },
  {
   "cell_type": "code",
   "execution_count": 22,
   "metadata": {},
   "outputs": [],
   "source": [
    "objectives = pd.DataFrame(objectives, columns=['ROI'])\n",
    "parameters = pd.DataFrame(parameters, columns=['sqfeet','beds','baths','income','density'])\n",
    "parameters['beds'] = parameters['beds'].astype(int)\n",
    "parameters['baths'] = parameters['baths'].astype(int)"
   ]
  },
  {
   "cell_type": "code",
   "execution_count": 23,
   "metadata": {},
   "outputs": [],
   "source": [
    "objectives = pd.concat([objectives, predict_prices(parameters)], axis=1)"
   ]
  },
  {
   "cell_type": "code",
   "execution_count": 24,
   "metadata": {},
   "outputs": [],
   "source": [
    "optimized_data = pd.concat([parameters, objectives], axis=1)"
   ]
  },
  {
   "cell_type": "code",
   "execution_count": 25,
   "metadata": {},
   "outputs": [
    {
     "data": {
      "text/html": [
       "<div>\n",
       "<style scoped>\n",
       "    .dataframe tbody tr th:only-of-type {\n",
       "        vertical-align: middle;\n",
       "    }\n",
       "\n",
       "    .dataframe tbody tr th {\n",
       "        vertical-align: top;\n",
       "    }\n",
       "\n",
       "    .dataframe thead th {\n",
       "        text-align: right;\n",
       "    }\n",
       "</style>\n",
       "<table border=\"1\" class=\"dataframe\">\n",
       "  <thead>\n",
       "    <tr style=\"text-align: right;\">\n",
       "      <th></th>\n",
       "      <th>sqfeet</th>\n",
       "      <th>beds</th>\n",
       "      <th>baths</th>\n",
       "      <th>income</th>\n",
       "      <th>density</th>\n",
       "      <th>ROI</th>\n",
       "      <th>rental</th>\n",
       "      <th>sale</th>\n",
       "    </tr>\n",
       "  </thead>\n",
       "  <tbody>\n",
       "    <tr>\n",
       "      <th>0</th>\n",
       "      <td>1120.482969</td>\n",
       "      <td>2</td>\n",
       "      <td>1</td>\n",
       "      <td>11368.0</td>\n",
       "      <td>18705.547348</td>\n",
       "      <td>27.358165</td>\n",
       "      <td>2147.76</td>\n",
       "      <td>73486.0</td>\n",
       "    </tr>\n",
       "  </tbody>\n",
       "</table>\n",
       "</div>"
      ],
      "text/plain": [
       "        sqfeet  beds  baths   income       density        ROI   rental  \\\n",
       "0  1120.482969     2      1  11368.0  18705.547348  27.358165  2147.76   \n",
       "\n",
       "      sale  \n",
       "0  73486.0  "
      ]
     },
     "execution_count": 25,
     "metadata": {},
     "output_type": "execute_result"
    }
   ],
   "source": [
    "optimized_data"
   ]
  },
  {
   "cell_type": "code",
   "execution_count": 26,
   "metadata": {},
   "outputs": [
    {
     "data": {
      "text/html": [
       "<div>\n",
       "<style scoped>\n",
       "    .dataframe tbody tr th:only-of-type {\n",
       "        vertical-align: middle;\n",
       "    }\n",
       "\n",
       "    .dataframe tbody tr th {\n",
       "        vertical-align: top;\n",
       "    }\n",
       "\n",
       "    .dataframe thead th {\n",
       "        text-align: right;\n",
       "    }\n",
       "</style>\n",
       "<table border=\"1\" class=\"dataframe\">\n",
       "  <thead>\n",
       "    <tr style=\"text-align: right;\">\n",
       "      <th></th>\n",
       "      <th>sqfeet</th>\n",
       "      <th>beds</th>\n",
       "      <th>baths</th>\n",
       "      <th>income</th>\n",
       "      <th>density</th>\n",
       "      <th>ROI</th>\n",
       "      <th>rental</th>\n",
       "      <th>sale</th>\n",
       "    </tr>\n",
       "  </thead>\n",
       "  <tbody>\n",
       "    <tr>\n",
       "      <th>count</th>\n",
       "      <td>1.000000</td>\n",
       "      <td>1.0</td>\n",
       "      <td>1.0</td>\n",
       "      <td>1.0</td>\n",
       "      <td>1.000000</td>\n",
       "      <td>1.000000</td>\n",
       "      <td>1.00</td>\n",
       "      <td>1.0</td>\n",
       "    </tr>\n",
       "    <tr>\n",
       "      <th>mean</th>\n",
       "      <td>1120.482969</td>\n",
       "      <td>2.0</td>\n",
       "      <td>1.0</td>\n",
       "      <td>11368.0</td>\n",
       "      <td>18705.547348</td>\n",
       "      <td>27.358165</td>\n",
       "      <td>2147.76</td>\n",
       "      <td>73486.0</td>\n",
       "    </tr>\n",
       "    <tr>\n",
       "      <th>std</th>\n",
       "      <td>NaN</td>\n",
       "      <td>NaN</td>\n",
       "      <td>NaN</td>\n",
       "      <td>NaN</td>\n",
       "      <td>NaN</td>\n",
       "      <td>NaN</td>\n",
       "      <td>NaN</td>\n",
       "      <td>NaN</td>\n",
       "    </tr>\n",
       "    <tr>\n",
       "      <th>min</th>\n",
       "      <td>1120.482969</td>\n",
       "      <td>2.0</td>\n",
       "      <td>1.0</td>\n",
       "      <td>11368.0</td>\n",
       "      <td>18705.547348</td>\n",
       "      <td>27.358165</td>\n",
       "      <td>2147.76</td>\n",
       "      <td>73486.0</td>\n",
       "    </tr>\n",
       "    <tr>\n",
       "      <th>25%</th>\n",
       "      <td>1120.482969</td>\n",
       "      <td>2.0</td>\n",
       "      <td>1.0</td>\n",
       "      <td>11368.0</td>\n",
       "      <td>18705.547348</td>\n",
       "      <td>27.358165</td>\n",
       "      <td>2147.76</td>\n",
       "      <td>73486.0</td>\n",
       "    </tr>\n",
       "    <tr>\n",
       "      <th>50%</th>\n",
       "      <td>1120.482969</td>\n",
       "      <td>2.0</td>\n",
       "      <td>1.0</td>\n",
       "      <td>11368.0</td>\n",
       "      <td>18705.547348</td>\n",
       "      <td>27.358165</td>\n",
       "      <td>2147.76</td>\n",
       "      <td>73486.0</td>\n",
       "    </tr>\n",
       "    <tr>\n",
       "      <th>75%</th>\n",
       "      <td>1120.482969</td>\n",
       "      <td>2.0</td>\n",
       "      <td>1.0</td>\n",
       "      <td>11368.0</td>\n",
       "      <td>18705.547348</td>\n",
       "      <td>27.358165</td>\n",
       "      <td>2147.76</td>\n",
       "      <td>73486.0</td>\n",
       "    </tr>\n",
       "    <tr>\n",
       "      <th>max</th>\n",
       "      <td>1120.482969</td>\n",
       "      <td>2.0</td>\n",
       "      <td>1.0</td>\n",
       "      <td>11368.0</td>\n",
       "      <td>18705.547348</td>\n",
       "      <td>27.358165</td>\n",
       "      <td>2147.76</td>\n",
       "      <td>73486.0</td>\n",
       "    </tr>\n",
       "  </tbody>\n",
       "</table>\n",
       "</div>"
      ],
      "text/plain": [
       "            sqfeet  beds  baths   income       density        ROI   rental  \\\n",
       "count     1.000000   1.0    1.0      1.0      1.000000   1.000000     1.00   \n",
       "mean   1120.482969   2.0    1.0  11368.0  18705.547348  27.358165  2147.76   \n",
       "std            NaN   NaN    NaN      NaN           NaN        NaN      NaN   \n",
       "min    1120.482969   2.0    1.0  11368.0  18705.547348  27.358165  2147.76   \n",
       "25%    1120.482969   2.0    1.0  11368.0  18705.547348  27.358165  2147.76   \n",
       "50%    1120.482969   2.0    1.0  11368.0  18705.547348  27.358165  2147.76   \n",
       "75%    1120.482969   2.0    1.0  11368.0  18705.547348  27.358165  2147.76   \n",
       "max    1120.482969   2.0    1.0  11368.0  18705.547348  27.358165  2147.76   \n",
       "\n",
       "          sale  \n",
       "count      1.0  \n",
       "mean   73486.0  \n",
       "std        NaN  \n",
       "min    73486.0  \n",
       "25%    73486.0  \n",
       "50%    73486.0  \n",
       "75%    73486.0  \n",
       "max    73486.0  "
      ]
     },
     "execution_count": 26,
     "metadata": {},
     "output_type": "execute_result"
    }
   ],
   "source": [
    "optimized_data.describe()"
   ]
  },
  {
   "cell_type": "code",
   "execution_count": 27,
   "metadata": {},
   "outputs": [
    {
     "data": {
      "text/plain": [
       "(<Figure size 504x360 with 1 Axes>,\n",
       " <AxesSubplot:xlabel='Rent price', ylabel='Sale price'>)"
      ]
     },
     "execution_count": 27,
     "metadata": {},
     "output_type": "execute_result"
    },
    {
     "data": {
      "image/png": "[encoded data removed]",
      "text/plain": [
       "<Figure size 504x360 with 1 Axes>"
      ]
     },
     "metadata": {
      "needs_background": "light"
     },
     "output_type": "display_data"
    }
   ],
   "source": [
    "visualization.plot_pareto_front(optimized_data, \"Rent v. Sale Price\")"
   ]
  },
  {
   "cell_type": "code",
   "execution_count": 28,
   "metadata": {},
   "outputs": [
    {
     "data": {
      "text/plain": [
       "(<Figure size 1800x720 with 10 Axes>,\n",
       " array([[<AxesSubplot:xlabel='sqfeet', ylabel='beds'>,\n",
       "         <AxesSubplot:xlabel='sqfeet', ylabel='income'>,\n",
       "         <AxesSubplot:xlabel='beds', ylabel='baths'>,\n",
       "         <AxesSubplot:xlabel='beds', ylabel='density'>,\n",
       "         <AxesSubplot:xlabel='baths', ylabel='density'>],\n",
       "        [<AxesSubplot:xlabel='sqfeet', ylabel='baths'>,\n",
       "         <AxesSubplot:xlabel='sqfeet', ylabel='density'>,\n",
       "         <AxesSubplot:xlabel='beds', ylabel='income'>,\n",
       "         <AxesSubplot:xlabel='baths', ylabel='income'>,\n",
       "         <AxesSubplot:xlabel='income', ylabel='density'>]], dtype=object))"
      ]
     },
     "execution_count": 28,
     "metadata": {},
     "output_type": "execute_result"
    },
    {
     "data": {
      "image/png": "[encoded data removed]",
      "text/plain": [
       "<Figure size 1800x720 with 10 Axes>"
      ]
     },
     "metadata": {
      "needs_background": "light"
     },
     "output_type": "display_data"
    }
   ],
   "source": [
    "visualization.plot_input_distributions(optimized_data)"
   ]
  },
  {
   "cell_type": "code",
   "execution_count": 29,
   "metadata": {},
   "outputs": [],
   "source": [
    "optimized_data.to_csv('./outputs/roi/smpso.csv')"
   ]
  }
 ],
 "metadata": {
  "kernelspec": {
   "display_name": "Python 3.9.7 ('tensorflow')",
   "language": "python",
   "name": "python3"
  },
  "language_info": {
   "codemirror_mode": {
    "name": "ipython",
    "version": 3
   },
   "file_extension": ".py",
   "mimetype": "text/x-python",
   "name": "python",
   "nbconvert_exporter": "python",
   "pygments_lexer": "ipython3",
   "version": "3.9.7"
  },
  "orig_nbformat": 4,
  "vscode": {
   "interpreter": {
    "hash": "604cf3a9394c66cbf5287310c1f5b5d7842e137a3208bfcc6a02740f6980241a"
   }
  }
 },
 "nbformat": 4,
 "nbformat_minor": 2
}
