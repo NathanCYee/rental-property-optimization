{
 "cells": [
  {
   "cell_type": "code",
   "execution_count": 1,
   "metadata": {},
   "outputs": [],
   "source": [
    "# Import all libraries\n",
    "\n",
    "import pandas as pd\n",
    "import numpy as np\n",
    "import glob\n",
    "import os\n",
    "import pickle\n",
    "\n",
    "from sklearn.model_selection import train_test_split, GridSearchCV\n",
    "from sklearn.metrics import r2_score\n",
    "\n",
    "import tensorflow as tf\n",
    "from tensorflow.keras import Model\n",
    "from tensorflow.keras.layers import Input, Dense"
   ]
  },
  {
   "cell_type": "code",
   "execution_count": 2,
   "metadata": {},
   "outputs": [],
   "source": [
    "rstate = 2\n",
    "path = '../data_engineering/outputs/rental/'"
   ]
  },
  {
   "cell_type": "code",
   "execution_count": 3,
   "metadata": {},
   "outputs": [],
   "source": [
    "# load the data\n",
    "parquet_files = glob.glob(os.path.join(path, \"*.parquet\"))\n",
    "data = pd.concat((pd.read_parquet(f) for f in parquet_files))\n",
    "\n",
    "inputs = data[['sqfeet',\n",
    "              'beds',\n",
    "              'baths',\n",
    "              'income',\n",
    "              'density']]\n",
    "              \n",
    "outputs = data['price']"
   ]
  },
  {
   "cell_type": "code",
   "execution_count": 4,
   "metadata": {},
   "outputs": [
    {
     "data": {
      "text/html": [
       "<div>\n",
       "<style scoped>\n",
       "    .dataframe tbody tr th:only-of-type {\n",
       "        vertical-align: middle;\n",
       "    }\n",
       "\n",
       "    .dataframe tbody tr th {\n",
       "        vertical-align: top;\n",
       "    }\n",
       "\n",
       "    .dataframe thead th {\n",
       "        text-align: right;\n",
       "    }\n",
       "</style>\n",
       "<table border=\"1\" class=\"dataframe\">\n",
       "  <thead>\n",
       "    <tr style=\"text-align: right;\">\n",
       "      <th></th>\n",
       "      <th>sqfeet</th>\n",
       "      <th>beds</th>\n",
       "      <th>baths</th>\n",
       "      <th>income</th>\n",
       "      <th>density</th>\n",
       "      <th>price</th>\n",
       "    </tr>\n",
       "  </thead>\n",
       "  <tbody>\n",
       "    <tr>\n",
       "      <th>count</th>\n",
       "      <td>364619.000000</td>\n",
       "      <td>364619.000000</td>\n",
       "      <td>364619.000000</td>\n",
       "      <td>364619.000000</td>\n",
       "      <td>364619.000000</td>\n",
       "      <td>364619.000000</td>\n",
       "    </tr>\n",
       "    <tr>\n",
       "      <th>mean</th>\n",
       "      <td>985.920421</td>\n",
       "      <td>1.887406</td>\n",
       "      <td>1.474538</td>\n",
       "      <td>52919.322411</td>\n",
       "      <td>2661.581543</td>\n",
       "      <td>1166.330460</td>\n",
       "    </tr>\n",
       "    <tr>\n",
       "      <th>std</th>\n",
       "      <td>370.303770</td>\n",
       "      <td>0.870946</td>\n",
       "      <td>0.581496</td>\n",
       "      <td>18833.256842</td>\n",
       "      <td>3957.104248</td>\n",
       "      <td>521.520512</td>\n",
       "    </tr>\n",
       "    <tr>\n",
       "      <th>min</th>\n",
       "      <td>0.000000</td>\n",
       "      <td>0.000000</td>\n",
       "      <td>0.000000</td>\n",
       "      <td>2499.000000</td>\n",
       "      <td>0.000000</td>\n",
       "      <td>100.000000</td>\n",
       "    </tr>\n",
       "    <tr>\n",
       "      <th>25%</th>\n",
       "      <td>750.000000</td>\n",
       "      <td>1.000000</td>\n",
       "      <td>1.000000</td>\n",
       "      <td>40412.000000</td>\n",
       "      <td>674.000000</td>\n",
       "      <td>810.000000</td>\n",
       "    </tr>\n",
       "    <tr>\n",
       "      <th>50%</th>\n",
       "      <td>945.000000</td>\n",
       "      <td>2.000000</td>\n",
       "      <td>1.000000</td>\n",
       "      <td>49942.000000</td>\n",
       "      <td>1739.000000</td>\n",
       "      <td>1033.000000</td>\n",
       "    </tr>\n",
       "    <tr>\n",
       "      <th>75%</th>\n",
       "      <td>1144.000000</td>\n",
       "      <td>2.000000</td>\n",
       "      <td>2.000000</td>\n",
       "      <td>63337.000000</td>\n",
       "      <td>3381.000000</td>\n",
       "      <td>1391.000000</td>\n",
       "    </tr>\n",
       "    <tr>\n",
       "      <th>max</th>\n",
       "      <td>5000.000000</td>\n",
       "      <td>8.000000</td>\n",
       "      <td>7.500000</td>\n",
       "      <td>250001.000000</td>\n",
       "      <td>141546.000000</td>\n",
       "      <td>4000.000000</td>\n",
       "    </tr>\n",
       "  </tbody>\n",
       "</table>\n",
       "</div>"
      ],
      "text/plain": [
       "              sqfeet           beds          baths         income  \\\n",
       "count  364619.000000  364619.000000  364619.000000  364619.000000   \n",
       "mean      985.920421       1.887406       1.474538   52919.322411   \n",
       "std       370.303770       0.870946       0.581496   18833.256842   \n",
       "min         0.000000       0.000000       0.000000    2499.000000   \n",
       "25%       750.000000       1.000000       1.000000   40412.000000   \n",
       "50%       945.000000       2.000000       1.000000   49942.000000   \n",
       "75%      1144.000000       2.000000       2.000000   63337.000000   \n",
       "max      5000.000000       8.000000       7.500000  250001.000000   \n",
       "\n",
       "             density          price  \n",
       "count  364619.000000  364619.000000  \n",
       "mean     2661.581543    1166.330460  \n",
       "std      3957.104248     521.520512  \n",
       "min         0.000000     100.000000  \n",
       "25%       674.000000     810.000000  \n",
       "50%      1739.000000    1033.000000  \n",
       "75%      3381.000000    1391.000000  \n",
       "max    141546.000000    4000.000000  "
      ]
     },
     "execution_count": 4,
     "metadata": {},
     "output_type": "execute_result"
    }
   ],
   "source": [
    "data.describe()"
   ]
  },
  {
   "cell_type": "code",
   "execution_count": 5,
   "metadata": {},
   "outputs": [],
   "source": [
    "import itertools\n",
    "import matplotlib.pyplot as plt\n",
    "\n",
    "\n",
    "def graph_dist(inputs):\n",
    "    labels = ['sqfeet',\n",
    "              'beds',\n",
    "              'baths',\n",
    "              'income',\n",
    "              'density']\n",
    "    \n",
    "    fig,axs = plt.subplots(1,5,figsize=(25,5))\n",
    "    for i in range(5):\n",
    "        axs[i].scatter(inputs[labels[i]],inputs['price'])\n",
    "        axs[i].set_xlabel(labels[i])\n",
    "        axs[i].set_ylabel(\"Price\")\n",
    "    plt.tight_layout()\n",
    "    return fig, axs\n"
   ]
  },
  {
   "cell_type": "code",
   "execution_count": 6,
   "metadata": {},
   "outputs": [
    {
     "data": {
      "image/png": "[encoded data removed]",
      "text/plain": [
       "<Figure size 1800x360 with 5 Axes>"
      ]
     },
     "metadata": {
      "needs_background": "light"
     },
     "output_type": "display_data"
    }
   ],
   "source": [
    "fig, axs = graph_dist(data)"
   ]
  },
  {
   "cell_type": "code",
   "execution_count": 7,
   "metadata": {},
   "outputs": [],
   "source": [
    "x_train, x_test, y_train, y_test = train_test_split(inputs, outputs, test_size = 0.2, random_state=rstate)"
   ]
  },
  {
   "cell_type": "markdown",
   "metadata": {},
   "source": [
    "### Trying Models, evaluating, and saving them"
   ]
  },
  {
   "cell_type": "markdown",
   "metadata": {},
   "source": [
    "Linear Regression"
   ]
  },
  {
   "cell_type": "code",
   "execution_count": 8,
   "metadata": {},
   "outputs": [
    {
     "data": {
      "text/plain": [
       "LinearRegression()"
      ]
     },
     "execution_count": 8,
     "metadata": {},
     "output_type": "execute_result"
    }
   ],
   "source": [
    "from sklearn.linear_model import LinearRegression, Ridge, Lasso\n",
    "\n",
    "linmodel = LinearRegression()\n",
    "linmodel.fit(x_train, y_train)"
   ]
  },
  {
   "cell_type": "code",
   "execution_count": 9,
   "metadata": {},
   "outputs": [
    {
     "data": {
      "text/plain": [
       "0.36833333945084257"
      ]
     },
     "execution_count": 9,
     "metadata": {},
     "output_type": "execute_result"
    }
   ],
   "source": [
    "linmodel.score(x_test, y_test)"
   ]
  },
  {
   "cell_type": "code",
   "execution_count": 10,
   "metadata": {},
   "outputs": [
    {
     "data": {
      "text/plain": [
       "array([ 965.41677583,  985.1848527 , 1069.05715965, ..., 1163.61663004,\n",
       "       1276.94344334, 1220.34099866])"
      ]
     },
     "execution_count": 10,
     "metadata": {},
     "output_type": "execute_result"
    }
   ],
   "source": [
    "linmodel.predict(x_test)"
   ]
  },
  {
   "cell_type": "code",
   "execution_count": 11,
   "metadata": {},
   "outputs": [
    {
     "data": {
      "text/plain": [
       "Ridge()"
      ]
     },
     "execution_count": 11,
     "metadata": {},
     "output_type": "execute_result"
    }
   ],
   "source": [
    "ridgemodel = Ridge()\n",
    "ridgemodel.fit(x_train, y_train)"
   ]
  },
  {
   "cell_type": "code",
   "execution_count": 12,
   "metadata": {},
   "outputs": [
    {
     "data": {
      "text/plain": [
       "0.36833335228321984"
      ]
     },
     "execution_count": 12,
     "metadata": {},
     "output_type": "execute_result"
    }
   ],
   "source": [
    "ridgemodel.score(x_test, y_test)"
   ]
  },
  {
   "cell_type": "code",
   "execution_count": 13,
   "metadata": {},
   "outputs": [
    {
     "data": {
      "text/plain": [
       "array([ 965.41561022,  985.18365769, 1069.05829943, ..., 1163.61674283,\n",
       "       1276.94460978, 1220.34109848])"
      ]
     },
     "execution_count": 13,
     "metadata": {},
     "output_type": "execute_result"
    }
   ],
   "source": [
    "ridgemodel.predict(x_test)"
   ]
  },
  {
   "cell_type": "code",
   "execution_count": 14,
   "metadata": {},
   "outputs": [
    {
     "data": {
      "text/plain": [
       "Lasso()"
      ]
     },
     "execution_count": 14,
     "metadata": {},
     "output_type": "execute_result"
    }
   ],
   "source": [
    "lassomodel = Lasso()\n",
    "lassomodel.fit(x_train, y_train)"
   ]
  },
  {
   "cell_type": "code",
   "execution_count": 15,
   "metadata": {},
   "outputs": [
    {
     "data": {
      "text/plain": [
       "0.36833129664910524"
      ]
     },
     "execution_count": 15,
     "metadata": {},
     "output_type": "execute_result"
    }
   ],
   "source": [
    "lassomodel.score(x_test, y_test)"
   ]
  },
  {
   "cell_type": "code",
   "execution_count": 16,
   "metadata": {},
   "outputs": [
    {
     "data": {
      "text/plain": [
       "array([ 962.06908345,  980.49801265, 1073.16030816, ..., 1164.62360843,\n",
       "       1281.88716035, 1219.97824146])"
      ]
     },
     "execution_count": 16,
     "metadata": {},
     "output_type": "execute_result"
    }
   ],
   "source": [
    "lassomodel.predict(x_test)"
   ]
  },
  {
   "cell_type": "code",
   "execution_count": 17,
   "metadata": {},
   "outputs": [
    {
     "data": {
      "text/html": [
       "\n",
       "    <style>\n",
       "    table.eli5-weights tr:hover {\n",
       "        filter: brightness(85%);\n",
       "    }\n",
       "</style>\n",
       "\n",
       "\n",
       "\n",
       "    \n",
       "\n",
       "    \n",
       "\n",
       "    \n",
       "\n",
       "    \n",
       "\n",
       "    \n",
       "\n",
       "    \n",
       "\n",
       "\n",
       "    \n",
       "\n",
       "    \n",
       "\n",
       "    \n",
       "\n",
       "    \n",
       "        \n",
       "\n",
       "    \n",
       "\n",
       "        \n",
       "            \n",
       "                \n",
       "                \n",
       "    \n",
       "        <p style=\"margin-bottom: 0.5em; margin-top: 0em\">\n",
       "            <b>\n",
       "    \n",
       "        y\n",
       "    \n",
       "</b>\n",
       "\n",
       "top features\n",
       "        </p>\n",
       "    \n",
       "    <table class=\"eli5-weights\"\n",
       "           style=\"border-collapse: collapse; border: none; margin-top: 0em; table-layout: auto; margin-bottom: 2em;\">\n",
       "        <thead>\n",
       "        <tr style=\"border: none;\">\n",
       "            \n",
       "                <th style=\"padding: 0 1em 0 0.5em; text-align: right; border: none;\" title=\"Feature weights. Note that weights do not account for feature value scales, so if feature values have different scales, features with highest weights might not be the most important.\">\n",
       "                    Weight<sup>?</sup>\n",
       "                </th>\n",
       "            \n",
       "            <th style=\"padding: 0 0.5em 0 0.5em; text-align: left; border: none;\">Feature</th>\n",
       "            \n",
       "        </tr>\n",
       "        </thead>\n",
       "        <tbody>\n",
       "        \n",
       "            <tr style=\"background-color: hsl(120, 100.00%, 80.00%); border: none;\">\n",
       "    <td style=\"padding: 0 1em 0 0.5em; text-align: right; border: none;\">\n",
       "        +97.755\n",
       "    </td>\n",
       "    <td style=\"padding: 0 0.5em 0 0.5em; text-align: left; border: none;\">\n",
       "        baths\n",
       "    </td>\n",
       "    \n",
       "</tr>\n",
       "        \n",
       "            <tr style=\"background-color: hsl(120, 100.00%, 99.50%); border: none;\">\n",
       "    <td style=\"padding: 0 1em 0 0.5em; text-align: right; border: none;\">\n",
       "        +0.499\n",
       "    </td>\n",
       "    <td style=\"padding: 0 0.5em 0 0.5em; text-align: left; border: none;\">\n",
       "        sqfeet\n",
       "    </td>\n",
       "    \n",
       "</tr>\n",
       "        \n",
       "            <tr style=\"background-color: hsl(120, 100.00%, 99.91%); border: none;\">\n",
       "    <td style=\"padding: 0 1em 0 0.5em; text-align: right; border: none;\">\n",
       "        +0.045\n",
       "    </td>\n",
       "    <td style=\"padding: 0 0.5em 0 0.5em; text-align: left; border: none;\">\n",
       "        density\n",
       "    </td>\n",
       "    \n",
       "</tr>\n",
       "        \n",
       "            <tr style=\"background-color: hsl(120, 100.00%, 99.97%); border: none;\">\n",
       "    <td style=\"padding: 0 1em 0 0.5em; text-align: right; border: none;\">\n",
       "        +0.010\n",
       "    </td>\n",
       "    <td style=\"padding: 0 0.5em 0 0.5em; text-align: left; border: none;\">\n",
       "        income\n",
       "    </td>\n",
       "    \n",
       "</tr>\n",
       "        \n",
       "        \n",
       "\n",
       "        \n",
       "        \n",
       "            <tr style=\"background-color: hsl(0, 100.00%, 91.17%); border: none;\">\n",
       "    <td style=\"padding: 0 1em 0 0.5em; text-align: right; border: none;\">\n",
       "        -30.388\n",
       "    </td>\n",
       "    <td style=\"padding: 0 0.5em 0 0.5em; text-align: left; border: none;\">\n",
       "        &lt;BIAS&gt;\n",
       "    </td>\n",
       "    \n",
       "</tr>\n",
       "        \n",
       "            <tr style=\"background-color: hsl(0, 100.00%, 87.62%); border: none;\">\n",
       "    <td style=\"padding: 0 1em 0 0.5em; text-align: right; border: none;\">\n",
       "        -49.276\n",
       "    </td>\n",
       "    <td style=\"padding: 0 0.5em 0 0.5em; text-align: left; border: none;\">\n",
       "        beds\n",
       "    </td>\n",
       "    \n",
       "</tr>\n",
       "        \n",
       "\n",
       "        </tbody>\n",
       "    </table>\n",
       "\n",
       "            \n",
       "        \n",
       "\n",
       "        \n",
       "\n",
       "\n",
       "\n",
       "    \n",
       "\n",
       "    \n",
       "\n",
       "    \n",
       "\n",
       "    \n",
       "\n",
       "\n",
       "    \n",
       "\n",
       "    \n",
       "\n",
       "    \n",
       "\n",
       "    \n",
       "\n",
       "    \n",
       "\n",
       "    \n",
       "\n",
       "\n",
       "    \n",
       "\n",
       "    \n",
       "\n",
       "    \n",
       "\n",
       "    \n",
       "\n",
       "    \n",
       "\n",
       "    \n",
       "\n",
       "\n",
       "\n"
      ],
      "text/plain": [
       "<IPython.core.display.HTML object>"
      ]
     },
     "execution_count": 17,
     "metadata": {},
     "output_type": "execute_result"
    }
   ],
   "source": [
    "import eli5\n",
    "eli5.show_weights(lassomodel, feature_names = inputs.columns.tolist())"
   ]
  },
  {
   "cell_type": "code",
   "execution_count": 18,
   "metadata": {},
   "outputs": [],
   "source": [
    "pickle.dump(linmodel, open('./outputs/rent_models/linmodel.pkl', 'wb'))\n",
    "pickle.dump(ridgemodel, open('./outputs/rent_models/ridgemodel.pkl', 'wb'))\n",
    "pickle.dump(lassomodel, open('./outputs/rent_models/lassomodel.pkl', 'wb'))"
   ]
  },
  {
   "cell_type": "markdown",
   "metadata": {},
   "source": [
    "Decision Tree"
   ]
  },
  {
   "cell_type": "code",
   "execution_count": 19,
   "metadata": {},
   "outputs": [
    {
     "data": {
      "text/plain": [
       "DecisionTreeRegressor(random_state=2)"
      ]
     },
     "execution_count": 19,
     "metadata": {},
     "output_type": "execute_result"
    }
   ],
   "source": [
    "from sklearn.tree import DecisionTreeRegressor\n",
    "\n",
    "dtree = DecisionTreeRegressor(random_state=rstate)\n",
    "dtree.fit(x_train, y_train)"
   ]
  },
  {
   "cell_type": "code",
   "execution_count": 20,
   "metadata": {},
   "outputs": [
    {
     "data": {
      "text/plain": [
       "0.7160061418249076"
      ]
     },
     "execution_count": 20,
     "metadata": {},
     "output_type": "execute_result"
    }
   ],
   "source": [
    "dtree.score(x_test, y_test)"
   ]
  },
  {
   "cell_type": "code",
   "execution_count": 21,
   "metadata": {},
   "outputs": [
    {
     "data": {
      "text/plain": [
       "array([ 972.91666667,  615.        ,  960.        , ..., 1650.        ,\n",
       "       1060.        , 1092.5       ])"
      ]
     },
     "execution_count": 21,
     "metadata": {},
     "output_type": "execute_result"
    }
   ],
   "source": [
    "dtree.predict(x_test)"
   ]
  },
  {
   "cell_type": "code",
   "execution_count": 22,
   "metadata": {},
   "outputs": [
    {
     "name": "stdout",
     "output_type": "stream",
     "text": [
      "Best parameter (CV score=0.638):\n",
      "{'max_depth': 40}\n"
     ]
    }
   ],
   "source": [
    "# Tuning dtree parameters\n",
    "dtree_search = GridSearchCV(dtree, param_grid={\n",
    "        'max_depth':np.arange(10, 100, 10),\n",
    "        }, cv=2)\n",
    "dtree_search.fit(x_train, y_train)\n",
    "print(\"Best parameter (CV score=%0.3f):\" % dtree_search.best_score_)\n",
    "print(dtree_search.best_params_)"
   ]
  },
  {
   "cell_type": "code",
   "execution_count": 23,
   "metadata": {},
   "outputs": [],
   "source": [
    "pickle.dump(dtree, open('./outputs/rent_models/decision_tree.pkl', 'wb'))\n",
    "pickle.dump(dtree_search, open('./outputs/rent_models/decision_tree_gridsearch.pkl', 'wb'))"
   ]
  },
  {
   "cell_type": "markdown",
   "metadata": {},
   "source": [
    "Random Forest"
   ]
  },
  {
   "cell_type": "code",
   "execution_count": 24,
   "metadata": {},
   "outputs": [
    {
     "data": {
      "text/plain": [
       "RandomForestRegressor(random_state=2)"
      ]
     },
     "execution_count": 24,
     "metadata": {},
     "output_type": "execute_result"
    }
   ],
   "source": [
    "from sklearn.ensemble import RandomForestRegressor\n",
    "\n",
    "randforest = RandomForestRegressor(random_state=rstate)\n",
    "randforest.fit(x_train, y_train)"
   ]
  },
  {
   "cell_type": "code",
   "execution_count": 25,
   "metadata": {},
   "outputs": [
    {
     "data": {
      "text/plain": [
       "0.8296607935362627"
      ]
     },
     "execution_count": 25,
     "metadata": {},
     "output_type": "execute_result"
    }
   ],
   "source": [
    "randforest.score(x_test, y_test)"
   ]
  },
  {
   "cell_type": "code",
   "execution_count": 26,
   "metadata": {},
   "outputs": [
    {
     "data": {
      "text/plain": [
       "array([ 973.04182722,  615.        ,  960.        , ..., 1643.24444444,\n",
       "       1133.78666667, 1089.05820166])"
      ]
     },
     "execution_count": 26,
     "metadata": {},
     "output_type": "execute_result"
    }
   ],
   "source": [
    "randforest.predict(x_test)"
   ]
  },
  {
   "cell_type": "code",
   "execution_count": 64,
   "metadata": {},
   "outputs": [
    {
     "name": "stdout",
     "output_type": "stream",
     "text": [
      "Best parameter (CV score=0.791):\n",
      "{'max_depth': 100, 'n_estimators': 250}\n"
     ]
    }
   ],
   "source": [
    "randforest_search = GridSearchCV(randforest, param_grid={\n",
    "        'n_estimators':np.arange(100,300,50),\n",
    "        'max_depth': np.arange(50,200,50)\n",
    "        }, cv=2)\n",
    "randforest_search.fit(x_train, y_train)\n",
    "print(\"Best parameter (CV score=%0.3f):\" % randforest_search.best_score_)\n",
    "print(randforest_search.best_params_)"
   ]
  },
  {
   "cell_type": "code",
   "execution_count": 65,
   "metadata": {},
   "outputs": [
    {
     "data": {
      "text/plain": [
       "0.8309417785598416"
      ]
     },
     "execution_count": 65,
     "metadata": {},
     "output_type": "execute_result"
    }
   ],
   "source": [
    "randforest_search.score(x_test, y_test)"
   ]
  },
  {
   "cell_type": "code",
   "execution_count": 66,
   "metadata": {},
   "outputs": [
    {
     "data": {
      "text/plain": [
       "array([ 972.92116883,  615.        ,  960.        , ..., 1635.69295238,\n",
       "       1143.33366667, 1091.45850827])"
      ]
     },
     "execution_count": 66,
     "metadata": {},
     "output_type": "execute_result"
    }
   ],
   "source": [
    "randforest_search.predict(x_test)"
   ]
  },
  {
   "cell_type": "code",
   "execution_count": 68,
   "metadata": {},
   "outputs": [
    {
     "data": {
      "text/plain": [
       "RandomForestRegressor(max_depth=100, n_estimators=250, random_state=2)"
      ]
     },
     "execution_count": 68,
     "metadata": {},
     "output_type": "execute_result"
    }
   ],
   "source": [
    "randforest = RandomForestRegressor(random_state=rstate, n_estimators=250, max_depth=100)\n",
    "randforest.fit(x_train, y_train)"
   ]
  },
  {
   "cell_type": "code",
   "execution_count": 69,
   "metadata": {},
   "outputs": [
    {
     "data": {
      "text/plain": [
       "0.8309417785598416"
      ]
     },
     "execution_count": 69,
     "metadata": {},
     "output_type": "execute_result"
    }
   ],
   "source": [
    "randforest.score(x_test, y_test)"
   ]
  },
  {
   "cell_type": "code",
   "execution_count": 70,
   "metadata": {},
   "outputs": [
    {
     "data": {
      "text/plain": [
       "array([ 972.92116883,  615.        ,  960.        , ..., 1635.69295238,\n",
       "       1143.33366667, 1091.45850827])"
      ]
     },
     "execution_count": 70,
     "metadata": {},
     "output_type": "execute_result"
    }
   ],
   "source": [
    "randforest.predict(x_test)"
   ]
  },
  {
   "cell_type": "code",
   "execution_count": 67,
   "metadata": {},
   "outputs": [],
   "source": [
    "pickle.dump(randforest, open('./outputs/rent_models/random_forest.pkl', 'wb'))\n",
    "pickle.dump(randforest_search, open('./outputs/rent_models/randforest_search.pkl', 'wb'))"
   ]
  },
  {
   "cell_type": "markdown",
   "metadata": {},
   "source": [
    "XGBoost"
   ]
  },
  {
   "cell_type": "code",
   "execution_count": 28,
   "metadata": {},
   "outputs": [
    {
     "data": {
      "text/plain": [
       "XGBRegressor(base_score=0.5, booster='gbtree', callbacks=None,\n",
       "             colsample_bylevel=1, colsample_bynode=1, colsample_bytree=1,\n",
       "             early_stopping_rounds=None, enable_categorical=False,\n",
       "             eval_metric=None, feature_types=None, gamma=0, gpu_id=-1,\n",
       "             grow_policy='depthwise', importance_type=None,\n",
       "             interaction_constraints='', learning_rate=0.300000012, max_bin=256,\n",
       "             max_cat_threshold=64, max_cat_to_onehot=4, max_delta_step=0,\n",
       "             max_depth=6, max_leaves=0, min_child_weight=1, missing=nan,\n",
       "             monotone_constraints='()', n_estimators=100, n_jobs=0,\n",
       "             num_parallel_tree=1, predictor='auto', random_state=2, ...)"
      ]
     },
     "execution_count": 28,
     "metadata": {},
     "output_type": "execute_result"
    }
   ],
   "source": [
    "from xgboost import XGBRegressor\n",
    "\n",
    "xgb = XGBRegressor(seed=rstate)\n",
    "xgb.fit(x_train, y_train)"
   ]
  },
  {
   "cell_type": "code",
   "execution_count": 29,
   "metadata": {},
   "outputs": [
    {
     "data": {
      "text/plain": [
       "0.6737568380813758"
      ]
     },
     "execution_count": 29,
     "metadata": {},
     "output_type": "execute_result"
    }
   ],
   "source": [
    "xgb.score(x_test, y_test)"
   ]
  },
  {
   "cell_type": "code",
   "execution_count": 30,
   "metadata": {},
   "outputs": [
    {
     "data": {
      "text/plain": [
       "array([ 980.2117,  620.0603,  939.1987, ..., 1334.2593, 1157.4539,\n",
       "       1132.0017], dtype=float32)"
      ]
     },
     "execution_count": 30,
     "metadata": {},
     "output_type": "execute_result"
    }
   ],
   "source": [
    "xgb.predict(x_test)"
   ]
  },
  {
   "cell_type": "code",
   "execution_count": 31,
   "metadata": {},
   "outputs": [
    {
     "name": "stdout",
     "output_type": "stream",
     "text": [
      "Best parameter (CV score=0.737):\n",
      "{'learning_rate': 0.3, 'n_estimators': 250}\n"
     ]
    }
   ],
   "source": [
    "xgb_search = GridSearchCV(xgb, param_grid={\n",
    "        'n_estimators':np.arange(100,300,50),\n",
    "        'learning_rate': [0.0001, 0.001, 0.01, 0.1, 0.2, 0.3]\n",
    "        }, cv=2)\n",
    "xgb_search.fit(x_train, y_train)\n",
    "print(\"Best parameter (CV score=%0.3f):\" % xgb_search.best_score_)\n",
    "print(xgb_search.best_params_)"
   ]
  },
  {
   "cell_type": "code",
   "execution_count": 32,
   "metadata": {},
   "outputs": [
    {
     "data": {
      "text/plain": [
       "array([ 912.76105,  598.14453,  936.151  , ..., 1374.7236 , 1094.6902 ,\n",
       "       1125.4263 ], dtype=float32)"
      ]
     },
     "execution_count": 32,
     "metadata": {},
     "output_type": "execute_result"
    }
   ],
   "source": [
    "xgb_search.predict(x_test)"
   ]
  },
  {
   "cell_type": "code",
   "execution_count": 33,
   "metadata": {},
   "outputs": [
    {
     "data": {
      "text/plain": [
       "XGBRegressor(base_score=0.5, booster='gbtree', callbacks=None,\n",
       "             colsample_bylevel=1, colsample_bynode=1, colsample_bytree=1,\n",
       "             early_stopping_rounds=None, enable_categorical=False,\n",
       "             eval_metric=None, feature_types=None, gamma=0, gpu_id=-1,\n",
       "             grow_policy='depthwise', importance_type=None,\n",
       "             interaction_constraints='', learning_rate=0.3, max_bin=256,\n",
       "             max_cat_threshold=64, max_cat_to_onehot=4, max_delta_step=0,\n",
       "             max_depth=6, max_leaves=0, min_child_weight=1, missing=nan,\n",
       "             monotone_constraints='()', n_estimators=250, n_jobs=0,\n",
       "             num_parallel_tree=1, predictor='auto', random_state=2, ...)"
      ]
     },
     "execution_count": 33,
     "metadata": {},
     "output_type": "execute_result"
    }
   ],
   "source": [
    "xgb = XGBRegressor(seed=rstate, learning_rate=0.3, n_estimators=250)\n",
    "xgb.fit(x_train, y_train)"
   ]
  },
  {
   "cell_type": "code",
   "execution_count": 34,
   "metadata": {},
   "outputs": [
    {
     "data": {
      "text/plain": [
       "0.7564288408196409"
      ]
     },
     "execution_count": 34,
     "metadata": {},
     "output_type": "execute_result"
    }
   ],
   "source": [
    "xgb.score(x_test, y_test)"
   ]
  },
  {
   "cell_type": "code",
   "execution_count": 35,
   "metadata": {},
   "outputs": [],
   "source": [
    "pickle.dump(xgb, open('./outputs/rent_models/xgb.pkl', 'wb'))\n",
    "pickle.dump(xgb_search, open('./outputs/rent_models/xgb_gridsearch.pkl', 'wb'))"
   ]
  },
  {
   "cell_type": "markdown",
   "metadata": {},
   "source": [
    "CatBoost"
   ]
  },
  {
   "cell_type": "code",
   "execution_count": 36,
   "metadata": {},
   "outputs": [
    {
     "data": {
      "text/plain": [
       "<catboost.core.CatBoostRegressor at 0x7fae28176100>"
      ]
     },
     "execution_count": 36,
     "metadata": {},
     "output_type": "execute_result"
    }
   ],
   "source": [
    "from catboost import CatBoostRegressor\n",
    "\n",
    "catboost = CatBoostRegressor(random_seed=rstate, verbose=False)\n",
    "catboost.fit(x_train, y_train)"
   ]
  },
  {
   "cell_type": "code",
   "execution_count": 37,
   "metadata": {},
   "outputs": [
    {
     "data": {
      "text/plain": [
       "0.6404537939082628"
      ]
     },
     "execution_count": 37,
     "metadata": {},
     "output_type": "execute_result"
    }
   ],
   "source": [
    "catboost.score(x_test, y_test)"
   ]
  },
  {
   "cell_type": "code",
   "execution_count": 38,
   "metadata": {},
   "outputs": [
    {
     "data": {
      "text/plain": [
       "array([1004.81983364,  624.18623837,  995.94316282, ..., 1373.50087711,\n",
       "       1210.17777764, 1092.60806154])"
      ]
     },
     "execution_count": 38,
     "metadata": {},
     "output_type": "execute_result"
    }
   ],
   "source": [
    "catboost.predict(x_test)"
   ]
  },
  {
   "cell_type": "code",
   "execution_count": 39,
   "metadata": {},
   "outputs": [
    {
     "name": "stdout",
     "output_type": "stream",
     "text": [
      "Best parameter (CV score=0.606):\n",
      "{'learning_rate': 0.3, 'n_estimators': 250}\n"
     ]
    }
   ],
   "source": [
    "catboost_search = GridSearchCV(catboost, param_grid={\n",
    "        'n_estimators':np.arange(100,300,50),\n",
    "        'learning_rate': [0.0001, 0.001, 0.01, 0.1, 0.2, 0.3]\n",
    "        }, cv=2)\n",
    "catboost_search.fit(x_train, y_train)\n",
    "print(\"Best parameter (CV score=%0.3f):\" % catboost_search.best_score_)\n",
    "print(catboost_search.best_params_)"
   ]
  },
  {
   "cell_type": "code",
   "execution_count": 40,
   "metadata": {},
   "outputs": [
    {
     "data": {
      "text/plain": [
       "array([1092.25396353,  657.39388983, 1008.68228316, ..., 1377.04732931,\n",
       "       1276.54195026, 1157.55620584])"
      ]
     },
     "execution_count": 40,
     "metadata": {},
     "output_type": "execute_result"
    }
   ],
   "source": [
    "catboost_search.predict(x_test)"
   ]
  },
  {
   "cell_type": "code",
   "execution_count": 41,
   "metadata": {},
   "outputs": [],
   "source": [
    "pickle.dump(catboost, open('./outputs/rent_models/catboost.pkl', 'wb'))\n",
    "pickle.dump(catboost_search, open('./outputs/rent_models/catboost_gridsearch.pkl', 'wb'))"
   ]
  },
  {
   "cell_type": "markdown",
   "metadata": {},
   "source": [
    "K-Nearest-Neighbors"
   ]
  },
  {
   "cell_type": "code",
   "execution_count": 8,
   "metadata": {},
   "outputs": [
    {
     "data": {
      "text/plain": [
       "KNeighborsRegressor()"
      ]
     },
     "execution_count": 8,
     "metadata": {},
     "output_type": "execute_result"
    }
   ],
   "source": [
    "from sklearn.neighbors import KNeighborsRegressor\n",
    "\n",
    "knn = KNeighborsRegressor()\n",
    "knn.fit(x_train, y_train)"
   ]
  },
  {
   "cell_type": "code",
   "execution_count": 9,
   "metadata": {},
   "outputs": [
    {
     "data": {
      "text/plain": [
       "0.78774356067088"
      ]
     },
     "execution_count": 9,
     "metadata": {},
     "output_type": "execute_result"
    }
   ],
   "source": [
    "knn.score(x_test, y_test)"
   ]
  },
  {
   "cell_type": "code",
   "execution_count": 10,
   "metadata": {},
   "outputs": [
    {
     "data": {
      "text/plain": [
       "sqfeet       906.0\n",
       "beds           2.0\n",
       "baths          2.0\n",
       "income     33496.0\n",
       "density     2351.0\n",
       "Name: 84586, dtype: float64"
      ]
     },
     "execution_count": 10,
     "metadata": {},
     "output_type": "execute_result"
    }
   ],
   "source": [
    "x_test.iloc[0]"
   ]
  },
  {
   "cell_type": "code",
   "execution_count": 11,
   "metadata": {},
   "outputs": [
    {
     "name": "stderr",
     "output_type": "stream",
     "text": [
      "/Users/nathanyee/miniconda3/envs/tensorflow/lib/python3.9/site-packages/sklearn/base.py:450: UserWarning: X does not have valid feature names, but KNeighborsRegressor was fitted with feature names\n",
      "  warnings.warn(\n"
     ]
    },
    {
     "data": {
      "text/plain": [
       "array([975.])"
      ]
     },
     "execution_count": 11,
     "metadata": {},
     "output_type": "execute_result"
    }
   ],
   "source": [
    "knn.predict([x_test.iloc[0]])"
   ]
  },
  {
   "cell_type": "code",
   "execution_count": 12,
   "metadata": {},
   "outputs": [
    {
     "data": {
      "text/plain": [
       "975.0"
      ]
     },
     "execution_count": 12,
     "metadata": {},
     "output_type": "execute_result"
    }
   ],
   "source": [
    "y_test.iloc[0]"
   ]
  },
  {
   "cell_type": "code",
   "execution_count": 13,
   "metadata": {},
   "outputs": [
    {
     "data": {
      "text/plain": [
       "array([ 975.,  615.,  960., ..., 1514., 1060., 1082.])"
      ]
     },
     "execution_count": 13,
     "metadata": {},
     "output_type": "execute_result"
    }
   ],
   "source": [
    "knn.predict(x_test)"
   ]
  },
  {
   "cell_type": "code",
   "execution_count": 48,
   "metadata": {},
   "outputs": [
    {
     "name": "stdout",
     "output_type": "stream",
     "text": [
      "Best parameter (CV score=0.747):\n",
      "{'n_neighbors': 3}\n"
     ]
    }
   ],
   "source": [
    "knn_search = GridSearchCV(knn, param_grid={\n",
    "        'n_neighbors':np.arange(1, 50),\n",
    "        }, cv=2)\n",
    "knn_search.fit(x_train, y_train)\n",
    "print(\"Best parameter (CV score=%0.3f):\" % knn_search.best_score_)\n",
    "print(knn_search.best_params_)"
   ]
  },
  {
   "cell_type": "code",
   "execution_count": 14,
   "metadata": {},
   "outputs": [],
   "source": [
    "pickle.dump(knn, open('./outputs/rent_models/knn.pkl', 'wb'))\n",
    "pickle.dump(knn_search, open('./outputs/rent_models/knn_gridsearch.pkl', 'wb'))"
   ]
  },
  {
   "cell_type": "markdown",
   "metadata": {},
   "source": [
    "Tensorflow Neural Network"
   ]
  },
  {
   "cell_type": "code",
   "execution_count": 50,
   "metadata": {},
   "outputs": [],
   "source": [
    "# Keras NN model to be created\n",
    "def create_model(inputs, outputs):\n",
    "    input_layer = Input(shape=(5, ))\n",
    "    x1 = Dense(15, activation='relu', kernel_initializer='normal') (input_layer)\n",
    "    x2 = Dense(5, activation='relu', kernel_initializer='normal') (x1)\n",
    "    x3 = Dense(3, activation='relu', kernel_initializer='normal') (x2)\n",
    "    output = Dense(1, activation='linear', kernel_initializer='normal') (x3)\n",
    "\n",
    "    t_model = Model(inputs=input_layer, outputs=output)\n",
    "\n",
    "    t_model.compile(\n",
    "        loss='mean_squared_error', \n",
    "        optimizer=tf.keras.optimizers.Adam(),\n",
    "        metrics=[\"mean_squared_error\"]\n",
    "    )\n",
    "    \n",
    "    t_model.fit(inputs, outputs, epochs=350, batch_size=1000, verbose=True)\n",
    "    return t_model"
   ]
  },
  {
   "cell_type": "code",
   "execution_count": 51,
   "metadata": {},
   "outputs": [
    {
     "name": "stderr",
     "output_type": "stream",
     "text": [
      "2022-11-26 15:12:35.724583: I tensorflow/core/platform/cpu_feature_guard.cc:151] This TensorFlow binary is optimized with oneAPI Deep Neural Network Library (oneDNN) to use the following CPU instructions in performance-critical operations:  AVX2 AVX512F FMA\n",
      "To enable them in other operations, rebuild TensorFlow with the appropriate compiler flags.\n"
     ]
    },
    {
     "name": "stdout",
     "output_type": "stream",
     "text": [
      "Epoch 1/350\n",
      "292/292 [==============================] - 1s 1ms/step - loss: 512984.9375 - mean_squared_error: 512984.9375\n",
      "Epoch 2/350\n",
      "292/292 [==============================] - 0s 1ms/step - loss: 218568.8594 - mean_squared_error: 218568.8594\n",
      "Epoch 3/350\n",
      "292/292 [==============================] - 0s 1ms/step - loss: 198501.7188 - mean_squared_error: 198501.7188\n",
      "Epoch 4/350\n",
      "292/292 [==============================] - 0s 1ms/step - loss: 172951.1094 - mean_squared_error: 172951.1094\n",
      "Epoch 5/350\n",
      "292/292 [==============================] - 0s 1ms/step - loss: 168208.7344 - mean_squared_error: 168208.7344\n",
      "Epoch 6/350\n",
      "292/292 [==============================] - 0s 1ms/step - loss: 167981.4531 - mean_squared_error: 167981.4531\n",
      "Epoch 7/350\n",
      "292/292 [==============================] - 1s 2ms/step - loss: 167892.9062 - mean_squared_error: 167892.9062\n",
      "Epoch 8/350\n",
      "292/292 [==============================] - 1s 2ms/step - loss: 167857.2969 - mean_squared_error: 167857.2969\n",
      "Epoch 9/350\n",
      "292/292 [==============================] - 0s 1ms/step - loss: 167781.7656 - mean_squared_error: 167781.7656\n",
      "Epoch 10/350\n",
      "292/292 [==============================] - 1s 3ms/step - loss: 167631.0781 - mean_squared_error: 167631.0781\n",
      "Epoch 11/350\n",
      "292/292 [==============================] - 1s 2ms/step - loss: 167615.1094 - mean_squared_error: 167615.1094\n",
      "Epoch 12/350\n",
      "292/292 [==============================] - 1s 2ms/step - loss: 167663.7031 - mean_squared_error: 167663.7031\n",
      "Epoch 13/350\n",
      "292/292 [==============================] - 1s 2ms/step - loss: 167530.8281 - mean_squared_error: 167530.8281\n",
      "Epoch 14/350\n",
      "292/292 [==============================] - 1s 2ms/step - loss: 167475.3750 - mean_squared_error: 167475.3750\n",
      "Epoch 15/350\n",
      "292/292 [==============================] - 1s 2ms/step - loss: 167431.4531 - mean_squared_error: 167431.4531\n",
      "Epoch 16/350\n",
      "292/292 [==============================] - 1s 2ms/step - loss: 167317.5781 - mean_squared_error: 167317.5781\n",
      "Epoch 17/350\n",
      "292/292 [==============================] - 1s 2ms/step - loss: 167477.6875 - mean_squared_error: 167477.6875\n",
      "Epoch 18/350\n",
      "292/292 [==============================] - 0s 2ms/step - loss: 167225.8281 - mean_squared_error: 167225.8281\n",
      "Epoch 19/350\n",
      "292/292 [==============================] - 0s 1ms/step - loss: 167275.0625 - mean_squared_error: 167275.0625\n",
      "Epoch 20/350\n",
      "292/292 [==============================] - 0s 1ms/step - loss: 167332.3281 - mean_squared_error: 167332.3281\n",
      "Epoch 21/350\n",
      "292/292 [==============================] - 1s 2ms/step - loss: 167239.0312 - mean_squared_error: 167239.0312\n",
      "Epoch 22/350\n",
      "292/292 [==============================] - 0s 2ms/step - loss: 167227.3906 - mean_squared_error: 167227.3906\n",
      "Epoch 23/350\n",
      "292/292 [==============================] - 0s 1ms/step - loss: 167317.4688 - mean_squared_error: 167317.4688\n",
      "Epoch 24/350\n",
      "292/292 [==============================] - 0s 1ms/step - loss: 167131.7344 - mean_squared_error: 167131.7344\n",
      "Epoch 25/350\n",
      "292/292 [==============================] - 0s 1ms/step - loss: 167135.2969 - mean_squared_error: 167135.2969\n",
      "Epoch 26/350\n",
      "292/292 [==============================] - 0s 1ms/step - loss: 167354.0000 - mean_squared_error: 167354.0000\n",
      "Epoch 27/350\n",
      "292/292 [==============================] - 0s 1ms/step - loss: 167105.3594 - mean_squared_error: 167105.3594\n",
      "Epoch 28/350\n",
      "292/292 [==============================] - 0s 1ms/step - loss: 167025.8906 - mean_squared_error: 167025.8906\n",
      "Epoch 29/350\n",
      "292/292 [==============================] - 0s 1ms/step - loss: 167117.7031 - mean_squared_error: 167117.7031\n",
      "Epoch 30/350\n",
      "292/292 [==============================] - 0s 1ms/step - loss: 167055.0156 - mean_squared_error: 167055.0156\n",
      "Epoch 31/350\n",
      "292/292 [==============================] - 0s 1ms/step - loss: 166991.3594 - mean_squared_error: 166991.3594\n",
      "Epoch 32/350\n",
      "292/292 [==============================] - 0s 1ms/step - loss: 167007.5625 - mean_squared_error: 167007.5625\n",
      "Epoch 33/350\n",
      "292/292 [==============================] - 0s 1ms/step - loss: 167042.1562 - mean_squared_error: 167042.1562\n",
      "Epoch 34/350\n",
      "292/292 [==============================] - 0s 2ms/step - loss: 167033.8281 - mean_squared_error: 167033.8281\n",
      "Epoch 35/350\n",
      "292/292 [==============================] - 0s 1ms/step - loss: 166962.7344 - mean_squared_error: 166962.7344\n",
      "Epoch 36/350\n",
      "292/292 [==============================] - 0s 1ms/step - loss: 167142.3906 - mean_squared_error: 167142.3906\n",
      "Epoch 37/350\n",
      "292/292 [==============================] - 0s 1ms/step - loss: 166981.0938 - mean_squared_error: 166981.0938\n",
      "Epoch 38/350\n",
      "292/292 [==============================] - 0s 1ms/step - loss: 166957.8906 - mean_squared_error: 166957.8906\n",
      "Epoch 39/350\n",
      "292/292 [==============================] - 0s 1ms/step - loss: 166976.1875 - mean_squared_error: 166976.1875\n",
      "Epoch 40/350\n",
      "292/292 [==============================] - 0s 1ms/step - loss: 166964.1562 - mean_squared_error: 166964.1562\n",
      "Epoch 41/350\n",
      "292/292 [==============================] - 0s 1ms/step - loss: 167000.3750 - mean_squared_error: 167000.3750\n",
      "Epoch 42/350\n",
      "292/292 [==============================] - 0s 1ms/step - loss: 167036.2344 - mean_squared_error: 167036.2344\n",
      "Epoch 43/350\n",
      "292/292 [==============================] - 0s 1ms/step - loss: 166866.4375 - mean_squared_error: 166866.4375\n",
      "Epoch 44/350\n",
      "292/292 [==============================] - 0s 1ms/step - loss: 167029.5312 - mean_squared_error: 167029.5312\n",
      "Epoch 45/350\n",
      "292/292 [==============================] - 0s 1ms/step - loss: 167055.4844 - mean_squared_error: 167055.4844\n",
      "Epoch 46/350\n",
      "292/292 [==============================] - 0s 1ms/step - loss: 166915.9531 - mean_squared_error: 166915.9531\n",
      "Epoch 47/350\n",
      "292/292 [==============================] - 0s 1ms/step - loss: 167128.7188 - mean_squared_error: 167128.7188\n",
      "Epoch 48/350\n",
      "292/292 [==============================] - 0s 1ms/step - loss: 166986.8594 - mean_squared_error: 166986.8594\n",
      "Epoch 49/350\n",
      "292/292 [==============================] - 0s 1ms/step - loss: 166937.8438 - mean_squared_error: 166937.8438\n",
      "Epoch 50/350\n",
      "292/292 [==============================] - 0s 1ms/step - loss: 166946.7812 - mean_squared_error: 166946.7812\n",
      "Epoch 51/350\n",
      "292/292 [==============================] - 0s 1ms/step - loss: 166890.1406 - mean_squared_error: 166890.1406\n",
      "Epoch 52/350\n",
      "292/292 [==============================] - 0s 1ms/step - loss: 166900.0781 - mean_squared_error: 166900.0781\n",
      "Epoch 53/350\n",
      "292/292 [==============================] - 0s 1ms/step - loss: 167000.5156 - mean_squared_error: 167000.5156\n",
      "Epoch 54/350\n",
      "292/292 [==============================] - 0s 1ms/step - loss: 166813.1094 - mean_squared_error: 166813.1094\n",
      "Epoch 55/350\n",
      "292/292 [==============================] - 0s 1ms/step - loss: 166964.8750 - mean_squared_error: 166964.8750\n",
      "Epoch 56/350\n",
      "292/292 [==============================] - 0s 1ms/step - loss: 166843.4219 - mean_squared_error: 166843.4219\n",
      "Epoch 57/350\n",
      "292/292 [==============================] - 1s 2ms/step - loss: 166842.9531 - mean_squared_error: 166842.9531\n",
      "Epoch 58/350\n",
      "292/292 [==============================] - 1s 2ms/step - loss: 166790.4688 - mean_squared_error: 166790.4688\n",
      "Epoch 59/350\n",
      "292/292 [==============================] - 1s 2ms/step - loss: 167052.0312 - mean_squared_error: 167052.0312\n",
      "Epoch 60/350\n",
      "292/292 [==============================] - 1s 2ms/step - loss: 166873.9531 - mean_squared_error: 166873.9531\n",
      "Epoch 61/350\n",
      "292/292 [==============================] - 0s 2ms/step - loss: 167151.8281 - mean_squared_error: 167151.8281\n",
      "Epoch 62/350\n",
      "292/292 [==============================] - 0s 1ms/step - loss: 166815.8594 - mean_squared_error: 166815.8594\n",
      "Epoch 63/350\n",
      "292/292 [==============================] - 0s 1ms/step - loss: 166929.0625 - mean_squared_error: 166929.0625\n",
      "Epoch 64/350\n",
      "292/292 [==============================] - 0s 2ms/step - loss: 166870.7188 - mean_squared_error: 166870.7188\n",
      "Epoch 65/350\n",
      "292/292 [==============================] - 0s 1ms/step - loss: 166811.5312 - mean_squared_error: 166811.5312\n",
      "Epoch 66/350\n",
      "292/292 [==============================] - 0s 1ms/step - loss: 166847.3125 - mean_squared_error: 166847.3125\n",
      "Epoch 67/350\n",
      "292/292 [==============================] - 0s 1ms/step - loss: 166958.5938 - mean_squared_error: 166958.5938\n",
      "Epoch 68/350\n",
      "292/292 [==============================] - 0s 1ms/step - loss: 166833.4062 - mean_squared_error: 166833.4062\n",
      "Epoch 69/350\n",
      "292/292 [==============================] - 0s 1ms/step - loss: 166998.6094 - mean_squared_error: 166998.6094\n",
      "Epoch 70/350\n",
      "292/292 [==============================] - 0s 1ms/step - loss: 167026.0469 - mean_squared_error: 167026.0469\n",
      "Epoch 71/350\n",
      "292/292 [==============================] - 0s 1ms/step - loss: 166795.3594 - mean_squared_error: 166795.3594\n",
      "Epoch 72/350\n",
      "292/292 [==============================] - 0s 1ms/step - loss: 166845.4688 - mean_squared_error: 166845.4688\n",
      "Epoch 73/350\n",
      "292/292 [==============================] - 0s 1ms/step - loss: 166859.0312 - mean_squared_error: 166859.0312\n",
      "Epoch 74/350\n",
      "292/292 [==============================] - 0s 2ms/step - loss: 166750.8281 - mean_squared_error: 166750.8281\n",
      "Epoch 75/350\n",
      "292/292 [==============================] - 0s 1ms/step - loss: 166824.7656 - mean_squared_error: 166824.7656\n",
      "Epoch 76/350\n",
      "292/292 [==============================] - 0s 1ms/step - loss: 166766.8281 - mean_squared_error: 166766.8281\n",
      "Epoch 77/350\n",
      "292/292 [==============================] - 0s 2ms/step - loss: 166867.2188 - mean_squared_error: 166867.2188\n",
      "Epoch 78/350\n",
      "292/292 [==============================] - 0s 2ms/step - loss: 166811.2188 - mean_squared_error: 166811.2188\n",
      "Epoch 79/350\n",
      "292/292 [==============================] - 1s 2ms/step - loss: 166748.6250 - mean_squared_error: 166748.6250\n",
      "Epoch 80/350\n",
      "292/292 [==============================] - 1s 2ms/step - loss: 166818.2188 - mean_squared_error: 166818.2188\n",
      "Epoch 81/350\n",
      "292/292 [==============================] - 0s 2ms/step - loss: 166785.2344 - mean_squared_error: 166785.2344\n",
      "Epoch 82/350\n",
      "292/292 [==============================] - 0s 2ms/step - loss: 166785.1719 - mean_squared_error: 166785.1719\n",
      "Epoch 83/350\n",
      "292/292 [==============================] - 0s 2ms/step - loss: 166793.2812 - mean_squared_error: 166793.2812\n",
      "Epoch 84/350\n",
      "292/292 [==============================] - 0s 2ms/step - loss: 166750.9844 - mean_squared_error: 166750.9844\n",
      "Epoch 85/350\n",
      "292/292 [==============================] - 0s 2ms/step - loss: 166849.7500 - mean_squared_error: 166849.7500\n",
      "Epoch 86/350\n",
      "292/292 [==============================] - 1s 2ms/step - loss: 166843.9844 - mean_squared_error: 166843.9844\n",
      "Epoch 87/350\n",
      "292/292 [==============================] - 1s 3ms/step - loss: 166764.5156 - mean_squared_error: 166764.5156\n",
      "Epoch 88/350\n",
      "292/292 [==============================] - 1s 2ms/step - loss: 166906.3594 - mean_squared_error: 166906.3594\n",
      "Epoch 89/350\n",
      "292/292 [==============================] - 1s 2ms/step - loss: 166725.6875 - mean_squared_error: 166725.6875\n",
      "Epoch 90/350\n",
      "292/292 [==============================] - 1s 2ms/step - loss: 166815.7344 - mean_squared_error: 166815.7344\n",
      "Epoch 91/350\n",
      "292/292 [==============================] - 0s 2ms/step - loss: 166840.5000 - mean_squared_error: 166840.5000\n",
      "Epoch 92/350\n",
      "292/292 [==============================] - 0s 2ms/step - loss: 166714.8281 - mean_squared_error: 166714.8281\n",
      "Epoch 93/350\n",
      "292/292 [==============================] - 1s 2ms/step - loss: 166723.8125 - mean_squared_error: 166723.8125\n",
      "Epoch 94/350\n",
      "292/292 [==============================] - 0s 1ms/step - loss: 166877.7969 - mean_squared_error: 166877.7969\n",
      "Epoch 95/350\n",
      "292/292 [==============================] - 0s 1ms/step - loss: 166747.0000 - mean_squared_error: 166747.0000\n",
      "Epoch 96/350\n",
      "292/292 [==============================] - 0s 2ms/step - loss: 166730.6719 - mean_squared_error: 166730.6719\n",
      "Epoch 97/350\n",
      "292/292 [==============================] - 0s 2ms/step - loss: 166711.6875 - mean_squared_error: 166711.6875\n",
      "Epoch 98/350\n",
      "292/292 [==============================] - 1s 2ms/step - loss: 166763.4062 - mean_squared_error: 166763.4062\n",
      "Epoch 99/350\n",
      "292/292 [==============================] - 1s 2ms/step - loss: 166759.4062 - mean_squared_error: 166759.4062\n",
      "Epoch 100/350\n",
      "292/292 [==============================] - 0s 2ms/step - loss: 166707.3594 - mean_squared_error: 166707.3594\n",
      "Epoch 101/350\n",
      "292/292 [==============================] - 0s 1ms/step - loss: 166750.2812 - mean_squared_error: 166750.2812\n",
      "Epoch 102/350\n",
      "292/292 [==============================] - 0s 1ms/step - loss: 166875.0469 - mean_squared_error: 166875.0469\n",
      "Epoch 103/350\n",
      "292/292 [==============================] - 0s 1ms/step - loss: 166751.2500 - mean_squared_error: 166751.2500\n",
      "Epoch 104/350\n",
      "292/292 [==============================] - 1s 2ms/step - loss: 166763.9688 - mean_squared_error: 166763.9688\n",
      "Epoch 105/350\n",
      "292/292 [==============================] - 1s 2ms/step - loss: 166781.0469 - mean_squared_error: 166781.0469\n",
      "Epoch 106/350\n",
      "292/292 [==============================] - 0s 2ms/step - loss: 166780.2188 - mean_squared_error: 166780.2188\n",
      "Epoch 107/350\n",
      "292/292 [==============================] - 0s 1ms/step - loss: 166807.5312 - mean_squared_error: 166807.5312\n",
      "Epoch 108/350\n",
      "292/292 [==============================] - 0s 1ms/step - loss: 166659.0469 - mean_squared_error: 166659.0469\n",
      "Epoch 109/350\n",
      "292/292 [==============================] - 0s 1ms/step - loss: 166742.3750 - mean_squared_error: 166742.3750\n",
      "Epoch 110/350\n",
      "292/292 [==============================] - 0s 2ms/step - loss: 166743.0938 - mean_squared_error: 166743.0938\n",
      "Epoch 111/350\n",
      "292/292 [==============================] - 0s 1ms/step - loss: 166738.8438 - mean_squared_error: 166738.8438\n",
      "Epoch 112/350\n",
      "292/292 [==============================] - 0s 1ms/step - loss: 166847.6250 - mean_squared_error: 166847.6250\n",
      "Epoch 113/350\n",
      "292/292 [==============================] - 0s 2ms/step - loss: 166725.7344 - mean_squared_error: 166725.7344\n",
      "Epoch 114/350\n",
      "292/292 [==============================] - 0s 1ms/step - loss: 166635.7969 - mean_squared_error: 166635.7969\n",
      "Epoch 115/350\n",
      "292/292 [==============================] - 1s 2ms/step - loss: 166568.8750 - mean_squared_error: 166568.8750\n",
      "Epoch 116/350\n",
      "292/292 [==============================] - 1s 4ms/step - loss: 166734.9062 - mean_squared_error: 166734.9062\n",
      "Epoch 117/350\n",
      "292/292 [==============================] - 1s 2ms/step - loss: 166672.9219 - mean_squared_error: 166672.9219\n",
      "Epoch 118/350\n",
      "292/292 [==============================] - 1s 2ms/step - loss: 166718.0156 - mean_squared_error: 166718.0156\n",
      "Epoch 119/350\n",
      "292/292 [==============================] - 1s 2ms/step - loss: 166610.6250 - mean_squared_error: 166610.6250\n",
      "Epoch 120/350\n",
      "292/292 [==============================] - 0s 1ms/step - loss: 166712.0312 - mean_squared_error: 166712.0312\n",
      "Epoch 121/350\n",
      "292/292 [==============================] - 0s 1ms/step - loss: 166664.8906 - mean_squared_error: 166664.8906\n",
      "Epoch 122/350\n",
      "292/292 [==============================] - 1s 3ms/step - loss: 166677.8125 - mean_squared_error: 166677.8125\n",
      "Epoch 123/350\n",
      "292/292 [==============================] - 0s 1ms/step - loss: 166672.3594 - mean_squared_error: 166672.3594\n",
      "Epoch 124/350\n",
      "292/292 [==============================] - 1s 2ms/step - loss: 166661.3906 - mean_squared_error: 166661.3906\n",
      "Epoch 125/350\n",
      "292/292 [==============================] - 0s 1ms/step - loss: 166668.2500 - mean_squared_error: 166668.2500\n",
      "Epoch 126/350\n",
      "292/292 [==============================] - 1s 2ms/step - loss: 166552.4531 - mean_squared_error: 166552.4531\n",
      "Epoch 127/350\n",
      "292/292 [==============================] - 1s 2ms/step - loss: 166702.1094 - mean_squared_error: 166702.1094\n",
      "Epoch 128/350\n",
      "292/292 [==============================] - 1s 3ms/step - loss: 166663.6719 - mean_squared_error: 166663.6719\n",
      "Epoch 129/350\n",
      "292/292 [==============================] - 0s 2ms/step - loss: 166746.7500 - mean_squared_error: 166746.7500\n",
      "Epoch 130/350\n",
      "292/292 [==============================] - 1s 2ms/step - loss: 166639.1406 - mean_squared_error: 166639.1406\n",
      "Epoch 131/350\n",
      "292/292 [==============================] - 1s 2ms/step - loss: 166694.8594 - mean_squared_error: 166694.8594\n",
      "Epoch 132/350\n",
      "292/292 [==============================] - 1s 2ms/step - loss: 166578.9219 - mean_squared_error: 166578.9219\n",
      "Epoch 133/350\n",
      "292/292 [==============================] - 0s 2ms/step - loss: 166636.9219 - mean_squared_error: 166636.9219\n",
      "Epoch 134/350\n",
      "292/292 [==============================] - 1s 3ms/step - loss: 166566.7188 - mean_squared_error: 166566.7188\n",
      "Epoch 135/350\n",
      "292/292 [==============================] - 0s 1ms/step - loss: 166788.6719 - mean_squared_error: 166788.6719\n",
      "Epoch 136/350\n",
      "292/292 [==============================] - 0s 1ms/step - loss: 166549.5000 - mean_squared_error: 166549.5000\n",
      "Epoch 137/350\n",
      "292/292 [==============================] - 0s 1ms/step - loss: 166550.2812 - mean_squared_error: 166550.2812\n",
      "Epoch 138/350\n",
      "292/292 [==============================] - 0s 2ms/step - loss: 166600.6406 - mean_squared_error: 166600.6406\n",
      "Epoch 139/350\n",
      "292/292 [==============================] - 0s 2ms/step - loss: 166654.2656 - mean_squared_error: 166654.2656\n",
      "Epoch 140/350\n",
      "292/292 [==============================] - 1s 2ms/step - loss: 166608.2969 - mean_squared_error: 166608.2969\n",
      "Epoch 141/350\n",
      "292/292 [==============================] - 1s 3ms/step - loss: 166568.7031 - mean_squared_error: 166568.7031\n",
      "Epoch 142/350\n",
      "292/292 [==============================] - 1s 2ms/step - loss: 166617.9844 - mean_squared_error: 166617.9844\n",
      "Epoch 143/350\n",
      "292/292 [==============================] - 0s 2ms/step - loss: 166625.8125 - mean_squared_error: 166625.8125\n",
      "Epoch 144/350\n",
      "292/292 [==============================] - 0s 2ms/step - loss: 166506.5938 - mean_squared_error: 166506.5938\n",
      "Epoch 145/350\n",
      "292/292 [==============================] - 0s 1ms/step - loss: 166568.8594 - mean_squared_error: 166568.8594\n",
      "Epoch 146/350\n",
      "292/292 [==============================] - 0s 2ms/step - loss: 166575.7188 - mean_squared_error: 166575.7188\n",
      "Epoch 147/350\n",
      "292/292 [==============================] - 1s 2ms/step - loss: 166620.3594 - mean_squared_error: 166620.3594\n",
      "Epoch 148/350\n",
      "292/292 [==============================] - 1s 3ms/step - loss: 166595.6562 - mean_squared_error: 166595.6562\n",
      "Epoch 149/350\n",
      "292/292 [==============================] - 1s 2ms/step - loss: 166613.6719 - mean_squared_error: 166613.6719\n",
      "Epoch 150/350\n",
      "292/292 [==============================] - 0s 2ms/step - loss: 166604.3281 - mean_squared_error: 166604.3281\n",
      "Epoch 151/350\n",
      "292/292 [==============================] - 0s 1ms/step - loss: 166651.1406 - mean_squared_error: 166651.1406\n",
      "Epoch 152/350\n",
      "292/292 [==============================] - 0s 1ms/step - loss: 166523.0000 - mean_squared_error: 166523.0000\n",
      "Epoch 153/350\n",
      "292/292 [==============================] - 0s 1ms/step - loss: 166516.4375 - mean_squared_error: 166516.4375\n",
      "Epoch 154/350\n",
      "292/292 [==============================] - 0s 1ms/step - loss: 166688.5469 - mean_squared_error: 166688.5469\n",
      "Epoch 155/350\n",
      "292/292 [==============================] - 0s 1ms/step - loss: 166546.6562 - mean_squared_error: 166546.6562\n",
      "Epoch 156/350\n",
      "292/292 [==============================] - 0s 1ms/step - loss: 166509.5312 - mean_squared_error: 166509.5312\n",
      "Epoch 157/350\n",
      "292/292 [==============================] - 0s 1ms/step - loss: 166461.0312 - mean_squared_error: 166461.0312\n",
      "Epoch 158/350\n",
      "292/292 [==============================] - 0s 1ms/step - loss: 166590.9688 - mean_squared_error: 166590.9688\n",
      "Epoch 159/350\n",
      "292/292 [==============================] - 1s 2ms/step - loss: 166528.4062 - mean_squared_error: 166528.4062\n",
      "Epoch 160/350\n",
      "292/292 [==============================] - 1s 2ms/step - loss: 166656.3281 - mean_squared_error: 166656.3281\n",
      "Epoch 161/350\n",
      "292/292 [==============================] - 0s 1ms/step - loss: 166533.3594 - mean_squared_error: 166533.3594\n",
      "Epoch 162/350\n",
      "292/292 [==============================] - 0s 1ms/step - loss: 166459.2031 - mean_squared_error: 166459.2031\n",
      "Epoch 163/350\n",
      "292/292 [==============================] - 0s 1ms/step - loss: 166614.1562 - mean_squared_error: 166614.1562\n",
      "Epoch 164/350\n",
      "292/292 [==============================] - 1s 3ms/step - loss: 166466.0469 - mean_squared_error: 166466.0469\n",
      "Epoch 165/350\n",
      "292/292 [==============================] - 0s 2ms/step - loss: 166496.7812 - mean_squared_error: 166496.7812\n",
      "Epoch 166/350\n",
      "292/292 [==============================] - 0s 1ms/step - loss: 166555.1562 - mean_squared_error: 166555.1562\n",
      "Epoch 167/350\n",
      "292/292 [==============================] - 1s 2ms/step - loss: 166500.5625 - mean_squared_error: 166500.5625\n",
      "Epoch 168/350\n",
      "292/292 [==============================] - 1s 2ms/step - loss: 166381.5469 - mean_squared_error: 166381.5469\n",
      "Epoch 169/350\n",
      "292/292 [==============================] - 1s 2ms/step - loss: 166534.9375 - mean_squared_error: 166534.9375\n",
      "Epoch 170/350\n",
      "292/292 [==============================] - 1s 2ms/step - loss: 166618.0156 - mean_squared_error: 166618.0156\n",
      "Epoch 171/350\n",
      "292/292 [==============================] - 0s 1ms/step - loss: 166395.4531 - mean_squared_error: 166395.4531\n",
      "Epoch 172/350\n",
      "292/292 [==============================] - 0s 1ms/step - loss: 166409.0156 - mean_squared_error: 166409.0156\n",
      "Epoch 173/350\n",
      "292/292 [==============================] - 0s 1ms/step - loss: 166452.3750 - mean_squared_error: 166452.3750\n",
      "Epoch 174/350\n",
      "292/292 [==============================] - 0s 1ms/step - loss: 166366.7656 - mean_squared_error: 166366.7656\n",
      "Epoch 175/350\n",
      "292/292 [==============================] - 0s 1ms/step - loss: 166445.4062 - mean_squared_error: 166445.4062\n",
      "Epoch 176/350\n",
      "292/292 [==============================] - 0s 1ms/step - loss: 166366.5781 - mean_squared_error: 166366.5781\n",
      "Epoch 177/350\n",
      "292/292 [==============================] - 1s 2ms/step - loss: 166403.4844 - mean_squared_error: 166403.4844\n",
      "Epoch 178/350\n",
      "292/292 [==============================] - 0s 1ms/step - loss: 166392.8750 - mean_squared_error: 166392.8750\n",
      "Epoch 179/350\n",
      "292/292 [==============================] - 0s 2ms/step - loss: 166382.7969 - mean_squared_error: 166382.7969\n",
      "Epoch 180/350\n",
      "292/292 [==============================] - 0s 1ms/step - loss: 166429.0625 - mean_squared_error: 166429.0625\n",
      "Epoch 181/350\n",
      "292/292 [==============================] - 0s 1ms/step - loss: 166332.3750 - mean_squared_error: 166332.3750\n",
      "Epoch 182/350\n",
      "292/292 [==============================] - 0s 2ms/step - loss: 166417.9219 - mean_squared_error: 166417.9219\n",
      "Epoch 183/350\n",
      "292/292 [==============================] - 0s 1ms/step - loss: 166363.0625 - mean_squared_error: 166363.0625\n",
      "Epoch 184/350\n",
      "292/292 [==============================] - 0s 1ms/step - loss: 166239.3125 - mean_squared_error: 166239.3125\n",
      "Epoch 185/350\n",
      "292/292 [==============================] - 0s 1ms/step - loss: 166287.2188 - mean_squared_error: 166287.2188\n",
      "Epoch 186/350\n",
      "292/292 [==============================] - 1s 3ms/step - loss: 166298.5469 - mean_squared_error: 166298.5469\n",
      "Epoch 187/350\n",
      "292/292 [==============================] - 1s 2ms/step - loss: 166349.5156 - mean_squared_error: 166349.5156\n",
      "Epoch 188/350\n",
      "292/292 [==============================] - 0s 1ms/step - loss: 166356.0312 - mean_squared_error: 166356.0312\n",
      "Epoch 189/350\n",
      "292/292 [==============================] - 0s 2ms/step - loss: 166345.7500 - mean_squared_error: 166345.7500\n",
      "Epoch 190/350\n",
      "292/292 [==============================] - 0s 1ms/step - loss: 166416.8281 - mean_squared_error: 166416.8281\n",
      "Epoch 191/350\n",
      "292/292 [==============================] - 0s 1ms/step - loss: 166379.1094 - mean_squared_error: 166379.1094\n",
      "Epoch 192/350\n",
      "292/292 [==============================] - 0s 1ms/step - loss: 166241.4531 - mean_squared_error: 166241.4531\n",
      "Epoch 193/350\n",
      "292/292 [==============================] - 1s 2ms/step - loss: 166311.0156 - mean_squared_error: 166311.0156\n",
      "Epoch 194/350\n",
      "292/292 [==============================] - 1s 2ms/step - loss: 166287.5469 - mean_squared_error: 166287.5469\n",
      "Epoch 195/350\n",
      "292/292 [==============================] - 1s 2ms/step - loss: 166364.2969 - mean_squared_error: 166364.2969\n",
      "Epoch 196/350\n",
      "292/292 [==============================] - 0s 2ms/step - loss: 166348.8906 - mean_squared_error: 166348.8906\n",
      "Epoch 197/350\n",
      "292/292 [==============================] - 1s 3ms/step - loss: 166395.4375 - mean_squared_error: 166395.4375\n",
      "Epoch 198/350\n",
      "292/292 [==============================] - 0s 2ms/step - loss: 166420.8125 - mean_squared_error: 166420.8125\n",
      "Epoch 199/350\n",
      "292/292 [==============================] - 1s 2ms/step - loss: 166218.9219 - mean_squared_error: 166218.9219\n",
      "Epoch 200/350\n",
      "292/292 [==============================] - 0s 1ms/step - loss: 166222.3281 - mean_squared_error: 166222.3281\n",
      "Epoch 201/350\n",
      "292/292 [==============================] - 0s 1ms/step - loss: 166382.0938 - mean_squared_error: 166382.0938\n",
      "Epoch 202/350\n",
      "292/292 [==============================] - 0s 1ms/step - loss: 166385.6094 - mean_squared_error: 166385.6094\n",
      "Epoch 203/350\n",
      "292/292 [==============================] - 0s 1ms/step - loss: 166459.3438 - mean_squared_error: 166459.3438\n",
      "Epoch 204/350\n",
      "292/292 [==============================] - 0s 1ms/step - loss: 166173.9531 - mean_squared_error: 166173.9531\n",
      "Epoch 205/350\n",
      "292/292 [==============================] - 0s 1ms/step - loss: 166271.8281 - mean_squared_error: 166271.8281\n",
      "Epoch 206/350\n",
      "292/292 [==============================] - 0s 1ms/step - loss: 166308.7969 - mean_squared_error: 166308.7969\n",
      "Epoch 207/350\n",
      "292/292 [==============================] - 1s 2ms/step - loss: 166307.8906 - mean_squared_error: 166307.8906\n",
      "Epoch 208/350\n",
      "292/292 [==============================] - 0s 1ms/step - loss: 166238.5000 - mean_squared_error: 166238.5000\n",
      "Epoch 209/350\n",
      "292/292 [==============================] - 0s 1ms/step - loss: 166233.0000 - mean_squared_error: 166233.0000\n",
      "Epoch 210/350\n",
      "292/292 [==============================] - 0s 1ms/step - loss: 166211.5000 - mean_squared_error: 166211.5000\n",
      "Epoch 211/350\n",
      "292/292 [==============================] - 0s 1ms/step - loss: 166258.4844 - mean_squared_error: 166258.4844\n",
      "Epoch 212/350\n",
      "292/292 [==============================] - 0s 1ms/step - loss: 166243.5312 - mean_squared_error: 166243.5312\n",
      "Epoch 213/350\n",
      "292/292 [==============================] - 0s 1ms/step - loss: 166211.3750 - mean_squared_error: 166211.3750\n",
      "Epoch 214/350\n",
      "292/292 [==============================] - 0s 1ms/step - loss: 166211.0938 - mean_squared_error: 166211.0938\n",
      "Epoch 215/350\n",
      "292/292 [==============================] - 0s 1ms/step - loss: 166228.6094 - mean_squared_error: 166228.6094\n",
      "Epoch 216/350\n",
      "292/292 [==============================] - 0s 1ms/step - loss: 166379.6406 - mean_squared_error: 166379.6406\n",
      "Epoch 217/350\n",
      "292/292 [==============================] - 0s 1ms/step - loss: 166124.3594 - mean_squared_error: 166124.3594\n",
      "Epoch 218/350\n",
      "292/292 [==============================] - 0s 1ms/step - loss: 166161.7969 - mean_squared_error: 166161.7969\n",
      "Epoch 219/350\n",
      "292/292 [==============================] - 1s 2ms/step - loss: 166150.4219 - mean_squared_error: 166150.4219\n",
      "Epoch 220/350\n",
      "292/292 [==============================] - 0s 1ms/step - loss: 166233.7969 - mean_squared_error: 166233.7969\n",
      "Epoch 221/350\n",
      "292/292 [==============================] - 0s 2ms/step - loss: 166196.3906 - mean_squared_error: 166196.3906\n",
      "Epoch 222/350\n",
      "292/292 [==============================] - 0s 1ms/step - loss: 166209.8594 - mean_squared_error: 166209.8594\n",
      "Epoch 223/350\n",
      "292/292 [==============================] - 1s 2ms/step - loss: 166167.2969 - mean_squared_error: 166167.2969\n",
      "Epoch 224/350\n",
      "292/292 [==============================] - 0s 2ms/step - loss: 166223.6719 - mean_squared_error: 166223.6719\n",
      "Epoch 225/350\n",
      "292/292 [==============================] - 0s 1ms/step - loss: 166342.2500 - mean_squared_error: 166342.2500\n",
      "Epoch 226/350\n",
      "292/292 [==============================] - 0s 1ms/step - loss: 166067.7812 - mean_squared_error: 166067.7812\n",
      "Epoch 227/350\n",
      "292/292 [==============================] - 0s 1ms/step - loss: 166085.5156 - mean_squared_error: 166085.5156\n",
      "Epoch 228/350\n",
      "292/292 [==============================] - 0s 1ms/step - loss: 166112.4844 - mean_squared_error: 166112.4844\n",
      "Epoch 229/350\n",
      "292/292 [==============================] - 0s 1ms/step - loss: 166215.4844 - mean_squared_error: 166215.4844\n",
      "Epoch 230/350\n",
      "292/292 [==============================] - 0s 1ms/step - loss: 166092.7656 - mean_squared_error: 166092.7656\n",
      "Epoch 231/350\n",
      "292/292 [==============================] - 0s 1ms/step - loss: 166018.3906 - mean_squared_error: 166018.3906\n",
      "Epoch 232/350\n",
      "292/292 [==============================] - 0s 1ms/step - loss: 166072.1875 - mean_squared_error: 166072.1875\n",
      "Epoch 233/350\n",
      "292/292 [==============================] - 1s 2ms/step - loss: 166170.9375 - mean_squared_error: 166170.9375\n",
      "Epoch 234/350\n",
      "292/292 [==============================] - 0s 1ms/step - loss: 166079.1406 - mean_squared_error: 166079.1406\n",
      "Epoch 235/350\n",
      "292/292 [==============================] - 0s 1ms/step - loss: 166180.1250 - mean_squared_error: 166180.1250\n",
      "Epoch 236/350\n",
      "292/292 [==============================] - 0s 1ms/step - loss: 166193.1094 - mean_squared_error: 166193.1094\n",
      "Epoch 237/350\n",
      "292/292 [==============================] - 0s 1ms/step - loss: 166195.4219 - mean_squared_error: 166195.4219\n",
      "Epoch 238/350\n",
      "292/292 [==============================] - 0s 1ms/step - loss: 166199.2656 - mean_squared_error: 166199.2656\n",
      "Epoch 239/350\n",
      "292/292 [==============================] - 0s 1ms/step - loss: 166021.4062 - mean_squared_error: 166021.4062\n",
      "Epoch 240/350\n",
      "292/292 [==============================] - 0s 1ms/step - loss: 166157.2969 - mean_squared_error: 166157.2969\n",
      "Epoch 241/350\n",
      "292/292 [==============================] - 1s 2ms/step - loss: 166093.2969 - mean_squared_error: 166093.2969\n",
      "Epoch 242/350\n",
      "292/292 [==============================] - 1s 2ms/step - loss: 166021.5156 - mean_squared_error: 166021.5156\n",
      "Epoch 243/350\n",
      "292/292 [==============================] - 0s 1ms/step - loss: 166097.9688 - mean_squared_error: 166097.9688\n",
      "Epoch 244/350\n",
      "292/292 [==============================] - 1s 2ms/step - loss: 166044.0156 - mean_squared_error: 166044.0156\n",
      "Epoch 245/350\n",
      "292/292 [==============================] - 1s 2ms/step - loss: 166094.4688 - mean_squared_error: 166094.4688\n",
      "Epoch 246/350\n",
      "292/292 [==============================] - 0s 1ms/step - loss: 165997.3125 - mean_squared_error: 165997.3125\n",
      "Epoch 247/350\n",
      "292/292 [==============================] - 0s 1ms/step - loss: 165995.3438 - mean_squared_error: 165995.3438\n",
      "Epoch 248/350\n",
      "292/292 [==============================] - 0s 1ms/step - loss: 165948.6562 - mean_squared_error: 165948.6562\n",
      "Epoch 249/350\n",
      "292/292 [==============================] - 0s 1ms/step - loss: 165980.1406 - mean_squared_error: 165980.1406\n",
      "Epoch 250/350\n",
      "292/292 [==============================] - 0s 1ms/step - loss: 166095.3750 - mean_squared_error: 166095.3750\n",
      "Epoch 251/350\n",
      "292/292 [==============================] - 0s 1ms/step - loss: 165973.9219 - mean_squared_error: 165973.9219\n",
      "Epoch 252/350\n",
      "292/292 [==============================] - 0s 1ms/step - loss: 165967.0000 - mean_squared_error: 165967.0000\n",
      "Epoch 253/350\n",
      "292/292 [==============================] - 0s 1ms/step - loss: 166126.2656 - mean_squared_error: 166126.2656\n",
      "Epoch 254/350\n",
      "292/292 [==============================] - 0s 1ms/step - loss: 165927.2188 - mean_squared_error: 165927.2188\n",
      "Epoch 255/350\n",
      "292/292 [==============================] - 0s 1ms/step - loss: 166075.4219 - mean_squared_error: 166075.4219\n",
      "Epoch 256/350\n",
      "292/292 [==============================] - 0s 1ms/step - loss: 165991.7344 - mean_squared_error: 165991.7344\n",
      "Epoch 257/350\n",
      "292/292 [==============================] - 0s 1ms/step - loss: 165956.5625 - mean_squared_error: 165956.5625\n",
      "Epoch 258/350\n",
      "292/292 [==============================] - 0s 1ms/step - loss: 165971.2500 - mean_squared_error: 165971.2500\n",
      "Epoch 259/350\n",
      "292/292 [==============================] - 0s 1ms/step - loss: 165897.7812 - mean_squared_error: 165897.7812\n",
      "Epoch 260/350\n",
      "292/292 [==============================] - 0s 1ms/step - loss: 165919.0938 - mean_squared_error: 165919.0938\n",
      "Epoch 261/350\n",
      "292/292 [==============================] - 0s 1ms/step - loss: 165908.2500 - mean_squared_error: 165908.2500\n",
      "Epoch 262/350\n",
      "292/292 [==============================] - 0s 1ms/step - loss: 165856.3906 - mean_squared_error: 165856.3906\n",
      "Epoch 263/350\n",
      "292/292 [==============================] - 0s 1ms/step - loss: 165916.5625 - mean_squared_error: 165916.5625\n",
      "Epoch 264/350\n",
      "292/292 [==============================] - 0s 1ms/step - loss: 165974.1562 - mean_squared_error: 165974.1562\n",
      "Epoch 265/350\n",
      "292/292 [==============================] - 0s 1ms/step - loss: 165861.1562 - mean_squared_error: 165861.1562\n",
      "Epoch 266/350\n",
      "292/292 [==============================] - 0s 1ms/step - loss: 165935.6094 - mean_squared_error: 165935.6094\n",
      "Epoch 267/350\n",
      "292/292 [==============================] - 0s 1ms/step - loss: 165796.9844 - mean_squared_error: 165796.9844\n",
      "Epoch 268/350\n",
      "292/292 [==============================] - 0s 1ms/step - loss: 165912.1719 - mean_squared_error: 165912.1719\n",
      "Epoch 269/350\n",
      "292/292 [==============================] - 0s 1ms/step - loss: 165915.2969 - mean_squared_error: 165915.2969\n",
      "Epoch 270/350\n",
      "292/292 [==============================] - 0s 1ms/step - loss: 166015.0625 - mean_squared_error: 166015.0625\n",
      "Epoch 271/350\n",
      "292/292 [==============================] - 0s 1ms/step - loss: 165862.5312 - mean_squared_error: 165862.5312\n",
      "Epoch 272/350\n",
      "292/292 [==============================] - 0s 1ms/step - loss: 165859.2812 - mean_squared_error: 165859.2812\n",
      "Epoch 273/350\n",
      "292/292 [==============================] - 0s 1ms/step - loss: 165799.2969 - mean_squared_error: 165799.2969\n",
      "Epoch 274/350\n",
      "292/292 [==============================] - 0s 1ms/step - loss: 165779.2812 - mean_squared_error: 165779.2812\n",
      "Epoch 275/350\n",
      "292/292 [==============================] - 0s 1ms/step - loss: 165763.1094 - mean_squared_error: 165763.1094\n",
      "Epoch 276/350\n",
      "292/292 [==============================] - 0s 1ms/step - loss: 165848.4062 - mean_squared_error: 165848.4062\n",
      "Epoch 277/350\n",
      "292/292 [==============================] - 0s 2ms/step - loss: 165669.3438 - mean_squared_error: 165669.3438\n",
      "Epoch 278/350\n",
      "292/292 [==============================] - 0s 1ms/step - loss: 165894.6719 - mean_squared_error: 165894.6719\n",
      "Epoch 279/350\n",
      "292/292 [==============================] - 0s 1ms/step - loss: 165770.3125 - mean_squared_error: 165770.3125\n",
      "Epoch 280/350\n",
      "292/292 [==============================] - 0s 1ms/step - loss: 165878.6562 - mean_squared_error: 165878.6562\n",
      "Epoch 281/350\n",
      "292/292 [==============================] - 1s 2ms/step - loss: 165726.9688 - mean_squared_error: 165726.9688\n",
      "Epoch 282/350\n",
      "292/292 [==============================] - 0s 1ms/step - loss: 165760.2812 - mean_squared_error: 165760.2812\n",
      "Epoch 283/350\n",
      "292/292 [==============================] - 0s 1ms/step - loss: 165708.2656 - mean_squared_error: 165708.2656\n",
      "Epoch 284/350\n",
      "292/292 [==============================] - 0s 1ms/step - loss: 165885.3906 - mean_squared_error: 165885.3906\n",
      "Epoch 285/350\n",
      "292/292 [==============================] - 0s 1ms/step - loss: 165680.0781 - mean_squared_error: 165680.0781\n",
      "Epoch 286/350\n",
      "292/292 [==============================] - 0s 1ms/step - loss: 165712.2812 - mean_squared_error: 165712.2812\n",
      "Epoch 287/350\n",
      "292/292 [==============================] - 0s 1ms/step - loss: 165689.8281 - mean_squared_error: 165689.8281\n",
      "Epoch 288/350\n",
      "292/292 [==============================] - 0s 1ms/step - loss: 165723.7031 - mean_squared_error: 165723.7031\n",
      "Epoch 289/350\n",
      "292/292 [==============================] - 0s 1ms/step - loss: 165673.2812 - mean_squared_error: 165673.2812\n",
      "Epoch 290/350\n",
      "292/292 [==============================] - 0s 1ms/step - loss: 165564.2656 - mean_squared_error: 165564.2656\n",
      "Epoch 291/350\n",
      "292/292 [==============================] - 0s 1ms/step - loss: 165595.0312 - mean_squared_error: 165595.0312\n",
      "Epoch 292/350\n",
      "292/292 [==============================] - 0s 1ms/step - loss: 165622.0781 - mean_squared_error: 165622.0781\n",
      "Epoch 293/350\n",
      "292/292 [==============================] - 0s 1ms/step - loss: 165503.1250 - mean_squared_error: 165503.1250\n",
      "Epoch 294/350\n",
      "292/292 [==============================] - 0s 1ms/step - loss: 165663.0781 - mean_squared_error: 165663.0781\n",
      "Epoch 295/350\n",
      "292/292 [==============================] - 0s 1ms/step - loss: 165574.3750 - mean_squared_error: 165574.3750\n",
      "Epoch 296/350\n",
      "292/292 [==============================] - 0s 1ms/step - loss: 165621.5000 - mean_squared_error: 165621.5000\n",
      "Epoch 297/350\n",
      "292/292 [==============================] - 0s 1ms/step - loss: 165514.8594 - mean_squared_error: 165514.8594\n",
      "Epoch 298/350\n",
      "292/292 [==============================] - 0s 1ms/step - loss: 165577.7500 - mean_squared_error: 165577.7500\n",
      "Epoch 299/350\n",
      "292/292 [==============================] - 0s 1ms/step - loss: 165559.1406 - mean_squared_error: 165559.1406\n",
      "Epoch 300/350\n",
      "292/292 [==============================] - 0s 1ms/step - loss: 165505.1875 - mean_squared_error: 165505.1875\n",
      "Epoch 301/350\n",
      "292/292 [==============================] - 0s 1ms/step - loss: 165501.3906 - mean_squared_error: 165501.3906\n",
      "Epoch 302/350\n",
      "292/292 [==============================] - 0s 1ms/step - loss: 165819.9375 - mean_squared_error: 165819.9375\n",
      "Epoch 303/350\n",
      "292/292 [==============================] - 0s 1ms/step - loss: 165628.1406 - mean_squared_error: 165628.1406\n",
      "Epoch 304/350\n",
      "292/292 [==============================] - 0s 1ms/step - loss: 165558.1250 - mean_squared_error: 165558.1250\n",
      "Epoch 305/350\n",
      "292/292 [==============================] - 0s 1ms/step - loss: 165487.5625 - mean_squared_error: 165487.5625\n",
      "Epoch 306/350\n",
      "292/292 [==============================] - 0s 1ms/step - loss: 165392.2031 - mean_squared_error: 165392.2031\n",
      "Epoch 307/350\n",
      "292/292 [==============================] - 0s 1ms/step - loss: 165609.5156 - mean_squared_error: 165609.5156\n",
      "Epoch 308/350\n",
      "292/292 [==============================] - 0s 1ms/step - loss: 165425.2188 - mean_squared_error: 165425.2188\n",
      "Epoch 309/350\n",
      "292/292 [==============================] - 0s 1ms/step - loss: 165387.2031 - mean_squared_error: 165387.2031\n",
      "Epoch 310/350\n",
      "292/292 [==============================] - 0s 1ms/step - loss: 165560.7344 - mean_squared_error: 165560.7344\n",
      "Epoch 311/350\n",
      "292/292 [==============================] - 0s 1ms/step - loss: 165322.9062 - mean_squared_error: 165322.9062\n",
      "Epoch 312/350\n",
      "292/292 [==============================] - 0s 1ms/step - loss: 165379.4688 - mean_squared_error: 165379.4688\n",
      "Epoch 313/350\n",
      "292/292 [==============================] - 0s 1ms/step - loss: 165358.9219 - mean_squared_error: 165358.9219\n",
      "Epoch 314/350\n",
      "292/292 [==============================] - 0s 1ms/step - loss: 165265.6875 - mean_squared_error: 165265.6875\n",
      "Epoch 315/350\n",
      "292/292 [==============================] - 0s 2ms/step - loss: 165328.9844 - mean_squared_error: 165328.9844\n",
      "Epoch 316/350\n",
      "292/292 [==============================] - 1s 2ms/step - loss: 165410.9062 - mean_squared_error: 165410.9062\n",
      "Epoch 317/350\n",
      "292/292 [==============================] - 0s 1ms/step - loss: 165342.2188 - mean_squared_error: 165342.2188\n",
      "Epoch 318/350\n",
      "292/292 [==============================] - 0s 1ms/step - loss: 165348.5781 - mean_squared_error: 165348.5781\n",
      "Epoch 319/350\n",
      "292/292 [==============================] - 0s 1ms/step - loss: 165308.2031 - mean_squared_error: 165308.2031\n",
      "Epoch 320/350\n",
      "292/292 [==============================] - 0s 1ms/step - loss: 165251.5000 - mean_squared_error: 165251.5000\n",
      "Epoch 321/350\n",
      "292/292 [==============================] - 0s 1ms/step - loss: 165336.4062 - mean_squared_error: 165336.4062\n",
      "Epoch 322/350\n",
      "292/292 [==============================] - 0s 1ms/step - loss: 165279.4062 - mean_squared_error: 165279.4062\n",
      "Epoch 323/350\n",
      "292/292 [==============================] - 0s 1ms/step - loss: 165169.5625 - mean_squared_error: 165169.5625\n",
      "Epoch 324/350\n",
      "292/292 [==============================] - 0s 1ms/step - loss: 165299.9531 - mean_squared_error: 165299.9531\n",
      "Epoch 325/350\n",
      "292/292 [==============================] - 0s 2ms/step - loss: 165144.1562 - mean_squared_error: 165144.1562\n",
      "Epoch 326/350\n",
      "292/292 [==============================] - 1s 2ms/step - loss: 165239.2656 - mean_squared_error: 165239.2656\n",
      "Epoch 327/350\n",
      "292/292 [==============================] - 0s 2ms/step - loss: 165216.8281 - mean_squared_error: 165216.8281\n",
      "Epoch 328/350\n",
      "292/292 [==============================] - 1s 2ms/step - loss: 165134.8281 - mean_squared_error: 165134.8281\n",
      "Epoch 329/350\n",
      "292/292 [==============================] - 0s 1ms/step - loss: 165233.5156 - mean_squared_error: 165233.5156\n",
      "Epoch 330/350\n",
      "292/292 [==============================] - 0s 1ms/step - loss: 165189.7656 - mean_squared_error: 165189.7656\n",
      "Epoch 331/350\n",
      "292/292 [==============================] - 0s 1ms/step - loss: 165169.5781 - mean_squared_error: 165169.5781\n",
      "Epoch 332/350\n",
      "292/292 [==============================] - 0s 1ms/step - loss: 165040.1406 - mean_squared_error: 165040.1406\n",
      "Epoch 333/350\n",
      "292/292 [==============================] - 0s 1ms/step - loss: 165098.0469 - mean_squared_error: 165098.0469\n",
      "Epoch 334/350\n",
      "292/292 [==============================] - 0s 1ms/step - loss: 165125.3750 - mean_squared_error: 165125.3750\n",
      "Epoch 335/350\n",
      "292/292 [==============================] - 0s 1ms/step - loss: 164968.2969 - mean_squared_error: 164968.2969\n",
      "Epoch 336/350\n",
      "292/292 [==============================] - 0s 1ms/step - loss: 165193.6719 - mean_squared_error: 165193.6719\n",
      "Epoch 337/350\n",
      "292/292 [==============================] - 0s 1ms/step - loss: 165042.5000 - mean_squared_error: 165042.5000\n",
      "Epoch 338/350\n",
      "292/292 [==============================] - 0s 1ms/step - loss: 164815.6562 - mean_squared_error: 164815.6562\n",
      "Epoch 339/350\n",
      "292/292 [==============================] - 0s 1ms/step - loss: 164968.1875 - mean_squared_error: 164968.1875\n",
      "Epoch 340/350\n",
      "292/292 [==============================] - 0s 1ms/step - loss: 165070.9375 - mean_squared_error: 165070.9375\n",
      "Epoch 341/350\n",
      "292/292 [==============================] - 0s 1ms/step - loss: 164821.2656 - mean_squared_error: 164821.2656\n",
      "Epoch 342/350\n",
      "292/292 [==============================] - 0s 1ms/step - loss: 164898.2031 - mean_squared_error: 164898.2031\n",
      "Epoch 343/350\n",
      "292/292 [==============================] - 0s 1ms/step - loss: 164935.2031 - mean_squared_error: 164935.2031\n",
      "Epoch 344/350\n",
      "292/292 [==============================] - 0s 1ms/step - loss: 165071.3906 - mean_squared_error: 165071.3906\n",
      "Epoch 345/350\n",
      "292/292 [==============================] - 0s 1ms/step - loss: 164904.7188 - mean_squared_error: 164904.7188\n",
      "Epoch 346/350\n",
      "292/292 [==============================] - 0s 1ms/step - loss: 164917.5625 - mean_squared_error: 164917.5625\n",
      "Epoch 347/350\n",
      "292/292 [==============================] - 0s 1ms/step - loss: 165042.0625 - mean_squared_error: 165042.0625\n",
      "Epoch 348/350\n",
      "292/292 [==============================] - 0s 1ms/step - loss: 165042.7656 - mean_squared_error: 165042.7656\n",
      "Epoch 349/350\n",
      "292/292 [==============================] - 0s 2ms/step - loss: 164787.0312 - mean_squared_error: 164787.0312\n",
      "Epoch 350/350\n",
      "292/292 [==============================] - 0s 1ms/step - loss: 164977.5625 - mean_squared_error: 164977.5625\n"
     ]
    }
   ],
   "source": [
    "nn_model = create_model(x_train, y_train)"
   ]
  },
  {
   "cell_type": "code",
   "execution_count": 52,
   "metadata": {},
   "outputs": [
    {
     "data": {
      "text/plain": [
       "sqfeet       906.0\n",
       "beds           2.0\n",
       "baths          2.0\n",
       "income     33496.0\n",
       "density     2351.0\n",
       "Name: 84586, dtype: float64"
      ]
     },
     "execution_count": 52,
     "metadata": {},
     "output_type": "execute_result"
    }
   ],
   "source": [
    "x_test.iloc[0]"
   ]
  },
  {
   "cell_type": "code",
   "execution_count": 53,
   "metadata": {},
   "outputs": [
    {
     "data": {
      "text/plain": [
       "array([ 975.,  615.,  960., ..., 1650.,  940.,  985.])"
      ]
     },
     "execution_count": 53,
     "metadata": {},
     "output_type": "execute_result"
    }
   ],
   "source": [
    "y_test.to_numpy()"
   ]
  },
  {
   "cell_type": "code",
   "execution_count": 54,
   "metadata": {},
   "outputs": [
    {
     "data": {
      "text/plain": [
       "0.39553779611301243"
      ]
     },
     "execution_count": 54,
     "metadata": {},
     "output_type": "execute_result"
    }
   ],
   "source": [
    "y_pred = nn_model.predict(x_test)\n",
    "from sklearn.metrics import r2_score\n",
    "r2_score(y_test, y_pred)"
   ]
  },
  {
   "cell_type": "code",
   "execution_count": 55,
   "metadata": {},
   "outputs": [
    {
     "name": "stdout",
     "output_type": "stream",
     "text": [
      "2279/2279 [==============================] - 2s 992us/step - loss: 165308.9062 - mean_squared_error: 165308.9062\n"
     ]
    },
    {
     "data": {
      "text/plain": [
       "[165308.90625, 165308.90625]"
      ]
     },
     "execution_count": 55,
     "metadata": {},
     "output_type": "execute_result"
    }
   ],
   "source": [
    "nn_model.evaluate(x_test, y_test)"
   ]
  },
  {
   "cell_type": "code",
   "execution_count": 56,
   "metadata": {},
   "outputs": [],
   "source": [
    "nn_model.save('./outputs/rent_models/nn_model.h5')"
   ]
  },
  {
   "cell_type": "code",
   "execution_count": 57,
   "metadata": {},
   "outputs": [
    {
     "name": "stderr",
     "output_type": "stream",
     "text": [
      "/var/folders/4p/0tpbwp7d5fj91r2jb64xf4kh0000gn/T/ipykernel_19600/3089064041.py:3: DeprecationWarning: `import kerastuner` is deprecated, please use `import keras_tuner`.\n",
      "  from kerastuner.tuners import RandomSearch, Hyperband\n"
     ]
    }
   ],
   "source": [
    "# Tune the model\n",
    "import keras_tuner\n",
    "from kerastuner.tuners import RandomSearch, Hyperband"
   ]
  },
  {
   "cell_type": "code",
   "execution_count": 58,
   "metadata": {},
   "outputs": [],
   "source": [
    "def build_model(hp):\n",
    "    input_layer = Input(shape=(5, ))\n",
    "    x1 = Dense(hp.Choice('firstlayer', [16,24,32]), activation=hp.Choice(\"x1_activation\", ['relu', 'sigmoid', 'tanh']), kernel_initializer='normal')(input_layer)\n",
    "    x2 = Dense(hp.Choice('secondlayer', [4,5,8,16]), activation=hp.Choice(\"x2_activation\", ['relu', 'sigmoid', 'tanh']), kernel_initializer='normal')(x1)\n",
    "    x3 = Dense(hp.Choice('thirdlayer', [3,4,5,6,7,8]), activation=hp.Choice(\"x3_activation\", ['relu', 'sigmoid', 'tanh']), kernel_initializer='normal')(x2)\n",
    "    output = Dense(1, activation='linear', kernel_initializer='normal')(x3)\n",
    "\n",
    "    t_model = Model(inputs=input_layer, outputs=output)\n",
    "\n",
    "    t_model.compile(\n",
    "        loss='mean_squared_error',\n",
    "        optimizer=tf.keras.optimizers.Adam(hp.Choice('learning_rate', values=[1e-1, 1e-2, 1e-3, 1e-4])),\n",
    "        metrics=[\"mean_squared_error\"]\n",
    "    )\n",
    "    return t_model\n"
   ]
  },
  {
   "cell_type": "code",
   "execution_count": 60,
   "metadata": {},
   "outputs": [
    {
     "name": "stdout",
     "output_type": "stream",
     "text": [
      "Trial 38 Complete [00h 00m 40s]\n",
      "val_loss: 274218.3125\n",
      "\n",
      "Best val_loss So Far: 168970.234375\n",
      "Total elapsed time: 00h 29m 19s\n",
      "\n",
      "Search: Running Trial #39\n",
      "\n",
      "Value             |Best Value So Far |Hyperparameter\n",
      "24                |24                |firstlayer\n",
      "relu              |relu              |x1_activation\n",
      "16                |5                 |secondlayer\n",
      "sigmoid           |relu              |x2_activation\n",
      "7                 |6                 |thirdlayer\n",
      "tanh              |relu              |x3_activation\n",
      "0.001             |0.001             |learning_rate\n",
      "2                 |2                 |tuner/epochs\n",
      "0                 |0                 |tuner/initial_epoch\n",
      "4                 |4                 |tuner/bracket\n",
      "0                 |0                 |tuner/round\n",
      "\n",
      "Epoch 1/2\n",
      "4403/9116 [=============>................] - ETA: 10s - loss: 1580507.8750 - mean_squared_error: 1580507.8750"
     ]
    },
    {
     "ename": "KeyboardInterrupt",
     "evalue": "",
     "output_type": "error",
     "traceback": [
      "\u001b[0;31m---------------------------------------------------------------------------\u001b[0m",
      "\u001b[0;31mKeyboardInterrupt\u001b[0m                         Traceback (most recent call last)",
      "\u001b[1;32m/Users/nathanyee/Documents/cs171proj/model_creation/rent_model.ipynb Cell 68\u001b[0m in \u001b[0;36m<cell line: 6>\u001b[0;34m()\u001b[0m\n\u001b[1;32m      <a href='vscode-notebook-cell:/Users/nathanyee/Documents/cs171proj/model_creation/rent_model.ipynb#Y123sZmlsZQ%3D%3D?line=0'>1</a>\u001b[0m tuner \u001b[39m=\u001b[39m Hyperband(\n\u001b[1;32m      <a href='vscode-notebook-cell:/Users/nathanyee/Documents/cs171proj/model_creation/rent_model.ipynb#Y123sZmlsZQ%3D%3D?line=1'>2</a>\u001b[0m     build_model,\n\u001b[1;32m      <a href='vscode-notebook-cell:/Users/nathanyee/Documents/cs171proj/model_creation/rent_model.ipynb#Y123sZmlsZQ%3D%3D?line=2'>3</a>\u001b[0m     objective \u001b[39m=\u001b[39m \u001b[39m'\u001b[39m\u001b[39mval_loss\u001b[39m\u001b[39m'\u001b[39m,\n\u001b[1;32m      <a href='vscode-notebook-cell:/Users/nathanyee/Documents/cs171proj/model_creation/rent_model.ipynb#Y123sZmlsZQ%3D%3D?line=3'>4</a>\u001b[0m     \u001b[39m#max_trials = 20\u001b[39;00m\n\u001b[1;32m      <a href='vscode-notebook-cell:/Users/nathanyee/Documents/cs171proj/model_creation/rent_model.ipynb#Y123sZmlsZQ%3D%3D?line=4'>5</a>\u001b[0m )\n\u001b[0;32m----> <a href='vscode-notebook-cell:/Users/nathanyee/Documents/cs171proj/model_creation/rent_model.ipynb#Y123sZmlsZQ%3D%3D?line=5'>6</a>\u001b[0m tuner\u001b[39m.\u001b[39;49msearch(x_train, y_train, epochs\u001b[39m=\u001b[39;49m\u001b[39m5\u001b[39;49m, validation_data\u001b[39m=\u001b[39;49m(x_test, y_test))\n",
      "File \u001b[0;32m~/miniconda3/envs/tensorflow/lib/python3.9/site-packages/keras_tuner/engine/base_tuner.py:183\u001b[0m, in \u001b[0;36mBaseTuner.search\u001b[0;34m(self, *fit_args, **fit_kwargs)\u001b[0m\n\u001b[1;32m    180\u001b[0m     \u001b[39mcontinue\u001b[39;00m\n\u001b[1;32m    182\u001b[0m \u001b[39mself\u001b[39m\u001b[39m.\u001b[39mon_trial_begin(trial)\n\u001b[0;32m--> 183\u001b[0m results \u001b[39m=\u001b[39m \u001b[39mself\u001b[39;49m\u001b[39m.\u001b[39;49mrun_trial(trial, \u001b[39m*\u001b[39;49mfit_args, \u001b[39m*\u001b[39;49m\u001b[39m*\u001b[39;49mfit_kwargs)\n\u001b[1;32m    184\u001b[0m \u001b[39m# `results` is None indicates user updated oracle in `run_trial()`.\u001b[39;00m\n\u001b[1;32m    185\u001b[0m \u001b[39mif\u001b[39;00m results \u001b[39mis\u001b[39;00m \u001b[39mNone\u001b[39;00m:\n",
      "File \u001b[0;32m~/miniconda3/envs/tensorflow/lib/python3.9/site-packages/keras_tuner/tuners/hyperband.py:384\u001b[0m, in \u001b[0;36mHyperband.run_trial\u001b[0;34m(self, trial, *fit_args, **fit_kwargs)\u001b[0m\n\u001b[1;32m    382\u001b[0m     fit_kwargs[\u001b[39m\"\u001b[39m\u001b[39mepochs\u001b[39m\u001b[39m\"\u001b[39m] \u001b[39m=\u001b[39m hp\u001b[39m.\u001b[39mvalues[\u001b[39m\"\u001b[39m\u001b[39mtuner/epochs\u001b[39m\u001b[39m\"\u001b[39m]\n\u001b[1;32m    383\u001b[0m     fit_kwargs[\u001b[39m\"\u001b[39m\u001b[39minitial_epoch\u001b[39m\u001b[39m\"\u001b[39m] \u001b[39m=\u001b[39m hp\u001b[39m.\u001b[39mvalues[\u001b[39m\"\u001b[39m\u001b[39mtuner/initial_epoch\u001b[39m\u001b[39m\"\u001b[39m]\n\u001b[0;32m--> 384\u001b[0m \u001b[39mreturn\u001b[39;00m \u001b[39msuper\u001b[39;49m(Hyperband, \u001b[39mself\u001b[39;49m)\u001b[39m.\u001b[39;49mrun_trial(trial, \u001b[39m*\u001b[39;49mfit_args, \u001b[39m*\u001b[39;49m\u001b[39m*\u001b[39;49mfit_kwargs)\n",
      "File \u001b[0;32m~/miniconda3/envs/tensorflow/lib/python3.9/site-packages/keras_tuner/engine/tuner.py:295\u001b[0m, in \u001b[0;36mTuner.run_trial\u001b[0;34m(self, trial, *args, **kwargs)\u001b[0m\n\u001b[1;32m    293\u001b[0m     callbacks\u001b[39m.\u001b[39mappend(model_checkpoint)\n\u001b[1;32m    294\u001b[0m     copied_kwargs[\u001b[39m\"\u001b[39m\u001b[39mcallbacks\u001b[39m\u001b[39m\"\u001b[39m] \u001b[39m=\u001b[39m callbacks\n\u001b[0;32m--> 295\u001b[0m     obj_value \u001b[39m=\u001b[39m \u001b[39mself\u001b[39;49m\u001b[39m.\u001b[39;49m_build_and_fit_model(trial, \u001b[39m*\u001b[39;49margs, \u001b[39m*\u001b[39;49m\u001b[39m*\u001b[39;49mcopied_kwargs)\n\u001b[1;32m    297\u001b[0m     histories\u001b[39m.\u001b[39mappend(obj_value)\n\u001b[1;32m    298\u001b[0m \u001b[39mreturn\u001b[39;00m histories\n",
      "File \u001b[0;32m~/miniconda3/envs/tensorflow/lib/python3.9/site-packages/keras_tuner/engine/tuner.py:222\u001b[0m, in \u001b[0;36mTuner._build_and_fit_model\u001b[0;34m(self, trial, *args, **kwargs)\u001b[0m\n\u001b[1;32m    220\u001b[0m hp \u001b[39m=\u001b[39m trial\u001b[39m.\u001b[39mhyperparameters\n\u001b[1;32m    221\u001b[0m model \u001b[39m=\u001b[39m \u001b[39mself\u001b[39m\u001b[39m.\u001b[39m_try_build(hp)\n\u001b[0;32m--> 222\u001b[0m results \u001b[39m=\u001b[39m \u001b[39mself\u001b[39;49m\u001b[39m.\u001b[39;49mhypermodel\u001b[39m.\u001b[39;49mfit(hp, model, \u001b[39m*\u001b[39;49margs, \u001b[39m*\u001b[39;49m\u001b[39m*\u001b[39;49mkwargs)\n\u001b[1;32m    223\u001b[0m tuner_utils\u001b[39m.\u001b[39mvalidate_trial_results(\n\u001b[1;32m    224\u001b[0m     results, \u001b[39mself\u001b[39m\u001b[39m.\u001b[39moracle\u001b[39m.\u001b[39mobjective, \u001b[39m\"\u001b[39m\u001b[39mHyperModel.fit()\u001b[39m\u001b[39m\"\u001b[39m\n\u001b[1;32m    225\u001b[0m )\n\u001b[1;32m    226\u001b[0m \u001b[39mreturn\u001b[39;00m results\n",
      "File \u001b[0;32m~/miniconda3/envs/tensorflow/lib/python3.9/site-packages/keras_tuner/engine/hypermodel.py:140\u001b[0m, in \u001b[0;36mHyperModel.fit\u001b[0;34m(self, hp, model, *args, **kwargs)\u001b[0m\n\u001b[1;32m    116\u001b[0m \u001b[39mdef\u001b[39;00m \u001b[39mfit\u001b[39m(\u001b[39mself\u001b[39m, hp, model, \u001b[39m*\u001b[39margs, \u001b[39m*\u001b[39m\u001b[39m*\u001b[39mkwargs):\n\u001b[1;32m    117\u001b[0m     \u001b[39m\"\"\"Train the model.\u001b[39;00m\n\u001b[1;32m    118\u001b[0m \n\u001b[1;32m    119\u001b[0m \u001b[39m    Args:\u001b[39;00m\n\u001b[0;32m   (...)\u001b[0m\n\u001b[1;32m    138\u001b[0m \u001b[39m        If return a float, it should be the `objective` value.\u001b[39;00m\n\u001b[1;32m    139\u001b[0m \u001b[39m    \"\"\"\u001b[39;00m\n\u001b[0;32m--> 140\u001b[0m     \u001b[39mreturn\u001b[39;00m model\u001b[39m.\u001b[39;49mfit(\u001b[39m*\u001b[39;49margs, \u001b[39m*\u001b[39;49m\u001b[39m*\u001b[39;49mkwargs)\n",
      "File \u001b[0;32m~/miniconda3/envs/tensorflow/lib/python3.9/site-packages/keras/utils/traceback_utils.py:64\u001b[0m, in \u001b[0;36mfilter_traceback.<locals>.error_handler\u001b[0;34m(*args, **kwargs)\u001b[0m\n\u001b[1;32m     62\u001b[0m filtered_tb \u001b[39m=\u001b[39m \u001b[39mNone\u001b[39;00m\n\u001b[1;32m     63\u001b[0m \u001b[39mtry\u001b[39;00m:\n\u001b[0;32m---> 64\u001b[0m   \u001b[39mreturn\u001b[39;00m fn(\u001b[39m*\u001b[39;49margs, \u001b[39m*\u001b[39;49m\u001b[39m*\u001b[39;49mkwargs)\n\u001b[1;32m     65\u001b[0m \u001b[39mexcept\u001b[39;00m \u001b[39mException\u001b[39;00m \u001b[39mas\u001b[39;00m e:  \u001b[39m# pylint: disable=broad-except\u001b[39;00m\n\u001b[1;32m     66\u001b[0m   filtered_tb \u001b[39m=\u001b[39m _process_traceback_frames(e\u001b[39m.\u001b[39m__traceback__)\n",
      "File \u001b[0;32m~/miniconda3/envs/tensorflow/lib/python3.9/site-packages/keras/engine/training.py:1376\u001b[0m, in \u001b[0;36mModel.fit\u001b[0;34m(self, x, y, batch_size, epochs, verbose, callbacks, validation_split, validation_data, shuffle, class_weight, sample_weight, initial_epoch, steps_per_epoch, validation_steps, validation_batch_size, validation_freq, max_queue_size, workers, use_multiprocessing)\u001b[0m\n\u001b[1;32m   1374\u001b[0m callbacks\u001b[39m.\u001b[39mon_epoch_begin(epoch)\n\u001b[1;32m   1375\u001b[0m \u001b[39mwith\u001b[39;00m data_handler\u001b[39m.\u001b[39mcatch_stop_iteration():\n\u001b[0;32m-> 1376\u001b[0m   \u001b[39mfor\u001b[39;00m step \u001b[39min\u001b[39;00m data_handler\u001b[39m.\u001b[39msteps():\n\u001b[1;32m   1377\u001b[0m     \u001b[39mwith\u001b[39;00m tf\u001b[39m.\u001b[39mprofiler\u001b[39m.\u001b[39mexperimental\u001b[39m.\u001b[39mTrace(\n\u001b[1;32m   1378\u001b[0m         \u001b[39m'\u001b[39m\u001b[39mtrain\u001b[39m\u001b[39m'\u001b[39m,\n\u001b[1;32m   1379\u001b[0m         epoch_num\u001b[39m=\u001b[39mepoch,\n\u001b[1;32m   1380\u001b[0m         step_num\u001b[39m=\u001b[39mstep,\n\u001b[1;32m   1381\u001b[0m         batch_size\u001b[39m=\u001b[39mbatch_size,\n\u001b[1;32m   1382\u001b[0m         _r\u001b[39m=\u001b[39m\u001b[39m1\u001b[39m):\n\u001b[1;32m   1383\u001b[0m       callbacks\u001b[39m.\u001b[39mon_train_batch_begin(step)\n",
      "File \u001b[0;32m~/miniconda3/envs/tensorflow/lib/python3.9/site-packages/keras/engine/data_adapter.py:1246\u001b[0m, in \u001b[0;36mDataHandler.steps\u001b[0;34m(self)\u001b[0m\n\u001b[1;32m   1244\u001b[0m \u001b[39mif\u001b[39;00m \u001b[39mself\u001b[39m\u001b[39m.\u001b[39m_insufficient_data:  \u001b[39m# Set by `catch_stop_iteration`.\u001b[39;00m\n\u001b[1;32m   1245\u001b[0m   \u001b[39mbreak\u001b[39;00m\n\u001b[0;32m-> 1246\u001b[0m original_spe \u001b[39m=\u001b[39m \u001b[39mself\u001b[39;49m\u001b[39m.\u001b[39;49m_steps_per_execution\u001b[39m.\u001b[39;49mnumpy()\u001b[39m.\u001b[39mitem()\n\u001b[1;32m   1247\u001b[0m can_run_full_execution \u001b[39m=\u001b[39m (\n\u001b[1;32m   1248\u001b[0m     original_spe \u001b[39m==\u001b[39m \u001b[39m1\u001b[39m \u001b[39mor\u001b[39;00m\n\u001b[1;32m   1249\u001b[0m     \u001b[39mself\u001b[39m\u001b[39m.\u001b[39m_inferred_steps \u001b[39mis\u001b[39;00m \u001b[39mNone\u001b[39;00m \u001b[39mor\u001b[39;00m\n\u001b[1;32m   1250\u001b[0m     \u001b[39mself\u001b[39m\u001b[39m.\u001b[39m_inferred_steps \u001b[39m-\u001b[39m \u001b[39mself\u001b[39m\u001b[39m.\u001b[39m_current_step \u001b[39m>\u001b[39m\u001b[39m=\u001b[39m\n\u001b[1;32m   1251\u001b[0m     original_spe)\n\u001b[1;32m   1253\u001b[0m \u001b[39mif\u001b[39;00m can_run_full_execution:\n",
      "File \u001b[0;32m~/miniconda3/envs/tensorflow/lib/python3.9/site-packages/tensorflow/python/ops/resource_variable_ops.py:674\u001b[0m, in \u001b[0;36mBaseResourceVariable.numpy\u001b[0;34m(self)\u001b[0m\n\u001b[1;32m    672\u001b[0m \u001b[39mdef\u001b[39;00m \u001b[39mnumpy\u001b[39m(\u001b[39mself\u001b[39m):\n\u001b[1;32m    673\u001b[0m   \u001b[39mif\u001b[39;00m context\u001b[39m.\u001b[39mexecuting_eagerly():\n\u001b[0;32m--> 674\u001b[0m     \u001b[39mreturn\u001b[39;00m \u001b[39mself\u001b[39;49m\u001b[39m.\u001b[39;49mread_value()\u001b[39m.\u001b[39mnumpy()\n\u001b[1;32m    675\u001b[0m   \u001b[39mraise\u001b[39;00m \u001b[39mNotImplementedError\u001b[39;00m(\n\u001b[1;32m    676\u001b[0m       \u001b[39m\"\u001b[39m\u001b[39mnumpy() is only available when eager execution is enabled.\u001b[39m\u001b[39m\"\u001b[39m)\n",
      "File \u001b[0;32m~/miniconda3/envs/tensorflow/lib/python3.9/site-packages/tensorflow/python/ops/resource_variable_ops.py:749\u001b[0m, in \u001b[0;36mBaseResourceVariable.read_value\u001b[0;34m(self)\u001b[0m\n\u001b[1;32m    740\u001b[0m \u001b[39m\"\"\"Constructs an op which reads the value of this variable.\u001b[39;00m\n\u001b[1;32m    741\u001b[0m \n\u001b[1;32m    742\u001b[0m \u001b[39mShould be used when there are multiple reads, or when it is desirable to\u001b[39;00m\n\u001b[0;32m   (...)\u001b[0m\n\u001b[1;32m    746\u001b[0m \u001b[39m the read operation.\u001b[39;00m\n\u001b[1;32m    747\u001b[0m \u001b[39m\"\"\"\u001b[39;00m\n\u001b[1;32m    748\u001b[0m \u001b[39mwith\u001b[39;00m ops\u001b[39m.\u001b[39mname_scope(\u001b[39m\"\u001b[39m\u001b[39mRead\u001b[39m\u001b[39m\"\u001b[39m):\n\u001b[0;32m--> 749\u001b[0m   value \u001b[39m=\u001b[39m \u001b[39mself\u001b[39;49m\u001b[39m.\u001b[39;49m_read_variable_op()\n\u001b[1;32m    750\u001b[0m \u001b[39m# Return an identity so it can get placed on whatever device the context\u001b[39;00m\n\u001b[1;32m    751\u001b[0m \u001b[39m# specifies instead of the device where the variable is.\u001b[39;00m\n\u001b[1;32m    752\u001b[0m \u001b[39mreturn\u001b[39;00m array_ops\u001b[39m.\u001b[39midentity(value)\n",
      "File \u001b[0;32m~/miniconda3/envs/tensorflow/lib/python3.9/site-packages/tensorflow/python/ops/resource_variable_ops.py:728\u001b[0m, in \u001b[0;36mBaseResourceVariable._read_variable_op\u001b[0;34m(self)\u001b[0m\n\u001b[1;32m    726\u001b[0m       result \u001b[39m=\u001b[39m read_and_set_handle()\n\u001b[1;32m    727\u001b[0m \u001b[39melse\u001b[39;00m:\n\u001b[0;32m--> 728\u001b[0m   result \u001b[39m=\u001b[39m read_and_set_handle()\n\u001b[1;32m    730\u001b[0m \u001b[39mif\u001b[39;00m \u001b[39mnot\u001b[39;00m context\u001b[39m.\u001b[39mexecuting_eagerly():\n\u001b[1;32m    731\u001b[0m   \u001b[39m# Note that if a control flow context is active the input of the read op\u001b[39;00m\n\u001b[1;32m    732\u001b[0m   \u001b[39m# might not actually be the handle. This line bypasses it.\u001b[39;00m\n\u001b[1;32m    733\u001b[0m   tape\u001b[39m.\u001b[39mrecord_operation(\n\u001b[1;32m    734\u001b[0m       \u001b[39m\"\u001b[39m\u001b[39mReadVariableOp\u001b[39m\u001b[39m\"\u001b[39m, [result], [\u001b[39mself\u001b[39m\u001b[39m.\u001b[39mhandle],\n\u001b[1;32m    735\u001b[0m       backward_function\u001b[39m=\u001b[39m\u001b[39mlambda\u001b[39;00m x: [x],\n\u001b[1;32m    736\u001b[0m       forward_function\u001b[39m=\u001b[39m\u001b[39mlambda\u001b[39;00m x: [x])\n",
      "File \u001b[0;32m~/miniconda3/envs/tensorflow/lib/python3.9/site-packages/tensorflow/python/ops/resource_variable_ops.py:718\u001b[0m, in \u001b[0;36mBaseResourceVariable._read_variable_op.<locals>.read_and_set_handle\u001b[0;34m()\u001b[0m\n\u001b[1;32m    717\u001b[0m \u001b[39mdef\u001b[39;00m \u001b[39mread_and_set_handle\u001b[39m():\n\u001b[0;32m--> 718\u001b[0m   result \u001b[39m=\u001b[39m gen_resource_variable_ops\u001b[39m.\u001b[39;49mread_variable_op(\n\u001b[1;32m    719\u001b[0m       \u001b[39mself\u001b[39;49m\u001b[39m.\u001b[39;49mhandle, \u001b[39mself\u001b[39;49m\u001b[39m.\u001b[39;49m_dtype)\n\u001b[1;32m    720\u001b[0m   _maybe_set_handle_data(\u001b[39mself\u001b[39m\u001b[39m.\u001b[39m_dtype, \u001b[39mself\u001b[39m\u001b[39m.\u001b[39mhandle, result)\n\u001b[1;32m    721\u001b[0m   \u001b[39mreturn\u001b[39;00m result\n",
      "File \u001b[0;32m~/miniconda3/envs/tensorflow/lib/python3.9/site-packages/tensorflow/python/ops/gen_resource_variable_ops.py:479\u001b[0m, in \u001b[0;36mread_variable_op\u001b[0;34m(resource, dtype, name)\u001b[0m\n\u001b[1;32m    477\u001b[0m \u001b[39mif\u001b[39;00m tld\u001b[39m.\u001b[39mis_eager:\n\u001b[1;32m    478\u001b[0m   \u001b[39mtry\u001b[39;00m:\n\u001b[0;32m--> 479\u001b[0m     _result \u001b[39m=\u001b[39m pywrap_tfe\u001b[39m.\u001b[39;49mTFE_Py_FastPathExecute(\n\u001b[1;32m    480\u001b[0m       _ctx, \u001b[39m\"\u001b[39;49m\u001b[39mReadVariableOp\u001b[39;49m\u001b[39m\"\u001b[39;49m, name, resource, \u001b[39m\"\u001b[39;49m\u001b[39mdtype\u001b[39;49m\u001b[39m\"\u001b[39;49m, dtype)\n\u001b[1;32m    481\u001b[0m     \u001b[39mreturn\u001b[39;00m _result\n\u001b[1;32m    482\u001b[0m   \u001b[39mexcept\u001b[39;00m _core\u001b[39m.\u001b[39m_NotOkStatusException \u001b[39mas\u001b[39;00m e:\n",
      "\u001b[0;31mKeyboardInterrupt\u001b[0m: "
     ]
    }
   ],
   "source": [
    "tuner = Hyperband(\n",
    "    build_model,\n",
    "    objective = 'val_loss',\n",
    "    max_epochs= 20\n",
    ")\n",
    "tuner.search(x_train, y_train, epochs=5, validation_data=(x_test, y_test))"
   ]
  },
  {
   "cell_type": "code",
   "execution_count": null,
   "metadata": {},
   "outputs": [
    {
     "name": "stdout",
     "output_type": "stream",
     "text": [
      "Search space summary\n",
      "Default search space size: 7\n",
      "firstlayer (Choice)\n",
      "{'default': 16, 'conditions': [], 'values': [16, 24, 32], 'ordered': True}\n",
      "x1_activation (Choice)\n",
      "{'default': 'relu', 'conditions': [], 'values': ['relu', 'sigmoid', 'tanh'], 'ordered': False}\n",
      "secondlayer (Choice)\n",
      "{'default': 4, 'conditions': [], 'values': [4, 5, 8, 16], 'ordered': True}\n",
      "x2_activation (Choice)\n",
      "{'default': 'relu', 'conditions': [], 'values': ['relu', 'sigmoid', 'tanh'], 'ordered': False}\n",
      "thirdlayer (Choice)\n",
      "{'default': 3, 'conditions': [], 'values': [3, 4, 5, 6, 7, 8], 'ordered': True}\n",
      "x3_activation (Choice)\n",
      "{'default': 'relu', 'conditions': [], 'values': ['relu', 'sigmoid', 'tanh'], 'ordered': False}\n",
      "learning_rate (Choice)\n",
      "{'default': 0.1, 'conditions': [], 'values': [0.1, 0.01, 0.001, 0.0001], 'ordered': True}\n"
     ]
    }
   ],
   "source": [
    "tuner.search_space_summary()"
   ]
  },
  {
   "cell_type": "code",
   "execution_count": null,
   "metadata": {},
   "outputs": [
    {
     "name": "stdout",
     "output_type": "stream",
     "text": [
      "Results summary\n",
      "Results in ./untitled_project\n",
      "Showing 10 best trials\n",
      "<keras_tuner.engine.objective.Objective object at 0x7fe75cee6790>\n",
      "Trial summary\n",
      "Hyperparameters:\n",
      "firstlayer: 16\n",
      "x1_activation: relu\n",
      "secondlayer: 4\n",
      "x2_activation: tanh\n",
      "thirdlayer: 8\n",
      "x3_activation: relu\n",
      "learning_rate: 0.001\n",
      "Score: 336496.28125\n",
      "Trial summary\n",
      "Hyperparameters:\n",
      "firstlayer: 24\n",
      "x1_activation: tanh\n",
      "secondlayer: 8\n",
      "x2_activation: relu\n",
      "thirdlayer: 8\n",
      "x3_activation: sigmoid\n",
      "learning_rate: 0.01\n",
      "Score: 336496.375\n",
      "Trial summary\n",
      "Hyperparameters:\n",
      "firstlayer: 16\n",
      "x1_activation: sigmoid\n",
      "secondlayer: 8\n",
      "x2_activation: relu\n",
      "thirdlayer: 3\n",
      "x3_activation: tanh\n",
      "learning_rate: 0.1\n",
      "Score: 336496.5\n",
      "Trial summary\n",
      "Hyperparameters:\n",
      "firstlayer: 24\n",
      "x1_activation: tanh\n",
      "secondlayer: 16\n",
      "x2_activation: tanh\n",
      "thirdlayer: 4\n",
      "x3_activation: tanh\n",
      "learning_rate: 0.01\n",
      "Score: 336496.53125\n",
      "Trial summary\n",
      "Hyperparameters:\n",
      "firstlayer: 32\n",
      "x1_activation: tanh\n",
      "secondlayer: 16\n",
      "x2_activation: tanh\n",
      "thirdlayer: 6\n",
      "x3_activation: relu\n",
      "learning_rate: 0.01\n",
      "Score: 336498.84375\n",
      "Trial summary\n",
      "Hyperparameters:\n",
      "firstlayer: 16\n",
      "x1_activation: tanh\n",
      "secondlayer: 4\n",
      "x2_activation: sigmoid\n",
      "thirdlayer: 5\n",
      "x3_activation: sigmoid\n",
      "learning_rate: 0.1\n",
      "Score: 336499.71875\n",
      "Trial summary\n",
      "Hyperparameters:\n",
      "firstlayer: 32\n",
      "x1_activation: relu\n",
      "secondlayer: 4\n",
      "x2_activation: tanh\n",
      "thirdlayer: 5\n",
      "x3_activation: sigmoid\n",
      "learning_rate: 0.01\n",
      "Score: 336501.0\n",
      "Trial summary\n",
      "Hyperparameters:\n",
      "firstlayer: 32\n",
      "x1_activation: sigmoid\n",
      "secondlayer: 8\n",
      "x2_activation: tanh\n",
      "thirdlayer: 7\n",
      "x3_activation: sigmoid\n",
      "learning_rate: 0.1\n",
      "Score: 336501.09375\n",
      "Trial summary\n",
      "Hyperparameters:\n",
      "firstlayer: 16\n",
      "x1_activation: tanh\n",
      "secondlayer: 4\n",
      "x2_activation: tanh\n",
      "thirdlayer: 5\n",
      "x3_activation: tanh\n",
      "learning_rate: 0.1\n",
      "Score: 336501.65625\n",
      "Trial summary\n",
      "Hyperparameters:\n",
      "firstlayer: 16\n",
      "x1_activation: sigmoid\n",
      "secondlayer: 5\n",
      "x2_activation: tanh\n",
      "thirdlayer: 3\n",
      "x3_activation: relu\n",
      "learning_rate: 0.1\n",
      "Score: 336508.75\n"
     ]
    }
   ],
   "source": [
    "tuner.results_summary()"
   ]
  },
  {
   "cell_type": "code",
   "execution_count": 61,
   "metadata": {},
   "outputs": [],
   "source": [
    "# Keras NN model to be created\n",
    "def create_model(inputs, outputs):\n",
    "    input_layer = Input(shape=(5, ))\n",
    "    x1 = Dense(24, activation='relu', kernel_initializer='normal') (input_layer)\n",
    "    x2 = Dense(5, activation='relu', kernel_initializer='normal') (x1)\n",
    "    x3 = Dense(6, activation='relu', kernel_initializer='normal') (x2)\n",
    "    output = Dense(1, activation='linear', kernel_initializer='normal') (x3)\n",
    "\n",
    "    t_model = Model(inputs=input_layer, outputs=output)\n",
    "\n",
    "    t_model.compile(\n",
    "        loss='mean_squared_error', \n",
    "        optimizer=tf.keras.optimizers.Adam(learning_rate=0.001),\n",
    "        metrics=[\"mean_squared_error\"]\n",
    "    )\n",
    "    \n",
    "    t_model.fit(inputs, outputs, epochs=350, batch_size=1000, verbose=True)\n",
    "    return t_model"
   ]
  },
  {
   "cell_type": "code",
   "execution_count": 62,
   "metadata": {},
   "outputs": [
    {
     "name": "stdout",
     "output_type": "stream",
     "text": [
      "Epoch 1/350\n",
      "292/292 [==============================] - 1s 2ms/step - loss: 523925.5000 - mean_squared_error: 523925.5000\n",
      "Epoch 2/350\n",
      "292/292 [==============================] - 0s 1ms/step - loss: 218623.5781 - mean_squared_error: 218623.5781\n",
      "Epoch 3/350\n",
      "292/292 [==============================] - 0s 2ms/step - loss: 204920.5000 - mean_squared_error: 204920.5000\n",
      "Epoch 4/350\n",
      "292/292 [==============================] - 0s 1ms/step - loss: 184126.2188 - mean_squared_error: 184126.2188\n",
      "Epoch 5/350\n",
      "292/292 [==============================] - 0s 1ms/step - loss: 173326.5938 - mean_squared_error: 173326.5938\n",
      "Epoch 6/350\n",
      "292/292 [==============================] - 0s 1ms/step - loss: 172951.9531 - mean_squared_error: 172951.9531\n",
      "Epoch 7/350\n",
      "292/292 [==============================] - 1s 2ms/step - loss: 172988.1094 - mean_squared_error: 172988.1094\n",
      "Epoch 8/350\n",
      "292/292 [==============================] - 0s 2ms/step - loss: 172993.0469 - mean_squared_error: 172993.0469\n",
      "Epoch 9/350\n",
      "292/292 [==============================] - 0s 1ms/step - loss: 173055.8281 - mean_squared_error: 173055.8281\n",
      "Epoch 10/350\n",
      "292/292 [==============================] - 1s 2ms/step - loss: 173058.8750 - mean_squared_error: 173058.8750\n",
      "Epoch 11/350\n",
      "292/292 [==============================] - 1s 2ms/step - loss: 173110.0156 - mean_squared_error: 173110.0156\n",
      "Epoch 12/350\n",
      "292/292 [==============================] - 0s 2ms/step - loss: 171732.8125 - mean_squared_error: 171732.8125\n",
      "Epoch 13/350\n",
      "292/292 [==============================] - 0s 2ms/step - loss: 169122.2188 - mean_squared_error: 169122.2188\n",
      "Epoch 14/350\n",
      "292/292 [==============================] - 0s 2ms/step - loss: 168643.0312 - mean_squared_error: 168643.0312\n",
      "Epoch 15/350\n",
      "292/292 [==============================] - 1s 2ms/step - loss: 168488.9531 - mean_squared_error: 168488.9531\n",
      "Epoch 16/350\n",
      "292/292 [==============================] - 1s 2ms/step - loss: 168417.2188 - mean_squared_error: 168417.2188\n",
      "Epoch 17/350\n",
      "292/292 [==============================] - 0s 2ms/step - loss: 168315.7344 - mean_squared_error: 168315.7344\n",
      "Epoch 18/350\n",
      "292/292 [==============================] - 0s 2ms/step - loss: 168394.9062 - mean_squared_error: 168394.9062\n",
      "Epoch 19/350\n",
      "292/292 [==============================] - 0s 2ms/step - loss: 168402.7969 - mean_squared_error: 168402.7969\n",
      "Epoch 20/350\n",
      "292/292 [==============================] - 1s 2ms/step - loss: 168204.4531 - mean_squared_error: 168204.4531\n",
      "Epoch 21/350\n",
      "292/292 [==============================] - 1s 2ms/step - loss: 168255.6875 - mean_squared_error: 168255.6875\n",
      "Epoch 22/350\n",
      "292/292 [==============================] - 1s 2ms/step - loss: 168362.9531 - mean_squared_error: 168362.9531\n",
      "Epoch 23/350\n",
      "292/292 [==============================] - 1s 2ms/step - loss: 168277.2031 - mean_squared_error: 168277.2031\n",
      "Epoch 24/350\n",
      "292/292 [==============================] - 1s 3ms/step - loss: 168256.5938 - mean_squared_error: 168256.5938\n",
      "Epoch 25/350\n",
      "292/292 [==============================] - 1s 2ms/step - loss: 168285.3750 - mean_squared_error: 168285.3750\n",
      "Epoch 26/350\n",
      "292/292 [==============================] - 0s 1ms/step - loss: 168409.1406 - mean_squared_error: 168409.1406\n",
      "Epoch 27/350\n",
      "292/292 [==============================] - 0s 2ms/step - loss: 168333.1719 - mean_squared_error: 168333.1719\n",
      "Epoch 28/350\n",
      "292/292 [==============================] - 0s 2ms/step - loss: 168304.6094 - mean_squared_error: 168304.6094\n",
      "Epoch 29/350\n",
      "292/292 [==============================] - 0s 1ms/step - loss: 168327.3750 - mean_squared_error: 168327.3750\n",
      "Epoch 30/350\n",
      "292/292 [==============================] - 1s 2ms/step - loss: 168225.1875 - mean_squared_error: 168225.1875\n",
      "Epoch 31/350\n",
      "292/292 [==============================] - 0s 1ms/step - loss: 168398.5156 - mean_squared_error: 168398.5156\n",
      "Epoch 32/350\n",
      "292/292 [==============================] - 0s 1ms/step - loss: 168205.1094 - mean_squared_error: 168205.1094\n",
      "Epoch 33/350\n",
      "292/292 [==============================] - 0s 1ms/step - loss: 168212.9688 - mean_squared_error: 168212.9688\n",
      "Epoch 34/350\n",
      "292/292 [==============================] - 0s 1ms/step - loss: 168149.3750 - mean_squared_error: 168149.3750\n",
      "Epoch 35/350\n",
      "292/292 [==============================] - 0s 1ms/step - loss: 168190.5469 - mean_squared_error: 168190.5469\n",
      "Epoch 36/350\n",
      "292/292 [==============================] - 0s 1ms/step - loss: 168189.3750 - mean_squared_error: 168189.3750\n",
      "Epoch 37/350\n",
      "292/292 [==============================] - 0s 1ms/step - loss: 168095.7656 - mean_squared_error: 168095.7656\n",
      "Epoch 38/350\n",
      "292/292 [==============================] - 1s 2ms/step - loss: 168128.4219 - mean_squared_error: 168128.4219\n",
      "Epoch 39/350\n",
      "292/292 [==============================] - 1s 2ms/step - loss: 168297.1875 - mean_squared_error: 168297.1875\n",
      "Epoch 40/350\n",
      "292/292 [==============================] - 1s 3ms/step - loss: 168148.5469 - mean_squared_error: 168148.5469\n",
      "Epoch 41/350\n",
      "292/292 [==============================] - 1s 2ms/step - loss: 168139.9688 - mean_squared_error: 168139.9688\n",
      "Epoch 42/350\n",
      "292/292 [==============================] - 0s 2ms/step - loss: 167968.5156 - mean_squared_error: 167968.5156\n",
      "Epoch 43/350\n",
      "292/292 [==============================] - 1s 2ms/step - loss: 168085.2812 - mean_squared_error: 168085.2812\n",
      "Epoch 44/350\n",
      "292/292 [==============================] - 0s 2ms/step - loss: 168110.0000 - mean_squared_error: 168110.0000\n",
      "Epoch 45/350\n",
      "292/292 [==============================] - 0s 2ms/step - loss: 167995.3438 - mean_squared_error: 167995.3438\n",
      "Epoch 46/350\n",
      "292/292 [==============================] - 0s 1ms/step - loss: 168021.1406 - mean_squared_error: 168021.1406\n",
      "Epoch 47/350\n",
      "292/292 [==============================] - 0s 2ms/step - loss: 167933.4531 - mean_squared_error: 167933.4531\n",
      "Epoch 48/350\n",
      "292/292 [==============================] - 1s 2ms/step - loss: 168226.5000 - mean_squared_error: 168226.5000\n",
      "Epoch 49/350\n",
      "292/292 [==============================] - 1s 3ms/step - loss: 168061.1875 - mean_squared_error: 168061.1875\n",
      "Epoch 50/350\n",
      "292/292 [==============================] - 1s 3ms/step - loss: 167978.2500 - mean_squared_error: 167978.2500\n",
      "Epoch 51/350\n",
      "292/292 [==============================] - 1s 2ms/step - loss: 167946.7188 - mean_squared_error: 167946.7188\n",
      "Epoch 52/350\n",
      "292/292 [==============================] - 1s 2ms/step - loss: 168112.9531 - mean_squared_error: 168112.9531\n",
      "Epoch 53/350\n",
      "292/292 [==============================] - 0s 1ms/step - loss: 167953.8281 - mean_squared_error: 167953.8281\n",
      "Epoch 54/350\n",
      "292/292 [==============================] - 0s 1ms/step - loss: 167830.6406 - mean_squared_error: 167830.6406\n",
      "Epoch 55/350\n",
      "292/292 [==============================] - 0s 1ms/step - loss: 167998.1719 - mean_squared_error: 167998.1719\n",
      "Epoch 56/350\n",
      "292/292 [==============================] - 1s 2ms/step - loss: 167859.9375 - mean_squared_error: 167859.9375\n",
      "Epoch 57/350\n",
      "292/292 [==============================] - 1s 2ms/step - loss: 167806.2031 - mean_squared_error: 167806.2031\n",
      "Epoch 58/350\n",
      "292/292 [==============================] - 0s 2ms/step - loss: 167750.5781 - mean_squared_error: 167750.5781\n",
      "Epoch 59/350\n",
      "292/292 [==============================] - 0s 1ms/step - loss: 167824.8438 - mean_squared_error: 167824.8438\n",
      "Epoch 60/350\n",
      "292/292 [==============================] - 1s 2ms/step - loss: 167917.6562 - mean_squared_error: 167917.6562\n",
      "Epoch 61/350\n",
      "292/292 [==============================] - 0s 1ms/step - loss: 167946.1719 - mean_squared_error: 167946.1719\n",
      "Epoch 62/350\n",
      "292/292 [==============================] - 0s 1ms/step - loss: 167873.3906 - mean_squared_error: 167873.3906\n",
      "Epoch 63/350\n",
      "292/292 [==============================] - 0s 1ms/step - loss: 167870.3438 - mean_squared_error: 167870.3438\n",
      "Epoch 64/350\n",
      "292/292 [==============================] - 0s 1ms/step - loss: 167826.9844 - mean_squared_error: 167826.9844\n",
      "Epoch 65/350\n",
      "292/292 [==============================] - 0s 1ms/step - loss: 167667.4844 - mean_squared_error: 167667.4844\n",
      "Epoch 66/350\n",
      "292/292 [==============================] - 0s 1ms/step - loss: 167669.4062 - mean_squared_error: 167669.4062\n",
      "Epoch 67/350\n",
      "292/292 [==============================] - 1s 2ms/step - loss: 167751.6562 - mean_squared_error: 167751.6562\n",
      "Epoch 68/350\n",
      "292/292 [==============================] - 0s 2ms/step - loss: 167730.3750 - mean_squared_error: 167730.3750\n",
      "Epoch 69/350\n",
      "292/292 [==============================] - 1s 2ms/step - loss: 167846.1719 - mean_squared_error: 167846.1719\n",
      "Epoch 70/350\n",
      "292/292 [==============================] - 1s 2ms/step - loss: 167636.6719 - mean_squared_error: 167636.6719\n",
      "Epoch 71/350\n",
      "292/292 [==============================] - 1s 2ms/step - loss: 167699.7500 - mean_squared_error: 167699.7500\n",
      "Epoch 72/350\n",
      "292/292 [==============================] - 0s 2ms/step - loss: 167516.0000 - mean_squared_error: 167516.0000\n",
      "Epoch 73/350\n",
      "292/292 [==============================] - 1s 2ms/step - loss: 167575.5938 - mean_squared_error: 167575.5938\n",
      "Epoch 74/350\n",
      "292/292 [==============================] - 1s 2ms/step - loss: 167601.2969 - mean_squared_error: 167601.2969\n",
      "Epoch 75/350\n",
      "292/292 [==============================] - 1s 2ms/step - loss: 167567.3438 - mean_squared_error: 167567.3438\n",
      "Epoch 76/350\n",
      "292/292 [==============================] - 1s 2ms/step - loss: 167578.5469 - mean_squared_error: 167578.5469\n",
      "Epoch 77/350\n",
      "292/292 [==============================] - 1s 2ms/step - loss: 167573.1250 - mean_squared_error: 167573.1250\n",
      "Epoch 78/350\n",
      "292/292 [==============================] - 1s 3ms/step - loss: 167604.9844 - mean_squared_error: 167604.9844\n",
      "Epoch 79/350\n",
      "292/292 [==============================] - 1s 2ms/step - loss: 167482.6406 - mean_squared_error: 167482.6406\n",
      "Epoch 80/350\n",
      "292/292 [==============================] - 1s 2ms/step - loss: 167585.5312 - mean_squared_error: 167585.5312\n",
      "Epoch 81/350\n",
      "292/292 [==============================] - 1s 2ms/step - loss: 167510.5938 - mean_squared_error: 167510.5938\n",
      "Epoch 82/350\n",
      "292/292 [==============================] - 1s 2ms/step - loss: 167540.2656 - mean_squared_error: 167540.2656\n",
      "Epoch 83/350\n",
      "292/292 [==============================] - 1s 3ms/step - loss: 167428.2031 - mean_squared_error: 167428.2031\n",
      "Epoch 84/350\n",
      "292/292 [==============================] - 1s 3ms/step - loss: 167427.7969 - mean_squared_error: 167427.7969\n",
      "Epoch 85/350\n",
      "292/292 [==============================] - 1s 2ms/step - loss: 167356.9688 - mean_squared_error: 167356.9688\n",
      "Epoch 86/350\n",
      "292/292 [==============================] - 0s 2ms/step - loss: 167313.7188 - mean_squared_error: 167313.7188\n",
      "Epoch 87/350\n",
      "292/292 [==============================] - 1s 2ms/step - loss: 167371.3750 - mean_squared_error: 167371.3750\n",
      "Epoch 88/350\n",
      "292/292 [==============================] - 0s 2ms/step - loss: 167205.9375 - mean_squared_error: 167205.9375\n",
      "Epoch 89/350\n",
      "292/292 [==============================] - 1s 2ms/step - loss: 167345.6875 - mean_squared_error: 167345.6875\n",
      "Epoch 90/350\n",
      "292/292 [==============================] - 0s 1ms/step - loss: 167163.8750 - mean_squared_error: 167163.8750\n",
      "Epoch 91/350\n",
      "292/292 [==============================] - 0s 2ms/step - loss: 167186.0156 - mean_squared_error: 167186.0156\n",
      "Epoch 92/350\n",
      "292/292 [==============================] - 0s 2ms/step - loss: 167257.0781 - mean_squared_error: 167257.0781\n",
      "Epoch 93/350\n",
      "292/292 [==============================] - 1s 2ms/step - loss: 167126.1094 - mean_squared_error: 167126.1094\n",
      "Epoch 94/350\n",
      "292/292 [==============================] - 0s 1ms/step - loss: 167264.7031 - mean_squared_error: 167264.7031\n",
      "Epoch 95/350\n",
      "292/292 [==============================] - 0s 2ms/step - loss: 167302.5469 - mean_squared_error: 167302.5469\n",
      "Epoch 96/350\n",
      "292/292 [==============================] - 0s 1ms/step - loss: 167301.2500 - mean_squared_error: 167301.2500\n",
      "Epoch 97/350\n",
      "292/292 [==============================] - 0s 2ms/step - loss: 167192.2500 - mean_squared_error: 167192.2500\n",
      "Epoch 98/350\n",
      "292/292 [==============================] - 0s 2ms/step - loss: 167214.4844 - mean_squared_error: 167214.4844\n",
      "Epoch 99/350\n",
      "292/292 [==============================] - 0s 2ms/step - loss: 167064.2188 - mean_squared_error: 167064.2188\n",
      "Epoch 100/350\n",
      "292/292 [==============================] - 0s 2ms/step - loss: 167080.6250 - mean_squared_error: 167080.6250\n",
      "Epoch 101/350\n",
      "292/292 [==============================] - 0s 1ms/step - loss: 167138.0156 - mean_squared_error: 167138.0156\n",
      "Epoch 102/350\n",
      "292/292 [==============================] - 0s 2ms/step - loss: 167065.3906 - mean_squared_error: 167065.3906\n",
      "Epoch 103/350\n",
      "292/292 [==============================] - 0s 2ms/step - loss: 166984.5938 - mean_squared_error: 166984.5938\n",
      "Epoch 104/350\n",
      "292/292 [==============================] - 1s 2ms/step - loss: 167063.0625 - mean_squared_error: 167063.0625\n",
      "Epoch 105/350\n",
      "292/292 [==============================] - 1s 2ms/step - loss: 166794.7500 - mean_squared_error: 166794.7500\n",
      "Epoch 106/350\n",
      "292/292 [==============================] - 1s 2ms/step - loss: 167024.7344 - mean_squared_error: 167024.7344\n",
      "Epoch 107/350\n",
      "292/292 [==============================] - 1s 2ms/step - loss: 166778.6250 - mean_squared_error: 166778.6250\n",
      "Epoch 108/350\n",
      "292/292 [==============================] - 1s 2ms/step - loss: 166858.3125 - mean_squared_error: 166858.3125\n",
      "Epoch 109/350\n",
      "292/292 [==============================] - 1s 2ms/step - loss: 166752.3281 - mean_squared_error: 166752.3281\n",
      "Epoch 110/350\n",
      "292/292 [==============================] - 1s 2ms/step - loss: 166969.2344 - mean_squared_error: 166969.2344\n",
      "Epoch 111/350\n",
      "292/292 [==============================] - 0s 1ms/step - loss: 166732.9531 - mean_squared_error: 166732.9531\n",
      "Epoch 112/350\n",
      "292/292 [==============================] - 1s 2ms/step - loss: 166788.1719 - mean_squared_error: 166788.1719\n",
      "Epoch 113/350\n",
      "292/292 [==============================] - 0s 1ms/step - loss: 166802.1562 - mean_squared_error: 166802.1562\n",
      "Epoch 114/350\n",
      "292/292 [==============================] - 1s 2ms/step - loss: 166706.1562 - mean_squared_error: 166706.1562\n",
      "Epoch 115/350\n",
      "292/292 [==============================] - 1s 2ms/step - loss: 166720.4375 - mean_squared_error: 166720.4375\n",
      "Epoch 116/350\n",
      "292/292 [==============================] - 0s 1ms/step - loss: 166698.7969 - mean_squared_error: 166698.7969\n",
      "Epoch 117/350\n",
      "292/292 [==============================] - 0s 1ms/step - loss: 166722.2812 - mean_squared_error: 166722.2812\n",
      "Epoch 118/350\n",
      "292/292 [==============================] - 0s 1ms/step - loss: 166748.3750 - mean_squared_error: 166748.3750\n",
      "Epoch 119/350\n",
      "292/292 [==============================] - 0s 2ms/step - loss: 166618.7969 - mean_squared_error: 166618.7969\n",
      "Epoch 120/350\n",
      "292/292 [==============================] - 0s 1ms/step - loss: 166768.5625 - mean_squared_error: 166768.5625\n",
      "Epoch 121/350\n",
      "292/292 [==============================] - 0s 1ms/step - loss: 166914.8438 - mean_squared_error: 166914.8438\n",
      "Epoch 122/350\n",
      "292/292 [==============================] - 0s 2ms/step - loss: 166476.1094 - mean_squared_error: 166476.1094\n",
      "Epoch 123/350\n",
      "292/292 [==============================] - 0s 2ms/step - loss: 166659.8594 - mean_squared_error: 166659.8594\n",
      "Epoch 124/350\n",
      "292/292 [==============================] - 0s 2ms/step - loss: 166448.6250 - mean_squared_error: 166448.6250\n",
      "Epoch 125/350\n",
      "292/292 [==============================] - 0s 1ms/step - loss: 166817.6719 - mean_squared_error: 166817.6719\n",
      "Epoch 126/350\n",
      "292/292 [==============================] - 1s 2ms/step - loss: 166746.2656 - mean_squared_error: 166746.2656\n",
      "Epoch 127/350\n",
      "292/292 [==============================] - 1s 2ms/step - loss: 166558.9062 - mean_squared_error: 166558.9062\n",
      "Epoch 128/350\n",
      "292/292 [==============================] - 0s 2ms/step - loss: 166525.1875 - mean_squared_error: 166525.1875\n",
      "Epoch 129/350\n",
      "292/292 [==============================] - 0s 1ms/step - loss: 166530.2969 - mean_squared_error: 166530.2969\n",
      "Epoch 130/350\n",
      "292/292 [==============================] - 0s 1ms/step - loss: 166809.4062 - mean_squared_error: 166809.4062\n",
      "Epoch 131/350\n",
      "292/292 [==============================] - 0s 1ms/step - loss: 166545.0000 - mean_squared_error: 166545.0000\n",
      "Epoch 132/350\n",
      "292/292 [==============================] - 0s 1ms/step - loss: 166504.7188 - mean_squared_error: 166504.7188\n",
      "Epoch 133/350\n",
      "292/292 [==============================] - 0s 1ms/step - loss: 166476.5156 - mean_squared_error: 166476.5156\n",
      "Epoch 134/350\n",
      "292/292 [==============================] - 0s 1ms/step - loss: 166604.7188 - mean_squared_error: 166604.7188\n",
      "Epoch 135/350\n",
      "292/292 [==============================] - 0s 1ms/step - loss: 166592.9844 - mean_squared_error: 166592.9844\n",
      "Epoch 136/350\n",
      "292/292 [==============================] - 0s 2ms/step - loss: 166206.6719 - mean_squared_error: 166206.6719\n",
      "Epoch 137/350\n",
      "292/292 [==============================] - 0s 1ms/step - loss: 166537.9375 - mean_squared_error: 166537.9375\n",
      "Epoch 138/350\n",
      "292/292 [==============================] - 0s 1ms/step - loss: 166344.5625 - mean_squared_error: 166344.5625\n",
      "Epoch 139/350\n",
      "292/292 [==============================] - 0s 1ms/step - loss: 166277.3438 - mean_squared_error: 166277.3438\n",
      "Epoch 140/350\n",
      "292/292 [==============================] - 0s 2ms/step - loss: 166402.7969 - mean_squared_error: 166402.7969\n",
      "Epoch 141/350\n",
      "292/292 [==============================] - 0s 1ms/step - loss: 166355.3906 - mean_squared_error: 166355.3906\n",
      "Epoch 142/350\n",
      "292/292 [==============================] - 0s 1ms/step - loss: 166553.7344 - mean_squared_error: 166553.7344\n",
      "Epoch 143/350\n",
      "292/292 [==============================] - 0s 1ms/step - loss: 166315.1094 - mean_squared_error: 166315.1094\n",
      "Epoch 144/350\n",
      "292/292 [==============================] - 0s 1ms/step - loss: 166394.4062 - mean_squared_error: 166394.4062\n",
      "Epoch 145/350\n",
      "292/292 [==============================] - 0s 1ms/step - loss: 166179.2188 - mean_squared_error: 166179.2188\n",
      "Epoch 146/350\n",
      "292/292 [==============================] - 0s 1ms/step - loss: 166504.6406 - mean_squared_error: 166504.6406\n",
      "Epoch 147/350\n",
      "292/292 [==============================] - 0s 2ms/step - loss: 166197.5469 - mean_squared_error: 166197.5469\n",
      "Epoch 148/350\n",
      "292/292 [==============================] - 0s 1ms/step - loss: 166283.4375 - mean_squared_error: 166283.4375\n",
      "Epoch 149/350\n",
      "292/292 [==============================] - 0s 1ms/step - loss: 166249.1406 - mean_squared_error: 166249.1406\n",
      "Epoch 150/350\n",
      "292/292 [==============================] - 0s 1ms/step - loss: 166121.1406 - mean_squared_error: 166121.1406\n",
      "Epoch 151/350\n",
      "292/292 [==============================] - 0s 1ms/step - loss: 166253.0312 - mean_squared_error: 166253.0312\n",
      "Epoch 152/350\n",
      "292/292 [==============================] - 0s 1ms/step - loss: 166160.5000 - mean_squared_error: 166160.5000\n",
      "Epoch 153/350\n",
      "292/292 [==============================] - 0s 1ms/step - loss: 166109.1250 - mean_squared_error: 166109.1250\n",
      "Epoch 154/350\n",
      "292/292 [==============================] - 0s 1ms/step - loss: 166222.9062 - mean_squared_error: 166222.9062\n",
      "Epoch 155/350\n",
      "292/292 [==============================] - 0s 2ms/step - loss: 166096.2656 - mean_squared_error: 166096.2656\n",
      "Epoch 156/350\n",
      "292/292 [==============================] - 0s 1ms/step - loss: 166265.0156 - mean_squared_error: 166265.0156\n",
      "Epoch 157/350\n",
      "292/292 [==============================] - 0s 1ms/step - loss: 166266.5312 - mean_squared_error: 166266.5312\n",
      "Epoch 158/350\n",
      "292/292 [==============================] - 0s 1ms/step - loss: 166095.7656 - mean_squared_error: 166095.7656\n",
      "Epoch 159/350\n",
      "292/292 [==============================] - 0s 1ms/step - loss: 165963.7344 - mean_squared_error: 165963.7344\n",
      "Epoch 160/350\n",
      "292/292 [==============================] - 0s 1ms/step - loss: 166197.3750 - mean_squared_error: 166197.3750\n",
      "Epoch 161/350\n",
      "292/292 [==============================] - 0s 1ms/step - loss: 165942.6562 - mean_squared_error: 165942.6562\n",
      "Epoch 162/350\n",
      "292/292 [==============================] - 0s 1ms/step - loss: 166250.5938 - mean_squared_error: 166250.5938\n",
      "Epoch 163/350\n",
      "292/292 [==============================] - 0s 1ms/step - loss: 165865.8750 - mean_squared_error: 165865.8750\n",
      "Epoch 164/350\n",
      "292/292 [==============================] - 0s 1ms/step - loss: 166041.3750 - mean_squared_error: 166041.3750\n",
      "Epoch 165/350\n",
      "292/292 [==============================] - 0s 2ms/step - loss: 165955.2500 - mean_squared_error: 165955.2500\n",
      "Epoch 166/350\n",
      "292/292 [==============================] - 0s 1ms/step - loss: 165978.3281 - mean_squared_error: 165978.3281\n",
      "Epoch 167/350\n",
      "292/292 [==============================] - 0s 1ms/step - loss: 166192.7500 - mean_squared_error: 166192.7500\n",
      "Epoch 168/350\n",
      "292/292 [==============================] - 0s 1ms/step - loss: 165867.6250 - mean_squared_error: 165867.6250\n",
      "Epoch 169/350\n",
      "292/292 [==============================] - 0s 1ms/step - loss: 165886.1250 - mean_squared_error: 165886.1250\n",
      "Epoch 170/350\n",
      "292/292 [==============================] - 1s 2ms/step - loss: 165910.1406 - mean_squared_error: 165910.1406\n",
      "Epoch 171/350\n",
      "292/292 [==============================] - 0s 1ms/step - loss: 166032.3594 - mean_squared_error: 166032.3594\n",
      "Epoch 172/350\n",
      "292/292 [==============================] - 0s 1ms/step - loss: 166283.4375 - mean_squared_error: 166283.4375\n",
      "Epoch 173/350\n",
      "292/292 [==============================] - 0s 1ms/step - loss: 165728.4219 - mean_squared_error: 165728.4219\n",
      "Epoch 174/350\n",
      "292/292 [==============================] - 0s 1ms/step - loss: 166039.7656 - mean_squared_error: 166039.7656\n",
      "Epoch 175/350\n",
      "292/292 [==============================] - 0s 1ms/step - loss: 165938.5469 - mean_squared_error: 165938.5469\n",
      "Epoch 176/350\n",
      "292/292 [==============================] - 0s 1ms/step - loss: 165855.4062 - mean_squared_error: 165855.4062\n",
      "Epoch 177/350\n",
      "292/292 [==============================] - 1s 2ms/step - loss: 165753.3750 - mean_squared_error: 165753.3750\n",
      "Epoch 178/350\n",
      "292/292 [==============================] - 1s 2ms/step - loss: 165799.0156 - mean_squared_error: 165799.0156\n",
      "Epoch 179/350\n",
      "292/292 [==============================] - 0s 2ms/step - loss: 165817.3438 - mean_squared_error: 165817.3438\n",
      "Epoch 180/350\n",
      "292/292 [==============================] - 1s 2ms/step - loss: 165814.8125 - mean_squared_error: 165814.8125\n",
      "Epoch 181/350\n",
      "292/292 [==============================] - 0s 2ms/step - loss: 165871.2969 - mean_squared_error: 165871.2969\n",
      "Epoch 182/350\n",
      "292/292 [==============================] - 1s 2ms/step - loss: 166160.4844 - mean_squared_error: 166160.4844\n",
      "Epoch 183/350\n",
      "292/292 [==============================] - 0s 1ms/step - loss: 165638.8125 - mean_squared_error: 165638.8125\n",
      "Epoch 184/350\n",
      "292/292 [==============================] - 0s 2ms/step - loss: 165902.9375 - mean_squared_error: 165902.9375\n",
      "Epoch 185/350\n",
      "292/292 [==============================] - 0s 2ms/step - loss: 165775.5781 - mean_squared_error: 165775.5781\n",
      "Epoch 186/350\n",
      "292/292 [==============================] - 0s 1ms/step - loss: 165743.6875 - mean_squared_error: 165743.6875\n",
      "Epoch 187/350\n",
      "292/292 [==============================] - 0s 2ms/step - loss: 165802.3281 - mean_squared_error: 165802.3281\n",
      "Epoch 188/350\n",
      "292/292 [==============================] - 0s 1ms/step - loss: 165686.0469 - mean_squared_error: 165686.0469\n",
      "Epoch 189/350\n",
      "292/292 [==============================] - 0s 1ms/step - loss: 165815.9375 - mean_squared_error: 165815.9375\n",
      "Epoch 190/350\n",
      "292/292 [==============================] - 0s 1ms/step - loss: 166065.6875 - mean_squared_error: 166065.6875\n",
      "Epoch 191/350\n",
      "292/292 [==============================] - 0s 1ms/step - loss: 165917.9219 - mean_squared_error: 165917.9219\n",
      "Epoch 192/350\n",
      "292/292 [==============================] - 0s 1ms/step - loss: 165937.3125 - mean_squared_error: 165937.3125\n",
      "Epoch 193/350\n",
      "292/292 [==============================] - 0s 1ms/step - loss: 165777.9531 - mean_squared_error: 165777.9531\n",
      "Epoch 194/350\n",
      "292/292 [==============================] - 0s 1ms/step - loss: 165797.8125 - mean_squared_error: 165797.8125\n",
      "Epoch 195/350\n",
      "292/292 [==============================] - 0s 2ms/step - loss: 165775.2500 - mean_squared_error: 165775.2500\n",
      "Epoch 196/350\n",
      "292/292 [==============================] - 0s 1ms/step - loss: 165848.9844 - mean_squared_error: 165848.9844\n",
      "Epoch 197/350\n",
      "292/292 [==============================] - 0s 1ms/step - loss: 165933.8750 - mean_squared_error: 165933.8750\n",
      "Epoch 198/350\n",
      "292/292 [==============================] - 0s 1ms/step - loss: 165835.9531 - mean_squared_error: 165835.9531\n",
      "Epoch 199/350\n",
      "292/292 [==============================] - 0s 1ms/step - loss: 165633.0938 - mean_squared_error: 165633.0938\n",
      "Epoch 200/350\n",
      "292/292 [==============================] - 0s 1ms/step - loss: 165897.4219 - mean_squared_error: 165897.4219\n",
      "Epoch 201/350\n",
      "292/292 [==============================] - 0s 1ms/step - loss: 165877.6562 - mean_squared_error: 165877.6562\n",
      "Epoch 202/350\n",
      "292/292 [==============================] - 0s 1ms/step - loss: 165675.7812 - mean_squared_error: 165675.7812\n",
      "Epoch 203/350\n",
      "292/292 [==============================] - 0s 1ms/step - loss: 165909.4062 - mean_squared_error: 165909.4062\n",
      "Epoch 204/350\n",
      "292/292 [==============================] - 0s 1ms/step - loss: 165746.7031 - mean_squared_error: 165746.7031\n",
      "Epoch 205/350\n",
      "292/292 [==============================] - 0s 1ms/step - loss: 165843.1094 - mean_squared_error: 165843.1094\n",
      "Epoch 206/350\n",
      "292/292 [==============================] - 0s 1ms/step - loss: 165649.0938 - mean_squared_error: 165649.0938\n",
      "Epoch 207/350\n",
      "292/292 [==============================] - 0s 1ms/step - loss: 165723.5156 - mean_squared_error: 165723.5156\n",
      "Epoch 208/350\n",
      "292/292 [==============================] - 0s 1ms/step - loss: 165746.5000 - mean_squared_error: 165746.5000\n",
      "Epoch 209/350\n",
      "292/292 [==============================] - 0s 1ms/step - loss: 165600.4062 - mean_squared_error: 165600.4062\n",
      "Epoch 210/350\n",
      "292/292 [==============================] - 0s 2ms/step - loss: 165642.7969 - mean_squared_error: 165642.7969\n",
      "Epoch 211/350\n",
      "292/292 [==============================] - 0s 2ms/step - loss: 165835.5156 - mean_squared_error: 165835.5156\n",
      "Epoch 212/350\n",
      "292/292 [==============================] - 1s 2ms/step - loss: 165624.2812 - mean_squared_error: 165624.2812\n",
      "Epoch 213/350\n",
      "292/292 [==============================] - 1s 2ms/step - loss: 165730.9375 - mean_squared_error: 165730.9375\n",
      "Epoch 214/350\n",
      "292/292 [==============================] - 1s 2ms/step - loss: 165556.3125 - mean_squared_error: 165556.3125\n",
      "Epoch 215/350\n",
      "292/292 [==============================] - 1s 2ms/step - loss: 165669.4688 - mean_squared_error: 165669.4688\n",
      "Epoch 216/350\n",
      "292/292 [==============================] - 0s 2ms/step - loss: 165568.4375 - mean_squared_error: 165568.4375\n",
      "Epoch 217/350\n",
      "292/292 [==============================] - 0s 1ms/step - loss: 165727.9688 - mean_squared_error: 165727.9688\n",
      "Epoch 218/350\n",
      "292/292 [==============================] - 0s 2ms/step - loss: 165755.1875 - mean_squared_error: 165755.1875\n",
      "Epoch 219/350\n",
      "292/292 [==============================] - 0s 1ms/step - loss: 165507.3906 - mean_squared_error: 165507.3906\n",
      "Epoch 220/350\n",
      "292/292 [==============================] - 0s 1ms/step - loss: 165640.0000 - mean_squared_error: 165640.0000\n",
      "Epoch 221/350\n",
      "292/292 [==============================] - 0s 2ms/step - loss: 165487.8438 - mean_squared_error: 165487.8438\n",
      "Epoch 222/350\n",
      "292/292 [==============================] - 0s 1ms/step - loss: 165551.9688 - mean_squared_error: 165551.9688\n",
      "Epoch 223/350\n",
      "292/292 [==============================] - 0s 2ms/step - loss: 165579.3281 - mean_squared_error: 165579.3281\n",
      "Epoch 224/350\n",
      "292/292 [==============================] - 0s 1ms/step - loss: 165761.7344 - mean_squared_error: 165761.7344\n",
      "Epoch 225/350\n",
      "292/292 [==============================] - 0s 1ms/step - loss: 165699.9688 - mean_squared_error: 165699.9688\n",
      "Epoch 226/350\n",
      "292/292 [==============================] - 0s 1ms/step - loss: 165498.7969 - mean_squared_error: 165498.7969\n",
      "Epoch 227/350\n",
      "292/292 [==============================] - 0s 1ms/step - loss: 165896.7969 - mean_squared_error: 165896.7969\n",
      "Epoch 228/350\n",
      "292/292 [==============================] - 0s 1ms/step - loss: 165523.5781 - mean_squared_error: 165523.5781\n",
      "Epoch 229/350\n",
      "292/292 [==============================] - 1s 2ms/step - loss: 165743.2188 - mean_squared_error: 165743.2188\n",
      "Epoch 230/350\n",
      "292/292 [==============================] - 1s 2ms/step - loss: 165443.0000 - mean_squared_error: 165443.0000\n",
      "Epoch 231/350\n",
      "292/292 [==============================] - 1s 2ms/step - loss: 165322.2500 - mean_squared_error: 165322.2500\n",
      "Epoch 232/350\n",
      "292/292 [==============================] - 1s 2ms/step - loss: 165484.6250 - mean_squared_error: 165484.6250\n",
      "Epoch 233/350\n",
      "292/292 [==============================] - 0s 2ms/step - loss: 165865.2500 - mean_squared_error: 165865.2500\n",
      "Epoch 234/350\n",
      "292/292 [==============================] - 0s 2ms/step - loss: 165590.2656 - mean_squared_error: 165590.2656\n",
      "Epoch 235/350\n",
      "292/292 [==============================] - 0s 2ms/step - loss: 165462.1562 - mean_squared_error: 165462.1562\n",
      "Epoch 236/350\n",
      "292/292 [==============================] - 0s 2ms/step - loss: 165505.6094 - mean_squared_error: 165505.6094\n",
      "Epoch 237/350\n",
      "292/292 [==============================] - 1s 2ms/step - loss: 165697.2344 - mean_squared_error: 165697.2344\n",
      "Epoch 238/350\n",
      "292/292 [==============================] - 0s 2ms/step - loss: 165559.7500 - mean_squared_error: 165559.7500\n",
      "Epoch 239/350\n",
      "292/292 [==============================] - 0s 2ms/step - loss: 165494.5156 - mean_squared_error: 165494.5156\n",
      "Epoch 240/350\n",
      "292/292 [==============================] - 1s 2ms/step - loss: 165469.3438 - mean_squared_error: 165469.3438\n",
      "Epoch 241/350\n",
      "292/292 [==============================] - 1s 2ms/step - loss: 165560.2031 - mean_squared_error: 165560.2031\n",
      "Epoch 242/350\n",
      "292/292 [==============================] - 0s 2ms/step - loss: 165510.2969 - mean_squared_error: 165510.2969\n",
      "Epoch 243/350\n",
      "292/292 [==============================] - 1s 2ms/step - loss: 165535.0000 - mean_squared_error: 165535.0000\n",
      "Epoch 244/350\n",
      "292/292 [==============================] - 1s 2ms/step - loss: 165415.2656 - mean_squared_error: 165415.2656\n",
      "Epoch 245/350\n",
      "292/292 [==============================] - 1s 2ms/step - loss: 165341.9219 - mean_squared_error: 165341.9219\n",
      "Epoch 246/350\n",
      "292/292 [==============================] - 0s 1ms/step - loss: 165580.0156 - mean_squared_error: 165580.0156\n",
      "Epoch 247/350\n",
      "292/292 [==============================] - 1s 2ms/step - loss: 165456.3750 - mean_squared_error: 165456.3750\n",
      "Epoch 248/350\n",
      "292/292 [==============================] - 0s 1ms/step - loss: 165404.6562 - mean_squared_error: 165404.6562\n",
      "Epoch 249/350\n",
      "292/292 [==============================] - 0s 1ms/step - loss: 165435.2031 - mean_squared_error: 165435.2031\n",
      "Epoch 250/350\n",
      "292/292 [==============================] - 0s 1ms/step - loss: 165347.8438 - mean_squared_error: 165347.8438\n",
      "Epoch 251/350\n",
      "292/292 [==============================] - 0s 1ms/step - loss: 165605.8438 - mean_squared_error: 165605.8438\n",
      "Epoch 252/350\n",
      "292/292 [==============================] - 0s 1ms/step - loss: 165340.7812 - mean_squared_error: 165340.7812\n",
      "Epoch 253/350\n",
      "292/292 [==============================] - 0s 2ms/step - loss: 165423.7031 - mean_squared_error: 165423.7031\n",
      "Epoch 254/350\n",
      "292/292 [==============================] - 1s 2ms/step - loss: 165310.9219 - mean_squared_error: 165310.9219\n",
      "Epoch 255/350\n",
      "292/292 [==============================] - 0s 2ms/step - loss: 165360.9062 - mean_squared_error: 165360.9062\n",
      "Epoch 256/350\n",
      "292/292 [==============================] - 0s 1ms/step - loss: 165504.4844 - mean_squared_error: 165504.4844\n",
      "Epoch 257/350\n",
      "292/292 [==============================] - 0s 1ms/step - loss: 165107.7031 - mean_squared_error: 165107.7031\n",
      "Epoch 258/350\n",
      "292/292 [==============================] - 1s 2ms/step - loss: 165423.6250 - mean_squared_error: 165423.6250\n",
      "Epoch 259/350\n",
      "292/292 [==============================] - 0s 1ms/step - loss: 165373.6250 - mean_squared_error: 165373.6250\n",
      "Epoch 260/350\n",
      "292/292 [==============================] - 0s 1ms/step - loss: 165567.2969 - mean_squared_error: 165567.2969\n",
      "Epoch 261/350\n",
      "292/292 [==============================] - 0s 1ms/step - loss: 165515.8438 - mean_squared_error: 165515.8438\n",
      "Epoch 262/350\n",
      "292/292 [==============================] - 0s 1ms/step - loss: 165330.2812 - mean_squared_error: 165330.2812\n",
      "Epoch 263/350\n",
      "292/292 [==============================] - 0s 1ms/step - loss: 165236.3594 - mean_squared_error: 165236.3594\n",
      "Epoch 264/350\n",
      "292/292 [==============================] - 0s 1ms/step - loss: 165311.8906 - mean_squared_error: 165311.8906\n",
      "Epoch 265/350\n",
      "292/292 [==============================] - 0s 1ms/step - loss: 165569.0625 - mean_squared_error: 165569.0625\n",
      "Epoch 266/350\n",
      "292/292 [==============================] - 0s 1ms/step - loss: 165584.9688 - mean_squared_error: 165584.9688\n",
      "Epoch 267/350\n",
      "292/292 [==============================] - 0s 1ms/step - loss: 165398.9844 - mean_squared_error: 165398.9844\n",
      "Epoch 268/350\n",
      "292/292 [==============================] - 1s 2ms/step - loss: 165497.2344 - mean_squared_error: 165497.2344\n",
      "Epoch 269/350\n",
      "292/292 [==============================] - 0s 1ms/step - loss: 165276.7344 - mean_squared_error: 165276.7344\n",
      "Epoch 270/350\n",
      "292/292 [==============================] - 0s 2ms/step - loss: 165230.8438 - mean_squared_error: 165230.8438\n",
      "Epoch 271/350\n",
      "292/292 [==============================] - 0s 1ms/step - loss: 165240.5625 - mean_squared_error: 165240.5625\n",
      "Epoch 272/350\n",
      "292/292 [==============================] - 0s 1ms/step - loss: 165295.3750 - mean_squared_error: 165295.3750\n",
      "Epoch 273/350\n",
      "292/292 [==============================] - 0s 1ms/step - loss: 165395.5938 - mean_squared_error: 165395.5938\n",
      "Epoch 274/350\n",
      "292/292 [==============================] - 0s 1ms/step - loss: 165179.6250 - mean_squared_error: 165179.6250\n",
      "Epoch 275/350\n",
      "292/292 [==============================] - 0s 1ms/step - loss: 165195.5156 - mean_squared_error: 165195.5156\n",
      "Epoch 276/350\n",
      "292/292 [==============================] - 0s 2ms/step - loss: 165390.9062 - mean_squared_error: 165390.9062\n",
      "Epoch 277/350\n",
      "292/292 [==============================] - 0s 1ms/step - loss: 165169.4531 - mean_squared_error: 165169.4531\n",
      "Epoch 278/350\n",
      "292/292 [==============================] - 1s 2ms/step - loss: 165762.1719 - mean_squared_error: 165762.1719\n",
      "Epoch 279/350\n",
      "292/292 [==============================] - 0s 1ms/step - loss: 165089.6094 - mean_squared_error: 165089.6094\n",
      "Epoch 280/350\n",
      "292/292 [==============================] - 0s 1ms/step - loss: 165430.9062 - mean_squared_error: 165430.9062\n",
      "Epoch 281/350\n",
      "292/292 [==============================] - 0s 1ms/step - loss: 165169.2812 - mean_squared_error: 165169.2812\n",
      "Epoch 282/350\n",
      "292/292 [==============================] - 0s 2ms/step - loss: 165184.5625 - mean_squared_error: 165184.5625\n",
      "Epoch 283/350\n",
      "292/292 [==============================] - 0s 2ms/step - loss: 165487.1562 - mean_squared_error: 165487.1562\n",
      "Epoch 284/350\n",
      "292/292 [==============================] - 0s 1ms/step - loss: 165259.2500 - mean_squared_error: 165259.2500\n",
      "Epoch 285/350\n",
      "292/292 [==============================] - 0s 1ms/step - loss: 165272.9844 - mean_squared_error: 165272.9844\n",
      "Epoch 286/350\n",
      "292/292 [==============================] - 0s 1ms/step - loss: 165272.0469 - mean_squared_error: 165272.0469\n",
      "Epoch 287/350\n",
      "292/292 [==============================] - 1s 2ms/step - loss: 165152.9062 - mean_squared_error: 165152.9062\n",
      "Epoch 288/350\n",
      "292/292 [==============================] - 0s 2ms/step - loss: 165267.0312 - mean_squared_error: 165267.0312\n",
      "Epoch 289/350\n",
      "292/292 [==============================] - 0s 1ms/step - loss: 165308.5938 - mean_squared_error: 165308.5938\n",
      "Epoch 290/350\n",
      "292/292 [==============================] - 0s 1ms/step - loss: 165336.8125 - mean_squared_error: 165336.8125\n",
      "Epoch 291/350\n",
      "292/292 [==============================] - 0s 1ms/step - loss: 165046.6875 - mean_squared_error: 165046.6875\n",
      "Epoch 292/350\n",
      "292/292 [==============================] - 0s 1ms/step - loss: 165231.8594 - mean_squared_error: 165231.8594\n",
      "Epoch 293/350\n",
      "292/292 [==============================] - 0s 1ms/step - loss: 165094.9531 - mean_squared_error: 165094.9531\n",
      "Epoch 294/350\n",
      "292/292 [==============================] - 0s 1ms/step - loss: 165168.0938 - mean_squared_error: 165168.0938\n",
      "Epoch 295/350\n",
      "292/292 [==============================] - 0s 1ms/step - loss: 165587.7812 - mean_squared_error: 165587.7812\n",
      "Epoch 296/350\n",
      "292/292 [==============================] - 1s 2ms/step - loss: 165258.2969 - mean_squared_error: 165258.2969\n",
      "Epoch 297/350\n",
      "292/292 [==============================] - 0s 1ms/step - loss: 165209.4219 - mean_squared_error: 165209.4219\n",
      "Epoch 298/350\n",
      "292/292 [==============================] - 0s 2ms/step - loss: 165327.0312 - mean_squared_error: 165327.0312\n",
      "Epoch 299/350\n",
      "292/292 [==============================] - 0s 2ms/step - loss: 165182.5938 - mean_squared_error: 165182.5938\n",
      "Epoch 300/350\n",
      "292/292 [==============================] - 0s 1ms/step - loss: 165358.0781 - mean_squared_error: 165358.0781\n",
      "Epoch 301/350\n",
      "292/292 [==============================] - 0s 1ms/step - loss: 165323.5625 - mean_squared_error: 165323.5625\n",
      "Epoch 302/350\n",
      "292/292 [==============================] - 0s 1ms/step - loss: 165123.8438 - mean_squared_error: 165123.8438\n",
      "Epoch 303/350\n",
      "292/292 [==============================] - 0s 1ms/step - loss: 165086.7656 - mean_squared_error: 165086.7656\n",
      "Epoch 304/350\n",
      "292/292 [==============================] - 0s 1ms/step - loss: 165246.8438 - mean_squared_error: 165246.8438\n",
      "Epoch 305/350\n",
      "292/292 [==============================] - 1s 2ms/step - loss: 165262.7344 - mean_squared_error: 165262.7344\n",
      "Epoch 306/350\n",
      "292/292 [==============================] - 0s 2ms/step - loss: 165375.1562 - mean_squared_error: 165375.1562\n",
      "Epoch 307/350\n",
      "292/292 [==============================] - 0s 1ms/step - loss: 165533.6250 - mean_squared_error: 165533.6250\n",
      "Epoch 308/350\n",
      "292/292 [==============================] - 0s 2ms/step - loss: 165049.8750 - mean_squared_error: 165049.8750\n",
      "Epoch 309/350\n",
      "292/292 [==============================] - 0s 1ms/step - loss: 165052.7969 - mean_squared_error: 165052.7969\n",
      "Epoch 310/350\n",
      "292/292 [==============================] - 0s 1ms/step - loss: 165050.9688 - mean_squared_error: 165050.9688\n",
      "Epoch 311/350\n",
      "292/292 [==============================] - 0s 1ms/step - loss: 165181.0469 - mean_squared_error: 165181.0469\n",
      "Epoch 312/350\n",
      "292/292 [==============================] - 0s 1ms/step - loss: 165371.4062 - mean_squared_error: 165371.4062\n",
      "Epoch 313/350\n",
      "292/292 [==============================] - 0s 1ms/step - loss: 165245.1406 - mean_squared_error: 165245.1406\n",
      "Epoch 314/350\n",
      "292/292 [==============================] - 1s 2ms/step - loss: 165326.2344 - mean_squared_error: 165326.2344\n",
      "Epoch 315/350\n",
      "292/292 [==============================] - 0s 1ms/step - loss: 165291.7031 - mean_squared_error: 165291.7031\n",
      "Epoch 316/350\n",
      "292/292 [==============================] - 0s 1ms/step - loss: 165182.7656 - mean_squared_error: 165182.7656\n",
      "Epoch 317/350\n",
      "292/292 [==============================] - 0s 1ms/step - loss: 165165.8594 - mean_squared_error: 165165.8594\n",
      "Epoch 318/350\n",
      "292/292 [==============================] - 0s 1ms/step - loss: 165097.4688 - mean_squared_error: 165097.4688\n",
      "Epoch 319/350\n",
      "292/292 [==============================] - 0s 1ms/step - loss: 165031.9375 - mean_squared_error: 165031.9375\n",
      "Epoch 320/350\n",
      "292/292 [==============================] - 0s 1ms/step - loss: 165074.8594 - mean_squared_error: 165074.8594\n",
      "Epoch 321/350\n",
      "292/292 [==============================] - 0s 1ms/step - loss: 164903.1875 - mean_squared_error: 164903.1875\n",
      "Epoch 322/350\n",
      "292/292 [==============================] - 0s 1ms/step - loss: 165095.0781 - mean_squared_error: 165095.0781\n",
      "Epoch 323/350\n",
      "292/292 [==============================] - 1s 2ms/step - loss: 165094.5625 - mean_squared_error: 165094.5625\n",
      "Epoch 324/350\n",
      "292/292 [==============================] - 0s 1ms/step - loss: 165242.9688 - mean_squared_error: 165242.9688\n",
      "Epoch 325/350\n",
      "292/292 [==============================] - 0s 1ms/step - loss: 165441.8594 - mean_squared_error: 165441.8594\n",
      "Epoch 326/350\n",
      "292/292 [==============================] - 0s 1ms/step - loss: 165016.6875 - mean_squared_error: 165016.6875\n",
      "Epoch 327/350\n",
      "292/292 [==============================] - 0s 2ms/step - loss: 164861.4531 - mean_squared_error: 164861.4531\n",
      "Epoch 328/350\n",
      "292/292 [==============================] - 0s 1ms/step - loss: 165179.0469 - mean_squared_error: 165179.0469\n",
      "Epoch 329/350\n",
      "292/292 [==============================] - 0s 1ms/step - loss: 164976.6094 - mean_squared_error: 164976.6094\n",
      "Epoch 330/350\n",
      "292/292 [==============================] - 0s 1ms/step - loss: 165195.9688 - mean_squared_error: 165195.9688\n",
      "Epoch 331/350\n",
      "292/292 [==============================] - 1s 2ms/step - loss: 164854.4844 - mean_squared_error: 164854.4844\n",
      "Epoch 332/350\n",
      "292/292 [==============================] - 0s 1ms/step - loss: 165467.5938 - mean_squared_error: 165467.5938\n",
      "Epoch 333/350\n",
      "292/292 [==============================] - 0s 1ms/step - loss: 165275.4062 - mean_squared_error: 165275.4062\n",
      "Epoch 334/350\n",
      "292/292 [==============================] - 0s 1ms/step - loss: 164972.0781 - mean_squared_error: 164972.0781\n",
      "Epoch 335/350\n",
      "292/292 [==============================] - 0s 1ms/step - loss: 165329.6875 - mean_squared_error: 165329.6875\n",
      "Epoch 336/350\n",
      "292/292 [==============================] - 0s 1ms/step - loss: 165108.3125 - mean_squared_error: 165108.3125\n",
      "Epoch 337/350\n",
      "292/292 [==============================] - 0s 2ms/step - loss: 164937.4062 - mean_squared_error: 164937.4062\n",
      "Epoch 338/350\n",
      "292/292 [==============================] - 0s 1ms/step - loss: 165036.9375 - mean_squared_error: 165036.9375\n",
      "Epoch 339/350\n",
      "292/292 [==============================] - 1s 2ms/step - loss: 165467.1094 - mean_squared_error: 165467.1094\n",
      "Epoch 340/350\n",
      "292/292 [==============================] - 0s 1ms/step - loss: 164914.6094 - mean_squared_error: 164914.6094\n",
      "Epoch 341/350\n",
      "292/292 [==============================] - 0s 1ms/step - loss: 165230.3125 - mean_squared_error: 165230.3125\n",
      "Epoch 342/350\n",
      "292/292 [==============================] - 0s 1ms/step - loss: 165272.4062 - mean_squared_error: 165272.4062\n",
      "Epoch 343/350\n",
      "292/292 [==============================] - 0s 1ms/step - loss: 165029.8125 - mean_squared_error: 165029.8125\n",
      "Epoch 344/350\n",
      "292/292 [==============================] - 0s 1ms/step - loss: 165060.5156 - mean_squared_error: 165060.5156\n",
      "Epoch 345/350\n",
      "292/292 [==============================] - 0s 1ms/step - loss: 164914.7031 - mean_squared_error: 164914.7031\n",
      "Epoch 346/350\n",
      "292/292 [==============================] - 0s 1ms/step - loss: 165160.8438 - mean_squared_error: 165160.8438\n",
      "Epoch 347/350\n",
      "292/292 [==============================] - 1s 2ms/step - loss: 165123.6250 - mean_squared_error: 165123.6250\n",
      "Epoch 348/350\n",
      "292/292 [==============================] - 0s 1ms/step - loss: 164897.7969 - mean_squared_error: 164897.7969\n",
      "Epoch 349/350\n",
      "292/292 [==============================] - 0s 1ms/step - loss: 164969.8594 - mean_squared_error: 164969.8594\n",
      "Epoch 350/350\n",
      "292/292 [==============================] - 0s 2ms/step - loss: 164893.3906 - mean_squared_error: 164893.3906\n"
     ]
    }
   ],
   "source": [
    "nn_model = create_model(x_train, y_train)"
   ]
  },
  {
   "cell_type": "code",
   "execution_count": 63,
   "metadata": {},
   "outputs": [
    {
     "data": {
      "text/plain": [
       "0.39406318512882654"
      ]
     },
     "execution_count": 63,
     "metadata": {},
     "output_type": "execute_result"
    }
   ],
   "source": [
    "y_pred = nn_model.predict(x_test)\n",
    "from sklearn.metrics import r2_score\n",
    "r2_score(y_test, y_pred)"
   ]
  },
  {
   "cell_type": "code",
   "execution_count": 71,
   "metadata": {},
   "outputs": [],
   "source": [
    "nn_model.save('./outputs/rent_models/nn_model_v2.h5')"
   ]
  }
 ],
 "metadata": {
  "kernelspec": {
   "display_name": "Python 3 (ipykernel)",
   "language": "python",
   "name": "python3"
  },
  "language_info": {
   "codemirror_mode": {
    "name": "ipython",
    "version": 3
   },
   "file_extension": ".py",
   "mimetype": "text/x-python",
   "name": "python",
   "nbconvert_exporter": "python",
   "pygments_lexer": "ipython3",
   "version": "3.9.7"
  },
  "vscode": {
   "interpreter": {
    "hash": "604cf3a9394c66cbf5287310c1f5b5d7842e137a3208bfcc6a02740f6980241a"
   }
  }
 },
 "nbformat": 4,
 "nbformat_minor": 2
}
