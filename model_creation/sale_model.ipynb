{
 "cells": [
  {
   "cell_type": "code",
   "execution_count": 1,
   "metadata": {},
   "outputs": [],
   "source": [
    "# Import all libraries\n",
    "\n",
    "import pandas as pd\n",
    "import numpy as np\n",
    "import glob\n",
    "import os\n",
    "import pickle\n",
    "\n",
    "from sklearn.model_selection import train_test_split, GridSearchCV\n",
    "from sklearn.metrics import r2_score\n",
    "\n",
    "import tensorflow as tf\n",
    "from tensorflow.keras import Model\n",
    "from tensorflow.keras.layers import Input, Dense"
   ]
  },
  {
   "cell_type": "code",
   "execution_count": 2,
   "metadata": {},
   "outputs": [],
   "source": [
    "rstate = 2\n",
    "path = '../data_engineering/outputs/sales/'"
   ]
  },
  {
   "cell_type": "code",
   "execution_count": 3,
   "metadata": {},
   "outputs": [],
   "source": [
    "# load the data\n",
    "parquet_files = glob.glob(os.path.join(path, \"*.parquet\"))\n",
    "data = pd.concat((pd.read_parquet(f) for f in parquet_files))\n",
    "\n",
    "inputs = data[['sqfeet',\n",
    "              'beds',\n",
    "              'baths',\n",
    "              'income',\n",
    "              'density']]\n",
    "              \n",
    "outputs = data['price']"
   ]
  },
  {
   "cell_type": "code",
   "execution_count": 4,
   "metadata": {},
   "outputs": [
    {
     "data": {
      "text/html": [
       "<div>\n",
       "<style scoped>\n",
       "    .dataframe tbody tr th:only-of-type {\n",
       "        vertical-align: middle;\n",
       "    }\n",
       "\n",
       "    .dataframe tbody tr th {\n",
       "        vertical-align: top;\n",
       "    }\n",
       "\n",
       "    .dataframe thead th {\n",
       "        text-align: right;\n",
       "    }\n",
       "</style>\n",
       "<table border=\"1\" class=\"dataframe\">\n",
       "  <thead>\n",
       "    <tr style=\"text-align: right;\">\n",
       "      <th></th>\n",
       "      <th>sqfeet</th>\n",
       "      <th>beds</th>\n",
       "      <th>baths</th>\n",
       "      <th>income</th>\n",
       "      <th>density</th>\n",
       "      <th>price</th>\n",
       "    </tr>\n",
       "  </thead>\n",
       "  <tbody>\n",
       "    <tr>\n",
       "      <th>count</th>\n",
       "      <td>546794.000000</td>\n",
       "      <td>546794.000000</td>\n",
       "      <td>546794.000000</td>\n",
       "      <td>546794.000000</td>\n",
       "      <td>546794.000000</td>\n",
       "      <td>5.467940e+05</td>\n",
       "    </tr>\n",
       "    <tr>\n",
       "      <th>mean</th>\n",
       "      <td>1820.117699</td>\n",
       "      <td>3.073077</td>\n",
       "      <td>2.314281</td>\n",
       "      <td>70652.892645</td>\n",
       "      <td>13422.753906</td>\n",
       "      <td>8.249511e+05</td>\n",
       "    </tr>\n",
       "    <tr>\n",
       "      <th>std</th>\n",
       "      <td>924.363580</td>\n",
       "      <td>1.346245</td>\n",
       "      <td>1.085194</td>\n",
       "      <td>28247.310344</td>\n",
       "      <td>24667.255859</td>\n",
       "      <td>1.336170e+06</td>\n",
       "    </tr>\n",
       "    <tr>\n",
       "      <th>min</th>\n",
       "      <td>100.000000</td>\n",
       "      <td>1.000000</td>\n",
       "      <td>1.000000</td>\n",
       "      <td>11368.000000</td>\n",
       "      <td>1.000000</td>\n",
       "      <td>5.000000e+02</td>\n",
       "    </tr>\n",
       "    <tr>\n",
       "      <th>25%</th>\n",
       "      <td>1126.000000</td>\n",
       "      <td>2.000000</td>\n",
       "      <td>2.000000</td>\n",
       "      <td>49740.000000</td>\n",
       "      <td>521.000000</td>\n",
       "      <td>2.960000e+05</td>\n",
       "    </tr>\n",
       "    <tr>\n",
       "      <th>50%</th>\n",
       "      <td>1600.000000</td>\n",
       "      <td>3.000000</td>\n",
       "      <td>2.000000</td>\n",
       "      <td>66583.000000</td>\n",
       "      <td>2256.000000</td>\n",
       "      <td>4.899000e+05</td>\n",
       "    </tr>\n",
       "    <tr>\n",
       "      <th>75%</th>\n",
       "      <td>2314.000000</td>\n",
       "      <td>4.000000</td>\n",
       "      <td>3.000000</td>\n",
       "      <td>86346.000000</td>\n",
       "      <td>13251.000000</td>\n",
       "      <td>8.390000e+05</td>\n",
       "    </tr>\n",
       "    <tr>\n",
       "      <th>max</th>\n",
       "      <td>5000.000000</td>\n",
       "      <td>8.000000</td>\n",
       "      <td>8.000000</td>\n",
       "      <td>230952.000000</td>\n",
       "      <td>143683.000000</td>\n",
       "      <td>4.500000e+07</td>\n",
       "    </tr>\n",
       "  </tbody>\n",
       "</table>\n",
       "</div>"
      ],
      "text/plain": [
       "              sqfeet           beds          baths         income  \\\n",
       "count  546794.000000  546794.000000  546794.000000  546794.000000   \n",
       "mean     1820.117699       3.073077       2.314281   70652.892645   \n",
       "std       924.363580       1.346245       1.085194   28247.310344   \n",
       "min       100.000000       1.000000       1.000000   11368.000000   \n",
       "25%      1126.000000       2.000000       2.000000   49740.000000   \n",
       "50%      1600.000000       3.000000       2.000000   66583.000000   \n",
       "75%      2314.000000       4.000000       3.000000   86346.000000   \n",
       "max      5000.000000       8.000000       8.000000  230952.000000   \n",
       "\n",
       "             density         price  \n",
       "count  546794.000000  5.467940e+05  \n",
       "mean    13422.753906  8.249511e+05  \n",
       "std     24667.255859  1.336170e+06  \n",
       "min         1.000000  5.000000e+02  \n",
       "25%       521.000000  2.960000e+05  \n",
       "50%      2256.000000  4.899000e+05  \n",
       "75%     13251.000000  8.390000e+05  \n",
       "max    143683.000000  4.500000e+07  "
      ]
     },
     "execution_count": 4,
     "metadata": {},
     "output_type": "execute_result"
    }
   ],
   "source": [
    "data.describe()"
   ]
  },
  {
   "cell_type": "code",
   "execution_count": 5,
   "metadata": {},
   "outputs": [],
   "source": [
    "import itertools\n",
    "import matplotlib.pyplot as plt\n",
    "\n",
    "\n",
    "def graph_dist(inputs):\n",
    "    labels = ['sqfeet',\n",
    "              'beds',\n",
    "              'baths',\n",
    "              'income',\n",
    "              'density']\n",
    "    \n",
    "    fig,axs = plt.subplots(1,5,figsize=(25,5))\n",
    "    for i in range(5):\n",
    "        axs[i].scatter(inputs[labels[i]],inputs['price'])\n",
    "        axs[i].set_xlabel(labels[i])\n",
    "        axs[i].set_ylabel(\"Price\")\n",
    "    plt.tight_layout()\n",
    "    return fig, axs\n"
   ]
  },
  {
   "cell_type": "code",
   "execution_count": 6,
   "metadata": {},
   "outputs": [
    {
     "data": {
      "image/png": "[encoded data removed]",
      "text/plain": [
       "<Figure size 1800x360 with 5 Axes>"
      ]
     },
     "metadata": {
      "needs_background": "light"
     },
     "output_type": "display_data"
    }
   ],
   "source": [
    "fig, axs = graph_dist(data)"
   ]
  },
  {
   "cell_type": "code",
   "execution_count": 6,
   "metadata": {},
   "outputs": [],
   "source": [
    "x_train, x_test, y_train, y_test = train_test_split(inputs, outputs, test_size = 0.2, random_state=rstate)"
   ]
  },
  {
   "cell_type": "markdown",
   "metadata": {},
   "source": [
    "### Trying Models, evaluating, and saving them"
   ]
  },
  {
   "cell_type": "markdown",
   "metadata": {},
   "source": [
    "Linear Regression"
   ]
  },
  {
   "cell_type": "code",
   "execution_count": 8,
   "metadata": {},
   "outputs": [
    {
     "data": {
      "text/plain": [
       "LinearRegression()"
      ]
     },
     "execution_count": 8,
     "metadata": {},
     "output_type": "execute_result"
    }
   ],
   "source": [
    "from sklearn.linear_model import LinearRegression, Ridge, Lasso\n",
    "\n",
    "linmodel = LinearRegression()\n",
    "linmodel.fit(x_train, y_train)"
   ]
  },
  {
   "cell_type": "code",
   "execution_count": 9,
   "metadata": {},
   "outputs": [
    {
     "data": {
      "text/plain": [
       "0.3785061900982307"
      ]
     },
     "execution_count": 9,
     "metadata": {},
     "output_type": "execute_result"
    }
   ],
   "source": [
    "linmodel.score(x_test, y_test)"
   ]
  },
  {
   "cell_type": "code",
   "execution_count": 10,
   "metadata": {},
   "outputs": [
    {
     "data": {
      "text/plain": [
       "array([-374042.48580555,  647480.2186743 ,  902884.68453545, ...,\n",
       "        983319.29200659, 1506750.85431256, 1432537.3511473 ])"
      ]
     },
     "execution_count": 10,
     "metadata": {},
     "output_type": "execute_result"
    }
   ],
   "source": [
    "linmodel.predict(x_test)"
   ]
  },
  {
   "cell_type": "code",
   "execution_count": 11,
   "metadata": {},
   "outputs": [
    {
     "data": {
      "text/plain": [
       "Ridge()"
      ]
     },
     "execution_count": 11,
     "metadata": {},
     "output_type": "execute_result"
    }
   ],
   "source": [
    "ridgemodel = Ridge()\n",
    "ridgemodel.fit(x_train, y_train)"
   ]
  },
  {
   "cell_type": "code",
   "execution_count": 12,
   "metadata": {},
   "outputs": [
    {
     "data": {
      "text/plain": [
       "0.37850618298591787"
      ]
     },
     "execution_count": 12,
     "metadata": {},
     "output_type": "execute_result"
    }
   ],
   "source": [
    "ridgemodel.score(x_test, y_test)"
   ]
  },
  {
   "cell_type": "code",
   "execution_count": 13,
   "metadata": {},
   "outputs": [
    {
     "data": {
      "text/plain": [
       "array([-374041.58563127,  647479.37069195,  902887.01361315, ...,\n",
       "        983320.30737108, 1506749.34628427, 1432537.61592226])"
      ]
     },
     "execution_count": 13,
     "metadata": {},
     "output_type": "execute_result"
    }
   ],
   "source": [
    "ridgemodel.predict(x_test)"
   ]
  },
  {
   "cell_type": "code",
   "execution_count": 14,
   "metadata": {},
   "outputs": [
    {
     "data": {
      "text/plain": [
       "Lasso()"
      ]
     },
     "execution_count": 14,
     "metadata": {},
     "output_type": "execute_result"
    }
   ],
   "source": [
    "lassomodel = Lasso()\n",
    "lassomodel.fit(x_train, y_train)"
   ]
  },
  {
   "cell_type": "code",
   "execution_count": 15,
   "metadata": {},
   "outputs": [
    {
     "data": {
      "text/plain": [
       "0.3785061769860931"
      ]
     },
     "execution_count": 15,
     "metadata": {},
     "output_type": "execute_result"
    }
   ],
   "source": [
    "lassomodel.score(x_test, y_test)"
   ]
  },
  {
   "cell_type": "code",
   "execution_count": 16,
   "metadata": {},
   "outputs": [
    {
     "data": {
      "text/plain": [
       "array([-374040.59621807,  647478.58952065,  902889.80089863, ...,\n",
       "        983321.15019757, 1506748.66276324, 1432537.10974036])"
      ]
     },
     "execution_count": 16,
     "metadata": {},
     "output_type": "execute_result"
    }
   ],
   "source": [
    "lassomodel.predict(x_test)"
   ]
  },
  {
   "cell_type": "code",
   "execution_count": 17,
   "metadata": {},
   "outputs": [
    {
     "data": {
      "text/html": [
       "\n",
       "    <style>\n",
       "    table.eli5-weights tr:hover {\n",
       "        filter: brightness(85%);\n",
       "    }\n",
       "</style>\n",
       "\n",
       "\n",
       "\n",
       "    \n",
       "\n",
       "    \n",
       "\n",
       "    \n",
       "\n",
       "    \n",
       "\n",
       "    \n",
       "\n",
       "    \n",
       "\n",
       "\n",
       "    \n",
       "\n",
       "    \n",
       "\n",
       "    \n",
       "\n",
       "    \n",
       "        \n",
       "\n",
       "    \n",
       "\n",
       "        \n",
       "            \n",
       "                \n",
       "                \n",
       "    \n",
       "        <p style=\"margin-bottom: 0.5em; margin-top: 0em\">\n",
       "            <b>\n",
       "    \n",
       "        y\n",
       "    \n",
       "</b>\n",
       "\n",
       "top features\n",
       "        </p>\n",
       "    \n",
       "    <table class=\"eli5-weights\"\n",
       "           style=\"border-collapse: collapse; border: none; margin-top: 0em; table-layout: auto; margin-bottom: 2em;\">\n",
       "        <thead>\n",
       "        <tr style=\"border: none;\">\n",
       "            \n",
       "                <th style=\"padding: 0 1em 0 0.5em; text-align: right; border: none;\" title=\"Feature weights. Note that weights do not account for feature value scales, so if feature values have different scales, features with highest weights might not be the most important.\">\n",
       "                    Weight<sup>?</sup>\n",
       "                </th>\n",
       "            \n",
       "            <th style=\"padding: 0 0.5em 0 0.5em; text-align: left; border: none;\">Feature</th>\n",
       "            \n",
       "        </tr>\n",
       "        </thead>\n",
       "        <tbody>\n",
       "        \n",
       "            <tr style=\"background-color: hsl(120, 100.00%, 90.73%); border: none;\">\n",
       "    <td style=\"padding: 0 1em 0 0.5em; text-align: right; border: none;\">\n",
       "        +310747.336\n",
       "    </td>\n",
       "    <td style=\"padding: 0 0.5em 0 0.5em; text-align: left; border: none;\">\n",
       "        baths\n",
       "    </td>\n",
       "    \n",
       "</tr>\n",
       "        \n",
       "            <tr style=\"background-color: hsl(120, 100.00%, 99.92%); border: none;\">\n",
       "    <td style=\"padding: 0 1em 0 0.5em; text-align: right; border: none;\">\n",
       "        +370.033\n",
       "    </td>\n",
       "    <td style=\"padding: 0 0.5em 0 0.5em; text-align: left; border: none;\">\n",
       "        sqfeet\n",
       "    </td>\n",
       "    \n",
       "</tr>\n",
       "        \n",
       "            <tr style=\"background-color: hsl(120, 100.00%, 99.99%); border: none;\">\n",
       "    <td style=\"padding: 0 1em 0 0.5em; text-align: right; border: none;\">\n",
       "        +24.346\n",
       "    </td>\n",
       "    <td style=\"padding: 0 0.5em 0 0.5em; text-align: left; border: none;\">\n",
       "        density\n",
       "    </td>\n",
       "    \n",
       "</tr>\n",
       "        \n",
       "            <tr style=\"background-color: hsl(120, 100.00%, 100.00%); border: none;\">\n",
       "    <td style=\"padding: 0 1em 0 0.5em; text-align: right; border: none;\">\n",
       "        +5.619\n",
       "    </td>\n",
       "    <td style=\"padding: 0 0.5em 0 0.5em; text-align: left; border: none;\">\n",
       "        income\n",
       "    </td>\n",
       "    \n",
       "</tr>\n",
       "        \n",
       "        \n",
       "\n",
       "        \n",
       "        \n",
       "            <tr style=\"background-color: hsl(0, 100.00%, 95.32%); border: none;\">\n",
       "    <td style=\"padding: 0 1em 0 0.5em; text-align: right; border: none;\">\n",
       "        -117043.747\n",
       "    </td>\n",
       "    <td style=\"padding: 0 0.5em 0 0.5em; text-align: left; border: none;\">\n",
       "        beds\n",
       "    </td>\n",
       "    \n",
       "</tr>\n",
       "        \n",
       "            <tr style=\"background-color: hsl(0, 100.00%, 80.00%); border: none;\">\n",
       "    <td style=\"padding: 0 1em 0 0.5em; text-align: right; border: none;\">\n",
       "        -932012.581\n",
       "    </td>\n",
       "    <td style=\"padding: 0 0.5em 0 0.5em; text-align: left; border: none;\">\n",
       "        &lt;BIAS&gt;\n",
       "    </td>\n",
       "    \n",
       "</tr>\n",
       "        \n",
       "\n",
       "        </tbody>\n",
       "    </table>\n",
       "\n",
       "            \n",
       "        \n",
       "\n",
       "        \n",
       "\n",
       "\n",
       "\n",
       "    \n",
       "\n",
       "    \n",
       "\n",
       "    \n",
       "\n",
       "    \n",
       "\n",
       "\n",
       "    \n",
       "\n",
       "    \n",
       "\n",
       "    \n",
       "\n",
       "    \n",
       "\n",
       "    \n",
       "\n",
       "    \n",
       "\n",
       "\n",
       "    \n",
       "\n",
       "    \n",
       "\n",
       "    \n",
       "\n",
       "    \n",
       "\n",
       "    \n",
       "\n",
       "    \n",
       "\n",
       "\n",
       "\n"
      ],
      "text/plain": [
       "<IPython.core.display.HTML object>"
      ]
     },
     "execution_count": 17,
     "metadata": {},
     "output_type": "execute_result"
    }
   ],
   "source": [
    "import eli5\n",
    "eli5.show_weights(lassomodel, feature_names = inputs.columns.tolist())"
   ]
  },
  {
   "cell_type": "code",
   "execution_count": 18,
   "metadata": {},
   "outputs": [],
   "source": [
    "pickle.dump(linmodel, open('./outputs/sale_models/linmodel.pkl', 'wb'))\n",
    "pickle.dump(ridgemodel, open('./outputs/sale_models/ridgemodel.pkl', 'wb'))\n",
    "pickle.dump(lassomodel, open('./outputs/sale_models/lassomodel.pkl', 'wb'))"
   ]
  },
  {
   "cell_type": "markdown",
   "metadata": {},
   "source": [
    "Decision Tree"
   ]
  },
  {
   "cell_type": "code",
   "execution_count": 19,
   "metadata": {},
   "outputs": [
    {
     "data": {
      "text/plain": [
       "DecisionTreeRegressor(random_state=2)"
      ]
     },
     "execution_count": 19,
     "metadata": {},
     "output_type": "execute_result"
    }
   ],
   "source": [
    "from sklearn.tree import DecisionTreeRegressor\n",
    "\n",
    "dtree = DecisionTreeRegressor(random_state=rstate)\n",
    "dtree.fit(x_train, y_train)"
   ]
  },
  {
   "cell_type": "code",
   "execution_count": 20,
   "metadata": {},
   "outputs": [
    {
     "data": {
      "text/plain": [
       "0.9726284594785054"
      ]
     },
     "execution_count": 20,
     "metadata": {},
     "output_type": "execute_result"
    }
   ],
   "source": [
    "dtree.score(x_test, y_test)"
   ]
  },
  {
   "cell_type": "code",
   "execution_count": 21,
   "metadata": {},
   "outputs": [
    {
     "data": {
      "text/plain": [
       "array([  62500.        ,  423250.        ,  799999.        , ...,\n",
       "        625000.        , 1490000.        ,  362679.48717949])"
      ]
     },
     "execution_count": 21,
     "metadata": {},
     "output_type": "execute_result"
    }
   ],
   "source": [
    "dtree.predict(x_test)"
   ]
  },
  {
   "cell_type": "code",
   "execution_count": 22,
   "metadata": {},
   "outputs": [
    {
     "name": "stdout",
     "output_type": "stream",
     "text": [
      "Best parameter (CV score=0.961):\n",
      "{'max_depth': 40}\n"
     ]
    }
   ],
   "source": [
    "# Tuning dtree parameters\n",
    "dtree_search = GridSearchCV(dtree, param_grid={\n",
    "        'max_depth':np.arange(10, 100, 10),\n",
    "        }, cv=2)\n",
    "dtree_search.fit(x_train, y_train)\n",
    "print(\"Best parameter (CV score=%0.3f):\" % dtree_search.best_score_)\n",
    "print(dtree_search.best_params_)"
   ]
  },
  {
   "cell_type": "code",
   "execution_count": 23,
   "metadata": {},
   "outputs": [],
   "source": [
    "pickle.dump(dtree, open('./outputs/sale_models/decision_tree.pkl', 'wb'))\n",
    "pickle.dump(dtree_search, open('./outputs/sale_models/decision_tree_gridsearch.pkl', 'wb'))"
   ]
  },
  {
   "cell_type": "markdown",
   "metadata": {},
   "source": [
    "Random Forest"
   ]
  },
  {
   "cell_type": "code",
   "execution_count": 8,
   "metadata": {},
   "outputs": [
    {
     "data": {
      "text/plain": [
       "RandomForestRegressor(random_state=2)"
      ]
     },
     "execution_count": 8,
     "metadata": {},
     "output_type": "execute_result"
    }
   ],
   "source": [
    "from sklearn.ensemble import RandomForestRegressor\n",
    "\n",
    "randforest = RandomForestRegressor(random_state=rstate)\n",
    "randforest.fit(x_train, y_train)"
   ]
  },
  {
   "cell_type": "code",
   "execution_count": 9,
   "metadata": {},
   "outputs": [
    {
     "data": {
      "text/plain": [
       "0.9858775290059424"
      ]
     },
     "execution_count": 9,
     "metadata": {},
     "output_type": "execute_result"
    }
   ],
   "source": [
    "randforest.score(x_test, y_test)"
   ]
  },
  {
   "cell_type": "code",
   "execution_count": 26,
   "metadata": {},
   "outputs": [
    {
     "data": {
      "text/plain": [
       "array([  62500.        ,  423250.        ,  799999.        , ...,\n",
       "        625000.        , 1490000.        ,  365853.90733083])"
      ]
     },
     "execution_count": 26,
     "metadata": {},
     "output_type": "execute_result"
    }
   ],
   "source": [
    "randforest.predict(x_test)"
   ]
  },
  {
   "cell_type": "code",
   "execution_count": 10,
   "metadata": {},
   "outputs": [
    {
     "name": "stdout",
     "output_type": "stream",
     "text": [
      "Best parameter (CV score=0.971):\n",
      "{'max_depth': 100, 'n_estimators': 200}\n"
     ]
    }
   ],
   "source": [
    "randforest_search = GridSearchCV(randforest, param_grid={\n",
    "        'n_estimators':np.arange(100,300,50),\n",
    "        'max_depth': np.arange(50,200,50)\n",
    "        }, cv=2)\n",
    "randforest_search.fit(x_train, y_train)\n",
    "print(\"Best parameter (CV score=%0.3f):\" % randforest_search.best_score_)\n",
    "print(randforest_search.best_params_)"
   ]
  },
  {
   "cell_type": "code",
   "execution_count": 11,
   "metadata": {},
   "outputs": [
    {
     "data": {
      "text/plain": [
       "0.9857353197577481"
      ]
     },
     "execution_count": 11,
     "metadata": {},
     "output_type": "execute_result"
    }
   ],
   "source": [
    "randforest_search.score(x_test, y_test)"
   ]
  },
  {
   "cell_type": "code",
   "execution_count": 12,
   "metadata": {},
   "outputs": [
    {
     "data": {
      "text/plain": [
       "array([  62500.       ,  423250.       ,  799999.       , ...,\n",
       "        625000.       , 1490000.       ,  362997.4175569])"
      ]
     },
     "execution_count": 12,
     "metadata": {},
     "output_type": "execute_result"
    }
   ],
   "source": [
    "randforest_search.predict(x_test)"
   ]
  },
  {
   "cell_type": "code",
   "execution_count": 13,
   "metadata": {},
   "outputs": [],
   "source": [
    "pickle.dump(randforest, open('./outputs/sale_models/random_forest.pkl', 'wb'))\n",
    "pickle.dump(randforest_search, open('./outputs/sale_models/randforest_search.pkl', 'wb'))"
   ]
  },
  {
   "cell_type": "markdown",
   "metadata": {},
   "source": [
    "XGBoost"
   ]
  },
  {
   "cell_type": "code",
   "execution_count": 28,
   "metadata": {},
   "outputs": [
    {
     "data": {
      "text/plain": [
       "XGBRegressor(base_score=0.5, booster='gbtree', callbacks=None,\n",
       "             colsample_bylevel=1, colsample_bynode=1, colsample_bytree=1,\n",
       "             early_stopping_rounds=None, enable_categorical=False,\n",
       "             eval_metric=None, feature_types=None, gamma=0, gpu_id=-1,\n",
       "             grow_policy='depthwise', importance_type=None,\n",
       "             interaction_constraints='', learning_rate=0.300000012, max_bin=256,\n",
       "             max_cat_threshold=64, max_cat_to_onehot=4, max_delta_step=0,\n",
       "             max_depth=6, max_leaves=0, min_child_weight=1, missing=nan,\n",
       "             monotone_constraints='()', n_estimators=100, n_jobs=0,\n",
       "             num_parallel_tree=1, predictor='auto', random_state=2, ...)"
      ]
     },
     "execution_count": 28,
     "metadata": {},
     "output_type": "execute_result"
    }
   ],
   "source": [
    "from xgboost import XGBRegressor\n",
    "\n",
    "xgb = XGBRegressor(seed=rstate)\n",
    "xgb.fit(x_train, y_train)"
   ]
  },
  {
   "cell_type": "code",
   "execution_count": 29,
   "metadata": {},
   "outputs": [
    {
     "data": {
      "text/plain": [
       "0.9300482989726243"
      ]
     },
     "execution_count": 29,
     "metadata": {},
     "output_type": "execute_result"
    }
   ],
   "source": [
    "xgb.score(x_test, y_test)"
   ]
  },
  {
   "cell_type": "code",
   "execution_count": 30,
   "metadata": {},
   "outputs": [
    {
     "data": {
      "text/plain": [
       "array([ 250382.78,  470265.25,  935445.5 , ...,  610710.25, 1346283.5 ,\n",
       "        405640.5 ], dtype=float32)"
      ]
     },
     "execution_count": 30,
     "metadata": {},
     "output_type": "execute_result"
    }
   ],
   "source": [
    "xgb.predict(x_test)"
   ]
  },
  {
   "cell_type": "code",
   "execution_count": 31,
   "metadata": {},
   "outputs": [
    {
     "name": "stdout",
     "output_type": "stream",
     "text": [
      "Best parameter (CV score=0.944):\n",
      "{'learning_rate': 0.3, 'n_estimators': 250}\n"
     ]
    }
   ],
   "source": [
    "xgb_search = GridSearchCV(xgb, param_grid={\n",
    "        'n_estimators':np.arange(100,300,50),\n",
    "        'learning_rate': [0.0001, 0.001, 0.01, 0.1, 0.2, 0.3]\n",
    "        }, cv=2)\n",
    "xgb_search.fit(x_train, y_train)\n",
    "print(\"Best parameter (CV score=%0.3f):\" % xgb_search.best_score_)\n",
    "print(xgb_search.best_params_)"
   ]
  },
  {
   "cell_type": "code",
   "execution_count": 32,
   "metadata": {},
   "outputs": [
    {
     "data": {
      "text/plain": [
       "array([ 269137.16,  449134.16,  797465.25, ...,  633888.94, 1405569.1 ,\n",
       "        390447.4 ], dtype=float32)"
      ]
     },
     "execution_count": 32,
     "metadata": {},
     "output_type": "execute_result"
    }
   ],
   "source": [
    "xgb_search.predict(x_test)"
   ]
  },
  {
   "cell_type": "code",
   "execution_count": 33,
   "metadata": {},
   "outputs": [
    {
     "data": {
      "text/plain": [
       "XGBRegressor(base_score=0.5, booster='gbtree', callbacks=None,\n",
       "             colsample_bylevel=1, colsample_bynode=1, colsample_bytree=1,\n",
       "             early_stopping_rounds=None, enable_categorical=False,\n",
       "             eval_metric=None, feature_types=None, gamma=0, gpu_id=-1,\n",
       "             grow_policy='depthwise', importance_type=None,\n",
       "             interaction_constraints='', learning_rate=0.3, max_bin=256,\n",
       "             max_cat_threshold=64, max_cat_to_onehot=4, max_delta_step=0,\n",
       "             max_depth=6, max_leaves=0, min_child_weight=1, missing=nan,\n",
       "             monotone_constraints='()', n_estimators=250, n_jobs=0,\n",
       "             num_parallel_tree=1, predictor='auto', random_state=2, ...)"
      ]
     },
     "execution_count": 33,
     "metadata": {},
     "output_type": "execute_result"
    }
   ],
   "source": [
    "xgb = XGBRegressor(seed=rstate, learning_rate=0.3, n_estimators=250)\n",
    "xgb.fit(x_train, y_train)"
   ]
  },
  {
   "cell_type": "code",
   "execution_count": 34,
   "metadata": {},
   "outputs": [
    {
     "data": {
      "text/plain": [
       "0.9564228846346995"
      ]
     },
     "execution_count": 34,
     "metadata": {},
     "output_type": "execute_result"
    }
   ],
   "source": [
    "xgb.score(x_test, y_test)"
   ]
  },
  {
   "cell_type": "code",
   "execution_count": 35,
   "metadata": {},
   "outputs": [],
   "source": [
    "pickle.dump(xgb, open('./outputs/sale_models/xgb.pkl', 'wb'))\n",
    "pickle.dump(xgb_search, open('./outputs/sale_models/xgb_gridsearch.pkl', 'wb'))"
   ]
  },
  {
   "cell_type": "markdown",
   "metadata": {},
   "source": [
    "CatBoost"
   ]
  },
  {
   "cell_type": "code",
   "execution_count": 36,
   "metadata": {},
   "outputs": [
    {
     "data": {
      "text/plain": [
       "<catboost.core.CatBoostRegressor at 0x7fbb68b2fcd0>"
      ]
     },
     "execution_count": 36,
     "metadata": {},
     "output_type": "execute_result"
    }
   ],
   "source": [
    "from catboost import CatBoostRegressor\n",
    "\n",
    "catboost = CatBoostRegressor(random_seed=rstate, verbose=False)\n",
    "catboost.fit(x_train, y_train)"
   ]
  },
  {
   "cell_type": "code",
   "execution_count": 37,
   "metadata": {},
   "outputs": [
    {
     "data": {
      "text/plain": [
       "0.9162868447980871"
      ]
     },
     "execution_count": 37,
     "metadata": {},
     "output_type": "execute_result"
    }
   ],
   "source": [
    "catboost.score(x_test, y_test)"
   ]
  },
  {
   "cell_type": "code",
   "execution_count": 38,
   "metadata": {},
   "outputs": [
    {
     "data": {
      "text/plain": [
       "array([ 234735.069423  ,  544288.22858113,  830770.51769499, ...,\n",
       "        531214.50867178, 1366486.73792084,  411241.93690002])"
      ]
     },
     "execution_count": 38,
     "metadata": {},
     "output_type": "execute_result"
    }
   ],
   "source": [
    "catboost.predict(x_test)"
   ]
  },
  {
   "cell_type": "code",
   "execution_count": 39,
   "metadata": {},
   "outputs": [
    {
     "name": "stdout",
     "output_type": "stream",
     "text": [
      "Best parameter (CV score=0.894):\n",
      "{'learning_rate': 0.3, 'n_estimators': 250}\n"
     ]
    }
   ],
   "source": [
    "catboost_search = GridSearchCV(catboost, param_grid={\n",
    "        'n_estimators':np.arange(100,300,50),\n",
    "        'learning_rate': [0.0001, 0.001, 0.01, 0.1, 0.2, 0.3]\n",
    "        }, cv=2)\n",
    "catboost_search.fit(x_train, y_train)\n",
    "print(\"Best parameter (CV score=%0.3f):\" % catboost_search.best_score_)\n",
    "print(catboost_search.best_params_)"
   ]
  },
  {
   "cell_type": "code",
   "execution_count": 40,
   "metadata": {},
   "outputs": [
    {
     "data": {
      "text/plain": [
       "array([ 231580.93983224,  540062.69880044,  776930.7333461 , ...,\n",
       "        538108.93740286, 1406745.20259288,  427408.32868359])"
      ]
     },
     "execution_count": 40,
     "metadata": {},
     "output_type": "execute_result"
    }
   ],
   "source": [
    "catboost_search.predict(x_test)"
   ]
  },
  {
   "cell_type": "code",
   "execution_count": 41,
   "metadata": {},
   "outputs": [],
   "source": [
    "pickle.dump(catboost, open('./outputs/sale_models/catboost.pkl', 'wb'))\n",
    "pickle.dump(catboost_search, open('./outputs/sale_models/catboost_gridsearch.pkl', 'wb'))"
   ]
  },
  {
   "cell_type": "markdown",
   "metadata": {},
   "source": [
    "K-Nearest-Neighbors"
   ]
  },
  {
   "cell_type": "code",
   "execution_count": 9,
   "metadata": {},
   "outputs": [
    {
     "data": {
      "text/plain": [
       "KNeighborsRegressor()"
      ]
     },
     "execution_count": 9,
     "metadata": {},
     "output_type": "execute_result"
    }
   ],
   "source": [
    "from sklearn.neighbors import KNeighborsRegressor\n",
    "\n",
    "knn = KNeighborsRegressor()\n",
    "knn.fit(x_train, y_train)"
   ]
  },
  {
   "cell_type": "code",
   "execution_count": 10,
   "metadata": {},
   "outputs": [
    {
     "data": {
      "text/plain": [
       "0.9635025213757172"
      ]
     },
     "execution_count": 10,
     "metadata": {},
     "output_type": "execute_result"
    }
   ],
   "source": [
    "knn.score(x_test, y_test)"
   ]
  },
  {
   "cell_type": "code",
   "execution_count": 11,
   "metadata": {},
   "outputs": [
    {
     "data": {
      "text/plain": [
       "sqfeet       792.0\n",
       "beds           3.0\n",
       "baths          1.0\n",
       "income     53112.0\n",
       "density      282.0\n",
       "Name: 120762, dtype: float64"
      ]
     },
     "execution_count": 11,
     "metadata": {},
     "output_type": "execute_result"
    }
   ],
   "source": [
    "x_test.iloc[0]"
   ]
  },
  {
   "cell_type": "code",
   "execution_count": 12,
   "metadata": {},
   "outputs": [
    {
     "name": "stderr",
     "output_type": "stream",
     "text": [
      "/Users/nathanyee/miniconda3/envs/tensorflow/lib/python3.9/site-packages/sklearn/base.py:450: UserWarning: X does not have valid feature names, but KNeighborsRegressor was fitted with feature names\n",
      "  warnings.warn(\n"
     ]
    },
    {
     "data": {
      "text/plain": [
       "array([62500.])"
      ]
     },
     "execution_count": 12,
     "metadata": {},
     "output_type": "execute_result"
    }
   ],
   "source": [
    "knn.predict([x_test.iloc[0]])"
   ]
  },
  {
   "cell_type": "code",
   "execution_count": 13,
   "metadata": {},
   "outputs": [
    {
     "data": {
      "text/plain": [
       "62500.0"
      ]
     },
     "execution_count": 13,
     "metadata": {},
     "output_type": "execute_result"
    }
   ],
   "source": [
    "y_test.iloc[0]"
   ]
  },
  {
   "cell_type": "code",
   "execution_count": 14,
   "metadata": {},
   "outputs": [
    {
     "data": {
      "text/plain": [
       "array([  62500.,  423250.,  799999., ...,  625000., 1490000.,  306200.])"
      ]
     },
     "execution_count": 14,
     "metadata": {},
     "output_type": "execute_result"
    }
   ],
   "source": [
    "knn.predict(x_test)"
   ]
  },
  {
   "cell_type": "code",
   "execution_count": 48,
   "metadata": {},
   "outputs": [
    {
     "name": "stdout",
     "output_type": "stream",
     "text": [
      "Best parameter (CV score=0.956):\n",
      "{'n_neighbors': 1}\n"
     ]
    }
   ],
   "source": [
    "knn_search = GridSearchCV(knn, param_grid={\n",
    "        'n_neighbors':np.arange(1, 50),\n",
    "        }, cv=2)\n",
    "knn_search.fit(x_train, y_train)\n",
    "print(\"Best parameter (CV score=%0.3f):\" % knn_search.best_score_)\n",
    "print(knn_search.best_params_)"
   ]
  },
  {
   "cell_type": "code",
   "execution_count": 15,
   "metadata": {},
   "outputs": [],
   "source": [
    "pickle.dump(knn, open('./outputs/sale_models/knn.pkl', 'wb'))\n",
    "pickle.dump(knn_search, open('./outputs/sale_models/knn_gridsearch.pkl', 'wb'))"
   ]
  },
  {
   "cell_type": "markdown",
   "metadata": {},
   "source": [
    "Tensorflow Neural Network"
   ]
  },
  {
   "cell_type": "code",
   "execution_count": 50,
   "metadata": {},
   "outputs": [],
   "source": [
    "# Keras NN model to be created\n",
    "def create_model(inputs, outputs):\n",
    "    input_layer = Input(shape=(5, ))\n",
    "    x1 = Dense(15, activation='relu', kernel_initializer='normal') (input_layer)\n",
    "    x2 = Dense(5, activation='relu', kernel_initializer='normal') (x1)\n",
    "    x3 = Dense(3, activation='relu', kernel_initializer='normal') (x2)\n",
    "    output = Dense(1, activation='linear', kernel_initializer='normal') (x3)\n",
    "\n",
    "    t_model = Model(inputs=input_layer, outputs=output)\n",
    "\n",
    "    t_model.compile(\n",
    "        loss='mean_squared_error', \n",
    "        optimizer=tf.keras.optimizers.Adam(),\n",
    "        metrics=[\"mean_squared_error\"]\n",
    "    )\n",
    "    \n",
    "    t_model.fit(inputs, outputs, epochs=350, batch_size=1000, verbose=True)\n",
    "    return t_model"
   ]
  },
  {
   "cell_type": "code",
   "execution_count": 51,
   "metadata": {},
   "outputs": [
    {
     "name": "stderr",
     "output_type": "stream",
     "text": [
      "2022-11-26 00:52:51.941866: I tensorflow/core/platform/cpu_feature_guard.cc:151] This TensorFlow binary is optimized with oneAPI Deep Neural Network Library (oneDNN) to use the following CPU instructions in performance-critical operations:  AVX2 AVX512F FMA\n",
      "To enable them in other operations, rebuild TensorFlow with the appropriate compiler flags.\n"
     ]
    },
    {
     "name": "stdout",
     "output_type": "stream",
     "text": [
      "Epoch 1/350\n",
      "438/438 [==============================] - 2s 2ms/step - loss: 2144522076160.0000 - mean_squared_error: 2144522076160.0000\n",
      "Epoch 2/350\n",
      "438/438 [==============================] - 1s 2ms/step - loss: 1396063469568.0000 - mean_squared_error: 1396063469568.0000\n",
      "Epoch 3/350\n",
      "438/438 [==============================] - 1s 2ms/step - loss: 1350574407680.0000 - mean_squared_error: 1350574407680.0000\n",
      "Epoch 4/350\n",
      "438/438 [==============================] - 1s 2ms/step - loss: 1338301612032.0000 - mean_squared_error: 1338301612032.0000\n",
      "Epoch 5/350\n",
      "438/438 [==============================] - 1s 1ms/step - loss: 1331414958080.0000 - mean_squared_error: 1331414958080.0000\n",
      "Epoch 6/350\n",
      "438/438 [==============================] - 1s 1ms/step - loss: 1324256722944.0000 - mean_squared_error: 1324256722944.0000\n",
      "Epoch 7/350\n",
      "438/438 [==============================] - 1s 1ms/step - loss: 1316214538240.0000 - mean_squared_error: 1316214538240.0000\n",
      "Epoch 8/350\n",
      "438/438 [==============================] - 1s 1ms/step - loss: 1306631340032.0000 - mean_squared_error: 1306631340032.0000\n",
      "Epoch 9/350\n",
      "438/438 [==============================] - 1s 2ms/step - loss: 1295298330624.0000 - mean_squared_error: 1295298330624.0000\n",
      "Epoch 10/350\n",
      "438/438 [==============================] - 1s 2ms/step - loss: 1281528037376.0000 - mean_squared_error: 1281528037376.0000\n",
      "Epoch 11/350\n",
      "438/438 [==============================] - 1s 2ms/step - loss: 1265387175936.0000 - mean_squared_error: 1265387175936.0000\n",
      "Epoch 12/350\n",
      "438/438 [==============================] - 1s 2ms/step - loss: 1248958349312.0000 - mean_squared_error: 1248958349312.0000\n",
      "Epoch 13/350\n",
      "438/438 [==============================] - 1s 2ms/step - loss: 1236315537408.0000 - mean_squared_error: 1236315537408.0000\n",
      "Epoch 14/350\n",
      "438/438 [==============================] - 1s 2ms/step - loss: 1229899694080.0000 - mean_squared_error: 1229899694080.0000\n",
      "Epoch 15/350\n",
      "438/438 [==============================] - 1s 2ms/step - loss: 1227904909312.0000 - mean_squared_error: 1227904909312.0000\n",
      "Epoch 16/350\n",
      "438/438 [==============================] - 1s 2ms/step - loss: 1227418370048.0000 - mean_squared_error: 1227418370048.0000\n",
      "Epoch 17/350\n",
      "438/438 [==============================] - 1s 2ms/step - loss: 1227091869696.0000 - mean_squared_error: 1227091869696.0000\n",
      "Epoch 18/350\n",
      "438/438 [==============================] - 1s 2ms/step - loss: 1227204984832.0000 - mean_squared_error: 1227204984832.0000\n",
      "Epoch 19/350\n",
      "438/438 [==============================] - 1s 2ms/step - loss: 1227009294336.0000 - mean_squared_error: 1227009294336.0000\n",
      "Epoch 20/350\n",
      "438/438 [==============================] - 1s 2ms/step - loss: 1226896834560.0000 - mean_squared_error: 1226896834560.0000\n",
      "Epoch 21/350\n",
      "438/438 [==============================] - 1s 2ms/step - loss: 1226948345856.0000 - mean_squared_error: 1226948345856.0000\n",
      "Epoch 22/350\n",
      "438/438 [==============================] - 1s 2ms/step - loss: 1226774151168.0000 - mean_squared_error: 1226774151168.0000\n",
      "Epoch 23/350\n",
      "438/438 [==============================] - 1s 2ms/step - loss: 1226886086656.0000 - mean_squared_error: 1226886086656.0000\n",
      "Epoch 24/350\n",
      "438/438 [==============================] - 1s 2ms/step - loss: 1226695639040.0000 - mean_squared_error: 1226695639040.0000\n",
      "Epoch 25/350\n",
      "438/438 [==============================] - 1s 2ms/step - loss: 1226560634880.0000 - mean_squared_error: 1226560634880.0000\n",
      "Epoch 26/350\n",
      "438/438 [==============================] - 1s 2ms/step - loss: 1226562863104.0000 - mean_squared_error: 1226562863104.0000\n",
      "Epoch 27/350\n",
      "438/438 [==============================] - 1s 2ms/step - loss: 1226425237504.0000 - mean_squared_error: 1226425237504.0000\n",
      "Epoch 28/350\n",
      "438/438 [==============================] - 1s 2ms/step - loss: 1226514235392.0000 - mean_squared_error: 1226514235392.0000\n",
      "Epoch 29/350\n",
      "438/438 [==============================] - 1s 2ms/step - loss: 1226437033984.0000 - mean_squared_error: 1226437033984.0000\n",
      "Epoch 30/350\n",
      "438/438 [==============================] - 1s 1ms/step - loss: 1226256285696.0000 - mean_squared_error: 1226256285696.0000\n",
      "Epoch 31/350\n",
      "438/438 [==============================] - 1s 1ms/step - loss: 1226273062912.0000 - mean_squared_error: 1226273062912.0000\n",
      "Epoch 32/350\n",
      "438/438 [==============================] - 1s 1ms/step - loss: 1226079207424.0000 - mean_squared_error: 1226079207424.0000\n",
      "Epoch 33/350\n",
      "438/438 [==============================] - 1s 1ms/step - loss: 1226087727104.0000 - mean_squared_error: 1226087727104.0000\n",
      "Epoch 34/350\n",
      "438/438 [==============================] - 1s 2ms/step - loss: 1226022322176.0000 - mean_squared_error: 1226022322176.0000\n",
      "Epoch 35/350\n",
      "438/438 [==============================] - 1s 3ms/step - loss: 1225772367872.0000 - mean_squared_error: 1225772367872.0000\n",
      "Epoch 36/350\n",
      "438/438 [==============================] - 1s 3ms/step - loss: 1225698836480.0000 - mean_squared_error: 1225698836480.0000\n",
      "Epoch 37/350\n",
      "438/438 [==============================] - 1s 2ms/step - loss: 1225643786240.0000 - mean_squared_error: 1225643786240.0000\n",
      "Epoch 38/350\n",
      "438/438 [==============================] - 1s 2ms/step - loss: 1225819160576.0000 - mean_squared_error: 1225819160576.0000\n",
      "Epoch 39/350\n",
      "438/438 [==============================] - 1s 2ms/step - loss: 1225725313024.0000 - mean_squared_error: 1225725313024.0000\n",
      "Epoch 40/350\n",
      "438/438 [==============================] - 1s 2ms/step - loss: 1225733963776.0000 - mean_squared_error: 1225733963776.0000\n",
      "Epoch 41/350\n",
      "438/438 [==============================] - 1s 2ms/step - loss: 1225601056768.0000 - mean_squared_error: 1225601056768.0000\n",
      "Epoch 42/350\n",
      "438/438 [==============================] - 1s 2ms/step - loss: 1225776168960.0000 - mean_squared_error: 1225776168960.0000\n",
      "Epoch 43/350\n",
      "438/438 [==============================] - 1s 2ms/step - loss: 1225666330624.0000 - mean_squared_error: 1225666330624.0000\n",
      "Epoch 44/350\n",
      "438/438 [==============================] - 1s 2ms/step - loss: 1225637363712.0000 - mean_squared_error: 1225637363712.0000\n",
      "Epoch 45/350\n",
      "438/438 [==============================] - 1s 2ms/step - loss: 1225652699136.0000 - mean_squared_error: 1225652699136.0000\n",
      "Epoch 46/350\n",
      "438/438 [==============================] - 1s 2ms/step - loss: 1225720987648.0000 - mean_squared_error: 1225720987648.0000\n",
      "Epoch 47/350\n",
      "438/438 [==============================] - 1s 2ms/step - loss: 1225776168960.0000 - mean_squared_error: 1225776168960.0000\n",
      "Epoch 48/350\n",
      "438/438 [==============================] - 1s 2ms/step - loss: 1225463169024.0000 - mean_squared_error: 1225463169024.0000\n",
      "Epoch 49/350\n",
      "438/438 [==============================] - 1s 2ms/step - loss: 1225560293376.0000 - mean_squared_error: 1225560293376.0000\n",
      "Epoch 50/350\n",
      "438/438 [==============================] - 1s 2ms/step - loss: 1225560817664.0000 - mean_squared_error: 1225560817664.0000\n",
      "Epoch 51/350\n",
      "438/438 [==============================] - 1s 2ms/step - loss: 1225424240640.0000 - mean_squared_error: 1225424240640.0000\n",
      "Epoch 52/350\n",
      "438/438 [==============================] - 1s 2ms/step - loss: 1225451241472.0000 - mean_squared_error: 1225451241472.0000\n",
      "Epoch 53/350\n",
      "438/438 [==============================] - 2s 5ms/step - loss: 1225608265728.0000 - mean_squared_error: 1225608265728.0000\n",
      "Epoch 54/350\n",
      "438/438 [==============================] - 2s 5ms/step - loss: 1225480208384.0000 - mean_squared_error: 1225480208384.0000\n",
      "Epoch 55/350\n",
      "438/438 [==============================] - 2s 4ms/step - loss: 1225421094912.0000 - mean_squared_error: 1225421094912.0000\n",
      "Epoch 56/350\n",
      "438/438 [==============================] - 2s 5ms/step - loss: 1225512189952.0000 - mean_squared_error: 1225512189952.0000\n",
      "Epoch 57/350\n",
      "438/438 [==============================] - 1s 3ms/step - loss: 1225269968896.0000 - mean_squared_error: 1225269968896.0000\n",
      "Epoch 58/350\n",
      "438/438 [==============================] - 1s 2ms/step - loss: 1225385312256.0000 - mean_squared_error: 1225385312256.0000\n",
      "Epoch 59/350\n",
      "438/438 [==============================] - 1s 2ms/step - loss: 1225445998592.0000 - mean_squared_error: 1225445998592.0000\n",
      "Epoch 60/350\n",
      "438/438 [==============================] - 1s 2ms/step - loss: 1225273507840.0000 - mean_squared_error: 1225273507840.0000\n",
      "Epoch 61/350\n",
      "438/438 [==============================] - 1s 2ms/step - loss: 1225255944192.0000 - mean_squared_error: 1225255944192.0000\n",
      "Epoch 62/350\n",
      "438/438 [==============================] - 1s 2ms/step - loss: 1225280192512.0000 - mean_squared_error: 1225280192512.0000\n",
      "Epoch 63/350\n",
      "438/438 [==============================] - 1s 2ms/step - loss: 1225216753664.0000 - mean_squared_error: 1225216753664.0000\n",
      "Epoch 64/350\n",
      "438/438 [==============================] - 1s 2ms/step - loss: 1225166422016.0000 - mean_squared_error: 1225166422016.0000\n",
      "Epoch 65/350\n",
      "438/438 [==============================] - 1s 3ms/step - loss: 1225123692544.0000 - mean_squared_error: 1225123692544.0000\n",
      "Epoch 66/350\n",
      "438/438 [==============================] - 1s 2ms/step - loss: 1224976629760.0000 - mean_squared_error: 1224976629760.0000\n",
      "Epoch 67/350\n",
      "438/438 [==============================] - 1s 2ms/step - loss: 1225077293056.0000 - mean_squared_error: 1225077293056.0000\n",
      "Epoch 68/350\n",
      "438/438 [==============================] - 1s 2ms/step - loss: 1225118580736.0000 - mean_squared_error: 1225118580736.0000\n",
      "Epoch 69/350\n",
      "438/438 [==============================] - 1s 2ms/step - loss: 1225204039680.0000 - mean_squared_error: 1225204039680.0000\n",
      "Epoch 70/350\n",
      "438/438 [==============================] - 1s 2ms/step - loss: 1225158426624.0000 - mean_squared_error: 1225158426624.0000\n",
      "Epoch 71/350\n",
      "438/438 [==============================] - 1s 2ms/step - loss: 1225001533440.0000 - mean_squared_error: 1225001533440.0000\n",
      "Epoch 72/350\n",
      "438/438 [==============================] - 1s 2ms/step - loss: 1224967323648.0000 - mean_squared_error: 1224967323648.0000\n",
      "Epoch 73/350\n",
      "438/438 [==============================] - 1s 2ms/step - loss: 1224867577856.0000 - mean_squared_error: 1224867577856.0000\n",
      "Epoch 74/350\n",
      "438/438 [==============================] - 1s 2ms/step - loss: 1224984100864.0000 - mean_squared_error: 1224984100864.0000\n",
      "Epoch 75/350\n",
      "438/438 [==============================] - 1s 2ms/step - loss: 1225013592064.0000 - mean_squared_error: 1225013592064.0000\n",
      "Epoch 76/350\n",
      "438/438 [==============================] - 1s 2ms/step - loss: 1224937832448.0000 - mean_squared_error: 1224937832448.0000\n",
      "Epoch 77/350\n",
      "438/438 [==============================] - 1s 2ms/step - loss: 1224949235712.0000 - mean_squared_error: 1224949235712.0000\n",
      "Epoch 78/350\n",
      "438/438 [==============================] - 1s 2ms/step - loss: 1224861679616.0000 - mean_squared_error: 1224861679616.0000\n",
      "Epoch 79/350\n",
      "438/438 [==============================] - 1s 2ms/step - loss: 1224800468992.0000 - mean_squared_error: 1224800468992.0000\n",
      "Epoch 80/350\n",
      "438/438 [==============================] - 1s 2ms/step - loss: 1224821964800.0000 - mean_squared_error: 1224821964800.0000\n",
      "Epoch 81/350\n",
      "438/438 [==============================] - 1s 2ms/step - loss: 1224768880640.0000 - mean_squared_error: 1224768880640.0000\n",
      "Epoch 82/350\n",
      "438/438 [==============================] - 1s 2ms/step - loss: 1224876359680.0000 - mean_squared_error: 1224876359680.0000\n",
      "Epoch 83/350\n",
      "438/438 [==============================] - 1s 2ms/step - loss: 1224779759616.0000 - mean_squared_error: 1224779759616.0000\n",
      "Epoch 84/350\n",
      "438/438 [==============================] - 1s 2ms/step - loss: 1224794570752.0000 - mean_squared_error: 1224794570752.0000\n",
      "Epoch 85/350\n",
      "438/438 [==============================] - 1s 2ms/step - loss: 1224733360128.0000 - mean_squared_error: 1224733360128.0000\n",
      "Epoch 86/350\n",
      "438/438 [==============================] - 1s 2ms/step - loss: 1224737161216.0000 - mean_squared_error: 1224737161216.0000\n",
      "Epoch 87/350\n",
      "438/438 [==============================] - 1s 2ms/step - loss: 1224726806528.0000 - mean_squared_error: 1224726806528.0000\n",
      "Epoch 88/350\n",
      "438/438 [==============================] - 1s 2ms/step - loss: 1224594292736.0000 - mean_squared_error: 1224594292736.0000\n",
      "Epoch 89/350\n",
      "438/438 [==============================] - 1s 2ms/step - loss: 1224695873536.0000 - mean_squared_error: 1224695873536.0000\n",
      "Epoch 90/350\n",
      "438/438 [==============================] - 1s 2ms/step - loss: 1224713830400.0000 - mean_squared_error: 1224713830400.0000\n",
      "Epoch 91/350\n",
      "438/438 [==============================] - 1s 2ms/step - loss: 1224545796096.0000 - mean_squared_error: 1224545796096.0000\n",
      "Epoch 92/350\n",
      "438/438 [==============================] - 1s 2ms/step - loss: 1224639774720.0000 - mean_squared_error: 1224639774720.0000\n",
      "Epoch 93/350\n",
      "438/438 [==============================] - 1s 2ms/step - loss: 1224644231168.0000 - mean_squared_error: 1224644231168.0000\n",
      "Epoch 94/350\n",
      "438/438 [==============================] - 1s 2ms/step - loss: 1224516435968.0000 - mean_squared_error: 1224516435968.0000\n",
      "Epoch 95/350\n",
      "438/438 [==============================] - 1s 2ms/step - loss: 1224579088384.0000 - mean_squared_error: 1224579088384.0000\n",
      "Epoch 96/350\n",
      "438/438 [==============================] - 1s 2ms/step - loss: 1224419966976.0000 - mean_squared_error: 1224419966976.0000\n",
      "Epoch 97/350\n",
      "438/438 [==============================] - 1s 2ms/step - loss: 1224551694336.0000 - mean_squared_error: 1224551694336.0000\n",
      "Epoch 98/350\n",
      "438/438 [==============================] - 1s 2ms/step - loss: 1224302657536.0000 - mean_squared_error: 1224302657536.0000\n",
      "Epoch 99/350\n",
      "438/438 [==============================] - 1s 3ms/step - loss: 1224510799872.0000 - mean_squared_error: 1224510799872.0000\n",
      "Epoch 100/350\n",
      "438/438 [==============================] - 1s 2ms/step - loss: 1224376582144.0000 - mean_squared_error: 1224376582144.0000\n",
      "Epoch 101/350\n",
      "438/438 [==============================] - 1s 3ms/step - loss: 1224383528960.0000 - mean_squared_error: 1224383528960.0000\n",
      "Epoch 102/350\n",
      "438/438 [==============================] - 1s 2ms/step - loss: 1224358887424.0000 - mean_squared_error: 1224358887424.0000\n",
      "Epoch 103/350\n",
      "438/438 [==============================] - 1s 2ms/step - loss: 1224471609344.0000 - mean_squared_error: 1224471609344.0000\n",
      "Epoch 104/350\n",
      "438/438 [==============================] - 1s 2ms/step - loss: 1224307507200.0000 - mean_squared_error: 1224307507200.0000\n",
      "Epoch 105/350\n",
      "438/438 [==============================] - 1s 2ms/step - loss: 1224244330496.0000 - mean_squared_error: 1224244330496.0000\n",
      "Epoch 106/350\n",
      "438/438 [==============================] - 1s 2ms/step - loss: 1224167653376.0000 - mean_squared_error: 1224167653376.0000\n",
      "Epoch 107/350\n",
      "438/438 [==============================] - 1s 2ms/step - loss: 1224293613568.0000 - mean_squared_error: 1224293613568.0000\n",
      "Epoch 108/350\n",
      "438/438 [==============================] - 1s 2ms/step - loss: 1224333590528.0000 - mean_squared_error: 1224333590528.0000\n",
      "Epoch 109/350\n",
      "438/438 [==============================] - 1s 2ms/step - loss: 1224224538624.0000 - mean_squared_error: 1224224538624.0000\n",
      "Epoch 110/350\n",
      "438/438 [==============================] - 1s 2ms/step - loss: 1224205533184.0000 - mean_squared_error: 1224205533184.0000\n",
      "Epoch 111/350\n",
      "438/438 [==============================] - 1s 2ms/step - loss: 1224097398784.0000 - mean_squared_error: 1224097398784.0000\n",
      "Epoch 112/350\n",
      "438/438 [==============================] - 1s 2ms/step - loss: 1223887290368.0000 - mean_squared_error: 1223887290368.0000\n",
      "Epoch 113/350\n",
      "438/438 [==============================] - 1s 2ms/step - loss: 1224283389952.0000 - mean_squared_error: 1224283389952.0000\n",
      "Epoch 114/350\n",
      "438/438 [==============================] - 1s 3ms/step - loss: 1224014299136.0000 - mean_squared_error: 1224014299136.0000\n",
      "Epoch 115/350\n",
      "438/438 [==============================] - 1s 2ms/step - loss: 1224045363200.0000 - mean_squared_error: 1224045363200.0000\n",
      "Epoch 116/350\n",
      "438/438 [==============================] - 1s 2ms/step - loss: 1224132263936.0000 - mean_squared_error: 1224132263936.0000\n",
      "Epoch 117/350\n",
      "438/438 [==============================] - 1s 2ms/step - loss: 1224037498880.0000 - mean_squared_error: 1224037498880.0000\n",
      "Epoch 118/350\n",
      "438/438 [==============================] - 1s 2ms/step - loss: 1223977336832.0000 - mean_squared_error: 1223977336832.0000\n",
      "Epoch 119/350\n",
      "438/438 [==============================] - 1s 3ms/step - loss: 1224030814208.0000 - mean_squared_error: 1224030814208.0000\n",
      "Epoch 120/350\n",
      "438/438 [==============================] - 1s 2ms/step - loss: 1223955054592.0000 - mean_squared_error: 1223955054592.0000\n",
      "Epoch 121/350\n",
      "438/438 [==============================] - 1s 3ms/step - loss: 1223939325952.0000 - mean_squared_error: 1223939325952.0000\n",
      "Epoch 122/350\n",
      "438/438 [==============================] - 1s 3ms/step - loss: 1224034091008.0000 - mean_squared_error: 1224034091008.0000\n",
      "Epoch 123/350\n",
      "438/438 [==============================] - 1s 3ms/step - loss: 1223836827648.0000 - mean_squared_error: 1223836827648.0000\n",
      "Epoch 124/350\n",
      "438/438 [==============================] - 1s 3ms/step - loss: 1223816511488.0000 - mean_squared_error: 1223816511488.0000\n",
      "Epoch 125/350\n",
      "438/438 [==============================] - 1s 2ms/step - loss: 1224035663872.0000 - mean_squared_error: 1224035663872.0000\n",
      "Epoch 126/350\n",
      "438/438 [==============================] - 1s 2ms/step - loss: 1223825424384.0000 - mean_squared_error: 1223825424384.0000\n",
      "Epoch 127/350\n",
      "438/438 [==============================] - 1s 2ms/step - loss: 1223814938624.0000 - mean_squared_error: 1223814938624.0000\n",
      "Epoch 128/350\n",
      "438/438 [==============================] - 1s 2ms/step - loss: 1223674691584.0000 - mean_squared_error: 1223674691584.0000\n",
      "Epoch 129/350\n",
      "438/438 [==============================] - 1s 2ms/step - loss: 1223690944512.0000 - mean_squared_error: 1223690944512.0000\n",
      "Epoch 130/350\n",
      "438/438 [==============================] - 1s 2ms/step - loss: 1223703134208.0000 - mean_squared_error: 1223703134208.0000\n",
      "Epoch 131/350\n",
      "438/438 [==============================] - 1s 2ms/step - loss: 1223656210432.0000 - mean_squared_error: 1223656210432.0000\n",
      "Epoch 132/350\n",
      "438/438 [==============================] - 1s 2ms/step - loss: 1223626063872.0000 - mean_squared_error: 1223626063872.0000\n",
      "Epoch 133/350\n",
      "438/438 [==============================] - 1s 2ms/step - loss: 1223511638016.0000 - mean_squared_error: 1223511638016.0000\n",
      "Epoch 134/350\n",
      "438/438 [==============================] - 1s 2ms/step - loss: 1223797112832.0000 - mean_squared_error: 1223797112832.0000\n",
      "Epoch 135/350\n",
      "438/438 [==============================] - 1s 2ms/step - loss: 1223439286272.0000 - mean_squared_error: 1223439286272.0000\n",
      "Epoch 136/350\n",
      "438/438 [==============================] - 1s 2ms/step - loss: 1223448330240.0000 - mean_squared_error: 1223448330240.0000\n",
      "Epoch 137/350\n",
      "438/438 [==============================] - 1s 2ms/step - loss: 1223648477184.0000 - mean_squared_error: 1223648477184.0000\n",
      "Epoch 138/350\n",
      "438/438 [==============================] - 1s 3ms/step - loss: 1223462354944.0000 - mean_squared_error: 1223462354944.0000\n",
      "Epoch 139/350\n",
      "438/438 [==============================] - 1s 3ms/step - loss: 1223568916480.0000 - mean_squared_error: 1223568916480.0000\n",
      "Epoch 140/350\n",
      "438/438 [==============================] - 1s 3ms/step - loss: 1223430897664.0000 - mean_squared_error: 1223430897664.0000\n",
      "Epoch 141/350\n",
      "438/438 [==============================] - 1s 3ms/step - loss: 1223547551744.0000 - mean_squared_error: 1223547551744.0000\n",
      "Epoch 142/350\n",
      "438/438 [==============================] - 1s 3ms/step - loss: 1223388561408.0000 - mean_squared_error: 1223388561408.0000\n",
      "Epoch 143/350\n",
      "438/438 [==============================] - 1s 2ms/step - loss: 1223397212160.0000 - mean_squared_error: 1223397212160.0000\n",
      "Epoch 144/350\n",
      "438/438 [==============================] - 1s 3ms/step - loss: 1223291568128.0000 - mean_squared_error: 1223291568128.0000\n",
      "Epoch 145/350\n",
      "438/438 [==============================] - 1s 3ms/step - loss: 1223302316032.0000 - mean_squared_error: 1223302447104.0000\n",
      "Epoch 146/350\n",
      "438/438 [==============================] - 1s 3ms/step - loss: 1223306379264.0000 - mean_squared_error: 1223306379264.0000\n",
      "Epoch 147/350\n",
      "438/438 [==============================] - 1s 3ms/step - loss: 1223205715968.0000 - mean_squared_error: 1223205715968.0000\n",
      "Epoch 148/350\n",
      "438/438 [==============================] - 1s 3ms/step - loss: 1223248052224.0000 - mean_squared_error: 1223248052224.0000\n",
      "Epoch 149/350\n",
      "438/438 [==============================] - 1s 3ms/step - loss: 1223335739392.0000 - mean_squared_error: 1223335739392.0000\n",
      "Epoch 150/350\n",
      "438/438 [==============================] - 1s 3ms/step - loss: 1223179763712.0000 - mean_squared_error: 1223179763712.0000\n",
      "Epoch 151/350\n",
      "438/438 [==============================] - 1s 2ms/step - loss: 1223116718080.0000 - mean_squared_error: 1223116718080.0000\n",
      "Epoch 152/350\n",
      "438/438 [==============================] - 1s 2ms/step - loss: 1223137820672.0000 - mean_squared_error: 1223137820672.0000\n",
      "Epoch 153/350\n",
      "438/438 [==============================] - 1s 2ms/step - loss: 1223106494464.0000 - mean_squared_error: 1223106494464.0000\n",
      "Epoch 154/350\n",
      "438/438 [==============================] - 1s 2ms/step - loss: 1223131660288.0000 - mean_squared_error: 1223131660288.0000\n",
      "Epoch 155/350\n",
      "438/438 [==============================] - 1s 2ms/step - loss: 1223070842880.0000 - mean_squared_error: 1223070842880.0000\n",
      "Epoch 156/350\n",
      "438/438 [==============================] - 1s 2ms/step - loss: 1223101644800.0000 - mean_squared_error: 1223101644800.0000\n",
      "Epoch 157/350\n",
      "438/438 [==============================] - 1s 2ms/step - loss: 1223055507456.0000 - mean_squared_error: 1223055507456.0000\n",
      "Epoch 158/350\n",
      "438/438 [==============================] - 1s 2ms/step - loss: 1222922862592.0000 - mean_squared_error: 1222922862592.0000\n",
      "Epoch 159/350\n",
      "438/438 [==============================] - 1s 2ms/step - loss: 1222869516288.0000 - mean_squared_error: 1222869516288.0000\n",
      "Epoch 160/350\n",
      "438/438 [==============================] - 1s 2ms/step - loss: 1222934003712.0000 - mean_squared_error: 1222934003712.0000\n",
      "Epoch 161/350\n",
      "438/438 [==============================] - 1s 2ms/step - loss: 1222949076992.0000 - mean_squared_error: 1222949076992.0000\n",
      "Epoch 162/350\n",
      "438/438 [==============================] - 2s 4ms/step - loss: 1222894944256.0000 - mean_squared_error: 1222894944256.0000\n",
      "Epoch 163/350\n",
      "438/438 [==============================] - 3s 8ms/step - loss: 1222770950144.0000 - mean_squared_error: 1222770950144.0000\n",
      "Epoch 164/350\n",
      "438/438 [==============================] - 2s 5ms/step - loss: 1222635028480.0000 - mean_squared_error: 1222635028480.0000\n",
      "Epoch 165/350\n",
      "438/438 [==============================] - 1s 3ms/step - loss: 1222730711040.0000 - mean_squared_error: 1222730711040.0000\n",
      "Epoch 166/350\n",
      "438/438 [==============================] - 1s 3ms/step - loss: 1222908051456.0000 - mean_squared_error: 1222908051456.0000\n",
      "Epoch 167/350\n",
      "438/438 [==============================] - 1s 3ms/step - loss: 1222706855936.0000 - mean_squared_error: 1222706855936.0000\n",
      "Epoch 168/350\n",
      "438/438 [==============================] - 1s 3ms/step - loss: 1222640926720.0000 - mean_squared_error: 1222640926720.0000\n",
      "Epoch 169/350\n",
      "438/438 [==============================] - 2s 5ms/step - loss: 1222730448896.0000 - mean_squared_error: 1222730448896.0000\n",
      "Epoch 170/350\n",
      "438/438 [==============================] - 2s 4ms/step - loss: 1222649053184.0000 - mean_squared_error: 1222649053184.0000\n",
      "Epoch 171/350\n",
      "438/438 [==============================] - 1s 3ms/step - loss: 1222566477824.0000 - mean_squared_error: 1222566477824.0000\n",
      "Epoch 172/350\n",
      "438/438 [==============================] - 1s 3ms/step - loss: 1222558220288.0000 - mean_squared_error: 1222558220288.0000\n",
      "Epoch 173/350\n",
      "438/438 [==============================] - 1s 3ms/step - loss: 1222444711936.0000 - mean_squared_error: 1222444711936.0000\n",
      "Epoch 174/350\n",
      "438/438 [==============================] - 1s 2ms/step - loss: 1222678413312.0000 - mean_squared_error: 1222678413312.0000\n",
      "Epoch 175/350\n",
      "438/438 [==============================] - 1s 3ms/step - loss: 1222520602624.0000 - mean_squared_error: 1222520602624.0000\n",
      "Epoch 176/350\n",
      "438/438 [==============================] - 1s 2ms/step - loss: 1222308659200.0000 - mean_squared_error: 1222308659200.0000\n",
      "Epoch 177/350\n",
      "438/438 [==============================] - 1s 2ms/step - loss: 1222413910016.0000 - mean_squared_error: 1222413910016.0000\n",
      "Epoch 178/350\n",
      "438/438 [==============================] - 1s 3ms/step - loss: 1222616154112.0000 - mean_squared_error: 1222616154112.0000\n",
      "Epoch 179/350\n",
      "438/438 [==============================] - 1s 2ms/step - loss: 1222406832128.0000 - mean_squared_error: 1222406832128.0000\n",
      "Epoch 180/350\n",
      "438/438 [==============================] - 1s 2ms/step - loss: 1222273794048.0000 - mean_squared_error: 1222273794048.0000\n",
      "Epoch 181/350\n",
      "438/438 [==============================] - 1s 2ms/step - loss: 1222474727424.0000 - mean_squared_error: 1222474727424.0000\n",
      "Epoch 182/350\n",
      "438/438 [==============================] - 1s 2ms/step - loss: 1222237487104.0000 - mean_squared_error: 1222237487104.0000\n",
      "Epoch 183/350\n",
      "438/438 [==============================] - 1s 2ms/step - loss: 1222322421760.0000 - mean_squared_error: 1222322421760.0000\n",
      "Epoch 184/350\n",
      "438/438 [==============================] - 1s 2ms/step - loss: 1222219923456.0000 - mean_squared_error: 1222219923456.0000\n",
      "Epoch 185/350\n",
      "438/438 [==============================] - 1s 2ms/step - loss: 1222272221184.0000 - mean_squared_error: 1222272221184.0000\n",
      "Epoch 186/350\n",
      "438/438 [==============================] - 1s 2ms/step - loss: 1222082953216.0000 - mean_squared_error: 1222082953216.0000\n",
      "Epoch 187/350\n",
      "438/438 [==============================] - 1s 2ms/step - loss: 1222079807488.0000 - mean_squared_error: 1222079807488.0000\n",
      "Epoch 188/350\n",
      "438/438 [==============================] - 1s 2ms/step - loss: 1222006538240.0000 - mean_squared_error: 1222006538240.0000\n",
      "Epoch 189/350\n",
      "438/438 [==============================] - 1s 2ms/step - loss: 1222287556608.0000 - mean_squared_error: 1222287556608.0000\n",
      "Epoch 190/350\n",
      "438/438 [==============================] - 1s 2ms/step - loss: 1222006013952.0000 - mean_squared_error: 1222006013952.0000\n",
      "Epoch 191/350\n",
      "438/438 [==============================] - 1s 2ms/step - loss: 1221929861120.0000 - mean_squared_error: 1221929861120.0000\n",
      "Epoch 192/350\n",
      "438/438 [==============================] - 1s 2ms/step - loss: 1221933793280.0000 - mean_squared_error: 1221933793280.0000\n",
      "Epoch 193/350\n",
      "438/438 [==============================] - 1s 2ms/step - loss: 1221946900480.0000 - mean_squared_error: 1221946900480.0000\n",
      "Epoch 194/350\n",
      "438/438 [==============================] - 1s 2ms/step - loss: 1221946507264.0000 - mean_squared_error: 1221946507264.0000\n",
      "Epoch 195/350\n",
      "438/438 [==============================] - 1s 2ms/step - loss: 1221780701184.0000 - mean_squared_error: 1221780701184.0000\n",
      "Epoch 196/350\n",
      "438/438 [==============================] - 1s 2ms/step - loss: 1221649891328.0000 - mean_squared_error: 1221649891328.0000\n",
      "Epoch 197/350\n",
      "438/438 [==============================] - 1s 2ms/step - loss: 1221745311744.0000 - mean_squared_error: 1221745311744.0000\n",
      "Epoch 198/350\n",
      "438/438 [==============================] - 1s 2ms/step - loss: 1221663784960.0000 - mean_squared_error: 1221663784960.0000\n",
      "Epoch 199/350\n",
      "438/438 [==============================] - 1s 2ms/step - loss: 1221798526976.0000 - mean_squared_error: 1221798526976.0000\n",
      "Epoch 200/350\n",
      "438/438 [==============================] - 1s 2ms/step - loss: 1221812158464.0000 - mean_squared_error: 1221812158464.0000\n",
      "Epoch 201/350\n",
      "438/438 [==============================] - 1s 2ms/step - loss: 1221573607424.0000 - mean_squared_error: 1221573607424.0000\n",
      "Epoch 202/350\n",
      "438/438 [==============================] - 1s 3ms/step - loss: 1221639929856.0000 - mean_squared_error: 1221639929856.0000\n",
      "Epoch 203/350\n",
      "438/438 [==============================] - 1s 3ms/step - loss: 1221538742272.0000 - mean_squared_error: 1221538742272.0000\n",
      "Epoch 204/350\n",
      "438/438 [==============================] - 1s 3ms/step - loss: 1221546475520.0000 - mean_squared_error: 1221546475520.0000\n",
      "Epoch 205/350\n",
      "438/438 [==============================] - 1s 2ms/step - loss: 1221427331072.0000 - mean_squared_error: 1221427331072.0000\n",
      "Epoch 206/350\n",
      "438/438 [==============================] - 1s 2ms/step - loss: 1221324046336.0000 - mean_squared_error: 1221324046336.0000\n",
      "Epoch 207/350\n",
      "438/438 [==============================] - 1s 2ms/step - loss: 1221348950016.0000 - mean_squared_error: 1221348950016.0000\n",
      "Epoch 208/350\n",
      "438/438 [==============================] - 1s 2ms/step - loss: 1221329027072.0000 - mean_squared_error: 1221329027072.0000\n",
      "Epoch 209/350\n",
      "438/438 [==============================] - 1s 3ms/step - loss: 1221357731840.0000 - mean_squared_error: 1221357731840.0000\n",
      "Epoch 210/350\n",
      "438/438 [==============================] - 1s 2ms/step - loss: 1221404655616.0000 - mean_squared_error: 1221404655616.0000\n",
      "Epoch 211/350\n",
      "438/438 [==============================] - 1s 2ms/step - loss: 1221192843264.0000 - mean_squared_error: 1221192843264.0000\n",
      "Epoch 212/350\n",
      "438/438 [==============================] - 1s 2ms/step - loss: 1221158502400.0000 - mean_squared_error: 1221158502400.0000\n",
      "Epoch 213/350\n",
      "438/438 [==============================] - 1s 2ms/step - loss: 1221249859584.0000 - mean_squared_error: 1221249859584.0000\n",
      "Epoch 214/350\n",
      "438/438 [==============================] - 1s 2ms/step - loss: 1221053644800.0000 - mean_squared_error: 1221053644800.0000\n",
      "Epoch 215/350\n",
      "438/438 [==============================] - 1s 2ms/step - loss: 1221160599552.0000 - mean_squared_error: 1221160599552.0000\n",
      "Epoch 216/350\n",
      "438/438 [==============================] - 1s 2ms/step - loss: 1221057314816.0000 - mean_squared_error: 1221057314816.0000\n",
      "Epoch 217/350\n",
      "438/438 [==============================] - 1s 2ms/step - loss: 1220998201344.0000 - mean_squared_error: 1220998201344.0000\n",
      "Epoch 218/350\n",
      "438/438 [==============================] - 1s 2ms/step - loss: 1220879712256.0000 - mean_squared_error: 1220879712256.0000\n",
      "Epoch 219/350\n",
      "438/438 [==============================] - 1s 2ms/step - loss: 1221089558528.0000 - mean_squared_error: 1221089558528.0000\n",
      "Epoch 220/350\n",
      "438/438 [==============================] - 1s 2ms/step - loss: 1220980768768.0000 - mean_squared_error: 1220980768768.0000\n",
      "Epoch 221/350\n",
      "438/438 [==============================] - 1s 2ms/step - loss: 1221041586176.0000 - mean_squared_error: 1221041586176.0000\n",
      "Epoch 222/350\n",
      "438/438 [==============================] - 1s 2ms/step - loss: 1220615077888.0000 - mean_squared_error: 1220615077888.0000\n",
      "Epoch 223/350\n",
      "438/438 [==============================] - 1s 2ms/step - loss: 1220864638976.0000 - mean_squared_error: 1220864638976.0000\n",
      "Epoch 224/350\n",
      "438/438 [==============================] - 1s 2ms/step - loss: 1220719280128.0000 - mean_squared_error: 1220719280128.0000\n",
      "Epoch 225/350\n",
      "438/438 [==============================] - 1s 2ms/step - loss: 1220711809024.0000 - mean_squared_error: 1220711809024.0000\n",
      "Epoch 226/350\n",
      "438/438 [==============================] - 1s 2ms/step - loss: 1220499865600.0000 - mean_squared_error: 1220499865600.0000\n",
      "Epoch 227/350\n",
      "438/438 [==============================] - 1s 2ms/step - loss: 1220452024320.0000 - mean_squared_error: 1220452024320.0000\n",
      "Epoch 228/350\n",
      "438/438 [==============================] - 1s 2ms/step - loss: 1220510220288.0000 - mean_squared_error: 1220510220288.0000\n",
      "Epoch 229/350\n",
      "438/438 [==============================] - 1s 2ms/step - loss: 1220260003840.0000 - mean_squared_error: 1220260003840.0000\n",
      "Epoch 230/350\n",
      "438/438 [==============================] - 1s 2ms/step - loss: 1220391206912.0000 - mean_squared_error: 1220391206912.0000\n",
      "Epoch 231/350\n",
      "438/438 [==============================] - 1s 2ms/step - loss: 1220159078400.0000 - mean_squared_error: 1220159078400.0000\n",
      "Epoch 232/350\n",
      "438/438 [==============================] - 1s 2ms/step - loss: 1220276256768.0000 - mean_squared_error: 1220276256768.0000\n",
      "Epoch 233/350\n",
      "438/438 [==============================] - 1s 2ms/step - loss: 1220205084672.0000 - mean_squared_error: 1220205084672.0000\n",
      "Epoch 234/350\n",
      "438/438 [==============================] - 1s 2ms/step - loss: 1220176117760.0000 - mean_squared_error: 1220176117760.0000\n",
      "Epoch 235/350\n",
      "438/438 [==============================] - 1s 2ms/step - loss: 1220294868992.0000 - mean_squared_error: 1220294868992.0000\n",
      "Epoch 236/350\n",
      "438/438 [==============================] - 1s 2ms/step - loss: 1220164321280.0000 - mean_squared_error: 1220164321280.0000\n",
      "Epoch 237/350\n",
      "438/438 [==============================] - 1s 2ms/step - loss: 1220186734592.0000 - mean_squared_error: 1220186734592.0000\n",
      "Epoch 238/350\n",
      "438/438 [==============================] - 1s 2ms/step - loss: 1219986194432.0000 - mean_squared_error: 1219986194432.0000\n",
      "Epoch 239/350\n",
      "438/438 [==============================] - 1s 2ms/step - loss: 1219943858176.0000 - mean_squared_error: 1219943858176.0000\n",
      "Epoch 240/350\n",
      "438/438 [==============================] - 1s 2ms/step - loss: 1219842015232.0000 - mean_squared_error: 1219842015232.0000\n",
      "Epoch 241/350\n",
      "438/438 [==============================] - 1s 2ms/step - loss: 1219846340608.0000 - mean_squared_error: 1219846340608.0000\n",
      "Epoch 242/350\n",
      "438/438 [==============================] - 1s 2ms/step - loss: 1219799154688.0000 - mean_squared_error: 1219799154688.0000\n",
      "Epoch 243/350\n",
      "438/438 [==============================] - 1s 2ms/step - loss: 1219751706624.0000 - mean_squared_error: 1219751706624.0000\n",
      "Epoch 244/350\n",
      "438/438 [==============================] - 1s 2ms/step - loss: 1219511320576.0000 - mean_squared_error: 1219511320576.0000\n",
      "Epoch 245/350\n",
      "438/438 [==============================] - 1s 2ms/step - loss: 1219686563840.0000 - mean_squared_error: 1219686563840.0000\n",
      "Epoch 246/350\n",
      "438/438 [==============================] - 1s 3ms/step - loss: 1219688529920.0000 - mean_squared_error: 1219688529920.0000\n",
      "Epoch 247/350\n",
      "438/438 [==============================] - 1s 3ms/step - loss: 1219394666496.0000 - mean_squared_error: 1219394666496.0000\n",
      "Epoch 248/350\n",
      "438/438 [==============================] - 1s 3ms/step - loss: 1219301867520.0000 - mean_squared_error: 1219301867520.0000\n",
      "Epoch 249/350\n",
      "438/438 [==============================] - 1s 3ms/step - loss: 1219381035008.0000 - mean_squared_error: 1219381035008.0000\n",
      "Epoch 250/350\n",
      "438/438 [==============================] - 1s 2ms/step - loss: 1219251142656.0000 - mean_squared_error: 1219251142656.0000\n",
      "Epoch 251/350\n",
      "438/438 [==============================] - 1s 2ms/step - loss: 1219179315200.0000 - mean_squared_error: 1219179315200.0000\n",
      "Epoch 252/350\n",
      "438/438 [==============================] - 1s 2ms/step - loss: 1219126362112.0000 - mean_squared_error: 1219126362112.0000\n",
      "Epoch 253/350\n",
      "438/438 [==============================] - 1s 2ms/step - loss: 1219222437888.0000 - mean_squared_error: 1219222437888.0000\n",
      "Epoch 254/350\n",
      "438/438 [==============================] - 1s 2ms/step - loss: 1219181150208.0000 - mean_squared_error: 1219181150208.0000\n",
      "Epoch 255/350\n",
      "438/438 [==============================] - 1s 2ms/step - loss: 1219002236928.0000 - mean_squared_error: 1219002236928.0000\n",
      "Epoch 256/350\n",
      "438/438 [==============================] - 1s 2ms/step - loss: 1218725412864.0000 - mean_squared_error: 1218725412864.0000\n",
      "Epoch 257/350\n",
      "438/438 [==============================] - 1s 2ms/step - loss: 1218899345408.0000 - mean_squared_error: 1218899345408.0000\n",
      "Epoch 258/350\n",
      "438/438 [==============================] - 1s 2ms/step - loss: 1218690154496.0000 - mean_squared_error: 1218690154496.0000\n",
      "Epoch 259/350\n",
      "438/438 [==============================] - 1s 2ms/step - loss: 1218519236608.0000 - mean_squared_error: 1218519236608.0000\n",
      "Epoch 260/350\n",
      "438/438 [==============================] - 1s 2ms/step - loss: 1218606399488.0000 - mean_squared_error: 1218606399488.0000\n",
      "Epoch 261/350\n",
      "438/438 [==============================] - 1s 2ms/step - loss: 1218528935936.0000 - mean_squared_error: 1218528935936.0000\n",
      "Epoch 262/350\n",
      "438/438 [==============================] - 1s 2ms/step - loss: 1218320138240.0000 - mean_squared_error: 1218320138240.0000\n",
      "Epoch 263/350\n",
      "438/438 [==============================] - 1s 2ms/step - loss: 1218277408768.0000 - mean_squared_error: 1218277408768.0000\n",
      "Epoch 264/350\n",
      "438/438 [==============================] - 1s 2ms/step - loss: 1218280423424.0000 - mean_squared_error: 1218280423424.0000\n",
      "Epoch 265/350\n",
      "438/438 [==============================] - 1s 2ms/step - loss: 1218244378624.0000 - mean_squared_error: 1218244378624.0000\n",
      "Epoch 266/350\n",
      "438/438 [==============================] - 1s 2ms/step - loss: 1218206892032.0000 - mean_squared_error: 1218206892032.0000\n",
      "Epoch 267/350\n",
      "438/438 [==============================] - 1s 3ms/step - loss: 1218115796992.0000 - mean_squared_error: 1218115796992.0000\n",
      "Epoch 268/350\n",
      "438/438 [==============================] - 1s 2ms/step - loss: 1218034532352.0000 - mean_squared_error: 1218034532352.0000\n",
      "Epoch 269/350\n",
      "438/438 [==============================] - 1s 2ms/step - loss: 1217820753920.0000 - mean_squared_error: 1217820753920.0000\n",
      "Epoch 270/350\n",
      "438/438 [==============================] - 1s 2ms/step - loss: 1217845264384.0000 - mean_squared_error: 1217845264384.0000\n",
      "Epoch 271/350\n",
      "438/438 [==============================] - 1s 2ms/step - loss: 1217630961664.0000 - mean_squared_error: 1217630961664.0000\n",
      "Epoch 272/350\n",
      "438/438 [==============================] - 1s 2ms/step - loss: 1217548648448.0000 - mean_squared_error: 1217548648448.0000\n",
      "Epoch 273/350\n",
      "438/438 [==============================] - 1s 2ms/step - loss: 1217447460864.0000 - mean_squared_error: 1217447460864.0000\n",
      "Epoch 274/350\n",
      "438/438 [==============================] - 1s 2ms/step - loss: 1217317306368.0000 - mean_squared_error: 1217317306368.0000\n",
      "Epoch 275/350\n",
      "438/438 [==============================] - 1s 2ms/step - loss: 1217236828160.0000 - mean_squared_error: 1217236828160.0000\n",
      "Epoch 276/350\n",
      "438/438 [==============================] - 1s 3ms/step - loss: 1217219788800.0000 - mean_squared_error: 1217219788800.0000\n",
      "Epoch 277/350\n",
      "438/438 [==============================] - 1s 2ms/step - loss: 1216860258304.0000 - mean_squared_error: 1216860258304.0000\n",
      "Epoch 278/350\n",
      "438/438 [==============================] - 1s 3ms/step - loss: 1217069842432.0000 - mean_squared_error: 1217069842432.0000\n",
      "Epoch 279/350\n",
      "438/438 [==============================] - 1s 3ms/step - loss: 1216944406528.0000 - mean_squared_error: 1216944406528.0000\n",
      "Epoch 280/350\n",
      "438/438 [==============================] - 1s 3ms/step - loss: 1216793542656.0000 - mean_squared_error: 1216793542656.0000\n",
      "Epoch 281/350\n",
      "438/438 [==============================] - 1s 3ms/step - loss: 1216743211008.0000 - mean_squared_error: 1216743211008.0000\n",
      "Epoch 282/350\n",
      "438/438 [==============================] - 1s 3ms/step - loss: 1216750026752.0000 - mean_squared_error: 1216750026752.0000\n",
      "Epoch 283/350\n",
      "438/438 [==============================] - 1s 3ms/step - loss: 1216440696832.0000 - mean_squared_error: 1216440696832.0000\n",
      "Epoch 284/350\n",
      "438/438 [==============================] - 1s 3ms/step - loss: 1216352485376.0000 - mean_squared_error: 1216352485376.0000\n",
      "Epoch 285/350\n",
      "438/438 [==============================] - 1s 2ms/step - loss: 1216221282304.0000 - mean_squared_error: 1216221282304.0000\n",
      "Epoch 286/350\n",
      "438/438 [==============================] - 1s 2ms/step - loss: 1215896485888.0000 - mean_squared_error: 1215896485888.0000\n",
      "Epoch 287/350\n",
      "438/438 [==============================] - 1s 2ms/step - loss: 1216037257216.0000 - mean_squared_error: 1216037257216.0000\n",
      "Epoch 288/350\n",
      "438/438 [==============================] - 1s 2ms/step - loss: 1215700533248.0000 - mean_squared_error: 1215700533248.0000\n",
      "Epoch 289/350\n",
      "438/438 [==============================] - 1s 2ms/step - loss: 1215513493504.0000 - mean_squared_error: 1215513493504.0000\n",
      "Epoch 290/350\n",
      "438/438 [==============================] - 1s 2ms/step - loss: 1215529746432.0000 - mean_squared_error: 1215529746432.0000\n",
      "Epoch 291/350\n",
      "438/438 [==============================] - 1s 3ms/step - loss: 1215397101568.0000 - mean_squared_error: 1215397101568.0000\n",
      "Epoch 292/350\n",
      "438/438 [==============================] - 2s 5ms/step - loss: 1215063392256.0000 - mean_squared_error: 1215063392256.0000\n",
      "Epoch 293/350\n",
      "438/438 [==============================] - 2s 4ms/step - loss: 1215147802624.0000 - mean_squared_error: 1215147802624.0000\n",
      "Epoch 294/350\n",
      "438/438 [==============================] - 1s 3ms/step - loss: 1214875828224.0000 - mean_squared_error: 1214875828224.0000\n",
      "Epoch 295/350\n",
      "438/438 [==============================] - 2s 4ms/step - loss: 1214924062720.0000 - mean_squared_error: 1214924062720.0000\n",
      "Epoch 296/350\n",
      "438/438 [==============================] - 1s 3ms/step - loss: 1214794694656.0000 - mean_squared_error: 1214794694656.0000\n",
      "Epoch 297/350\n",
      "438/438 [==============================] - 1s 3ms/step - loss: 1214345248768.0000 - mean_squared_error: 1214345248768.0000\n",
      "Epoch 298/350\n",
      "438/438 [==============================] - 2s 4ms/step - loss: 1214332403712.0000 - mean_squared_error: 1214332403712.0000\n",
      "Epoch 299/350\n",
      "438/438 [==============================] - 1s 3ms/step - loss: 1214115086336.0000 - mean_squared_error: 1214115086336.0000\n",
      "Epoch 300/350\n",
      "438/438 [==============================] - 1s 2ms/step - loss: 1213715841024.0000 - mean_squared_error: 1213715841024.0000\n",
      "Epoch 301/350\n",
      "438/438 [==============================] - 1s 2ms/step - loss: 1213708500992.0000 - mean_squared_error: 1213708500992.0000\n",
      "Epoch 302/350\n",
      "438/438 [==============================] - 1s 2ms/step - loss: 1213538238464.0000 - mean_squared_error: 1213538238464.0000\n",
      "Epoch 303/350\n",
      "438/438 [==============================] - 1s 2ms/step - loss: 1213112254464.0000 - mean_squared_error: 1213112254464.0000\n",
      "Epoch 304/350\n",
      "438/438 [==============================] - 1s 2ms/step - loss: 1213027975168.0000 - mean_squared_error: 1213027975168.0000\n",
      "Epoch 305/350\n",
      "438/438 [==============================] - 1s 2ms/step - loss: 1212751806464.0000 - mean_squared_error: 1212751806464.0000\n",
      "Epoch 306/350\n",
      "438/438 [==============================] - 1s 2ms/step - loss: 1212529377280.0000 - mean_squared_error: 1212529377280.0000\n",
      "Epoch 307/350\n",
      "438/438 [==============================] - 1s 2ms/step - loss: 1212282699776.0000 - mean_squared_error: 1212282699776.0000\n",
      "Epoch 308/350\n",
      "438/438 [==============================] - 1s 2ms/step - loss: 1212053061632.0000 - mean_squared_error: 1212053061632.0000\n",
      "Epoch 309/350\n",
      "438/438 [==============================] - 1s 2ms/step - loss: 1211686060032.0000 - mean_squared_error: 1211686060032.0000\n",
      "Epoch 310/350\n",
      "438/438 [==============================] - 1s 2ms/step - loss: 1211718696960.0000 - mean_squared_error: 1211718696960.0000\n",
      "Epoch 311/350\n",
      "438/438 [==============================] - 1s 2ms/step - loss: 1211163475968.0000 - mean_squared_error: 1211163475968.0000\n",
      "Epoch 312/350\n",
      "438/438 [==============================] - 1s 2ms/step - loss: 1210916667392.0000 - mean_squared_error: 1210916667392.0000\n",
      "Epoch 313/350\n",
      "438/438 [==============================] - 1s 2ms/step - loss: 1210598948864.0000 - mean_squared_error: 1210598948864.0000\n",
      "Epoch 314/350\n",
      "438/438 [==============================] - 1s 2ms/step - loss: 1210280181760.0000 - mean_squared_error: 1210280181760.0000\n",
      "Epoch 315/350\n",
      "438/438 [==============================] - 1s 2ms/step - loss: 1210016727040.0000 - mean_squared_error: 1210016727040.0000\n",
      "Epoch 316/350\n",
      "438/438 [==============================] - 1s 2ms/step - loss: 1209692585984.0000 - mean_squared_error: 1209692585984.0000\n",
      "Epoch 317/350\n",
      "438/438 [==============================] - 1s 2ms/step - loss: 1209244975104.0000 - mean_squared_error: 1209244975104.0000\n",
      "Epoch 318/350\n",
      "438/438 [==============================] - 1s 2ms/step - loss: 1208939446272.0000 - mean_squared_error: 1208939446272.0000\n",
      "Epoch 319/350\n",
      "438/438 [==============================] - 1s 2ms/step - loss: 1208351588352.0000 - mean_squared_error: 1208351588352.0000\n",
      "Epoch 320/350\n",
      "438/438 [==============================] - 1s 2ms/step - loss: 1208026791936.0000 - mean_squared_error: 1208026791936.0000\n",
      "Epoch 321/350\n",
      "438/438 [==============================] - 1s 2ms/step - loss: 1207489396736.0000 - mean_squared_error: 1207489396736.0000\n",
      "Epoch 322/350\n",
      "438/438 [==============================] - 1s 2ms/step - loss: 1207403151360.0000 - mean_squared_error: 1207403151360.0000\n",
      "Epoch 323/350\n",
      "438/438 [==============================] - 1s 2ms/step - loss: 1206654992384.0000 - mean_squared_error: 1206654992384.0000\n",
      "Epoch 324/350\n",
      "438/438 [==============================] - 1s 2ms/step - loss: 1206201745408.0000 - mean_squared_error: 1206201745408.0000\n",
      "Epoch 325/350\n",
      "438/438 [==============================] - 1s 2ms/step - loss: 1205761736704.0000 - mean_squared_error: 1205761736704.0000\n",
      "Epoch 326/350\n",
      "438/438 [==============================] - 1s 2ms/step - loss: 1204808843264.0000 - mean_squared_error: 1204808843264.0000\n",
      "Epoch 327/350\n",
      "438/438 [==============================] - 1s 2ms/step - loss: 1204516552704.0000 - mean_squared_error: 1204516552704.0000\n",
      "Epoch 328/350\n",
      "438/438 [==============================] - 1s 2ms/step - loss: 1203735101440.0000 - mean_squared_error: 1203735101440.0000\n",
      "Epoch 329/350\n",
      "438/438 [==============================] - 1s 3ms/step - loss: 1203245023232.0000 - mean_squared_error: 1203245023232.0000\n",
      "Epoch 330/350\n",
      "438/438 [==============================] - 1s 2ms/step - loss: 1202541953024.0000 - mean_squared_error: 1202541953024.0000\n",
      "Epoch 331/350\n",
      "438/438 [==============================] - 1s 2ms/step - loss: 1201524965376.0000 - mean_squared_error: 1201524965376.0000\n",
      "Epoch 332/350\n",
      "438/438 [==============================] - 1s 2ms/step - loss: 1200962404352.0000 - mean_squared_error: 1200962404352.0000\n",
      "Epoch 333/350\n",
      "438/438 [==============================] - 1s 2ms/step - loss: 1200135733248.0000 - mean_squared_error: 1200135733248.0000\n",
      "Epoch 334/350\n",
      "438/438 [==============================] - 1s 2ms/step - loss: 1198932099072.0000 - mean_squared_error: 1198932099072.0000\n",
      "Epoch 335/350\n",
      "438/438 [==============================] - 1s 2ms/step - loss: 1197830176768.0000 - mean_squared_error: 1197830176768.0000\n",
      "Epoch 336/350\n",
      "438/438 [==============================] - 1s 2ms/step - loss: 1196806766592.0000 - mean_squared_error: 1196806766592.0000\n",
      "Epoch 337/350\n",
      "438/438 [==============================] - 1s 2ms/step - loss: 1195849809920.0000 - mean_squared_error: 1195849809920.0000\n",
      "Epoch 338/350\n",
      "438/438 [==============================] - 1s 2ms/step - loss: 1194366861312.0000 - mean_squared_error: 1194366861312.0000\n",
      "Epoch 339/350\n",
      "438/438 [==============================] - 1s 2ms/step - loss: 1193304260608.0000 - mean_squared_error: 1193304260608.0000\n",
      "Epoch 340/350\n",
      "438/438 [==============================] - 1s 2ms/step - loss: 1191554580480.0000 - mean_squared_error: 1191554580480.0000\n",
      "Epoch 341/350\n",
      "438/438 [==============================] - 1s 2ms/step - loss: 1189943574528.0000 - mean_squared_error: 1189943574528.0000\n",
      "Epoch 342/350\n",
      "438/438 [==============================] - 1s 2ms/step - loss: 1188193501184.0000 - mean_squared_error: 1188193501184.0000\n",
      "Epoch 343/350\n",
      "438/438 [==============================] - 1s 2ms/step - loss: 1186013904896.0000 - mean_squared_error: 1186013904896.0000\n",
      "Epoch 344/350\n",
      "438/438 [==============================] - 1s 2ms/step - loss: 1184774881280.0000 - mean_squared_error: 1184774881280.0000\n",
      "Epoch 345/350\n",
      "438/438 [==============================] - 1s 2ms/step - loss: 1182209015808.0000 - mean_squared_error: 1182209015808.0000\n",
      "Epoch 346/350\n",
      "438/438 [==============================] - 1s 2ms/step - loss: 1179493990400.0000 - mean_squared_error: 1179493990400.0000\n",
      "Epoch 347/350\n",
      "438/438 [==============================] - 1s 2ms/step - loss: 1177331433472.0000 - mean_squared_error: 1177331433472.0000\n",
      "Epoch 348/350\n",
      "438/438 [==============================] - 1s 2ms/step - loss: 1175131783168.0000 - mean_squared_error: 1175131783168.0000\n",
      "Epoch 349/350\n",
      "438/438 [==============================] - 1s 2ms/step - loss: 1172120535040.0000 - mean_squared_error: 1172120535040.0000\n",
      "Epoch 350/350\n",
      "438/438 [==============================] - 1s 3ms/step - loss: 1168203186176.0000 - mean_squared_error: 1168203186176.0000\n"
     ]
    }
   ],
   "source": [
    "nn_model = create_model(x_train, y_train)"
   ]
  },
  {
   "cell_type": "code",
   "execution_count": 52,
   "metadata": {},
   "outputs": [
    {
     "data": {
      "text/plain": [
       "sqfeet       792.0\n",
       "beds           3.0\n",
       "baths          1.0\n",
       "income     53112.0\n",
       "density      282.0\n",
       "Name: 120762, dtype: float64"
      ]
     },
     "execution_count": 52,
     "metadata": {},
     "output_type": "execute_result"
    }
   ],
   "source": [
    "x_test.iloc[0]"
   ]
  },
  {
   "cell_type": "code",
   "execution_count": 53,
   "metadata": {},
   "outputs": [
    {
     "data": {
      "text/plain": [
       "array([  62500.,  423250.,  799999., ...,  625000., 1490000.,  225000.])"
      ]
     },
     "execution_count": 53,
     "metadata": {},
     "output_type": "execute_result"
    }
   ],
   "source": [
    "y_test.to_numpy()"
   ]
  },
  {
   "cell_type": "code",
   "execution_count": 54,
   "metadata": {},
   "outputs": [
    {
     "data": {
      "text/plain": [
       "0.3293808485596563"
      ]
     },
     "execution_count": 54,
     "metadata": {},
     "output_type": "execute_result"
    }
   ],
   "source": [
    "y_pred = nn_model.predict(x_test)\n",
    "from sklearn.metrics import r2_score\n",
    "r2_score(y_test, y_pred)"
   ]
  },
  {
   "cell_type": "code",
   "execution_count": 55,
   "metadata": {},
   "outputs": [
    {
     "name": "stdout",
     "output_type": "stream",
     "text": [
      "3418/3418 [==============================] - 10s 3ms/step - loss: 1252952899584.0000 - mean_squared_error: 1252952899584.0000\n"
     ]
    },
    {
     "data": {
      "text/plain": [
       "[1252952899584.0, 1252952899584.0]"
      ]
     },
     "execution_count": 55,
     "metadata": {},
     "output_type": "execute_result"
    }
   ],
   "source": [
    "nn_model.evaluate(x_test, y_test)"
   ]
  },
  {
   "cell_type": "code",
   "execution_count": 56,
   "metadata": {},
   "outputs": [],
   "source": [
    "nn_model.save('./outputs/sale_models/nn_model.h5')"
   ]
  },
  {
   "cell_type": "code",
   "execution_count": 57,
   "metadata": {},
   "outputs": [
    {
     "name": "stderr",
     "output_type": "stream",
     "text": [
      "/var/folders/4p/0tpbwp7d5fj91r2jb64xf4kh0000gn/T/ipykernel_11788/1460629663.py:3: DeprecationWarning: `import kerastuner` is deprecated, please use `import keras_tuner`.\n",
      "  from kerastuner.tuners import RandomSearch\n"
     ]
    }
   ],
   "source": [
    "# Tune the model\n",
    "import keras_tuner\n",
    "from kerastuner.tuners import RandomSearch"
   ]
  },
  {
   "cell_type": "code",
   "execution_count": 58,
   "metadata": {},
   "outputs": [],
   "source": [
    "def build_model(hp):\n",
    "    input_layer = Input(shape=(5, ))\n",
    "    x1 = Dense(hp.Choice('firstlayer', [16,24,32]), activation=hp.Choice(\"x1_activation\", ['relu', 'sigmoid', 'tanh']), kernel_initializer='normal')(input_layer)\n",
    "    x2 = Dense(hp.Choice('secondlayer', [4,5,8,16]), activation=hp.Choice(\"x2_activation\", ['relu', 'sigmoid', 'tanh']), kernel_initializer='normal')(x1)\n",
    "    x3 = Dense(hp.Choice('thirdlayer', [3,4,5,6,7,8]), activation=hp.Choice(\"x3_activation\", ['relu', 'sigmoid', 'tanh']), kernel_initializer='normal')(x2)\n",
    "    output = Dense(1, activation='linear', kernel_initializer='normal')(x3)\n",
    "\n",
    "    t_model = Model(inputs=input_layer, outputs=output)\n",
    "\n",
    "    t_model.compile(\n",
    "        loss='mean_squared_error',\n",
    "        optimizer=tf.keras.optimizers.Adam(hp.Choice('learning_rate', values=[1e-1, 1e-2, 1e-3, 1e-4])),\n",
    "        metrics=[\"mean_squared_error\"]\n",
    "    )\n",
    "    return t_model\n"
   ]
  },
  {
   "cell_type": "code",
   "execution_count": 59,
   "metadata": {},
   "outputs": [
    {
     "name": "stdout",
     "output_type": "stream",
     "text": [
      "INFO:tensorflow:Reloading Oracle from existing project ./untitled_project/oracle.json\n",
      "INFO:tensorflow:Reloading Tuner from ./untitled_project/tuner0.json\n",
      "INFO:tensorflow:Oracle triggered exit\n"
     ]
    }
   ],
   "source": [
    "tuner = RandomSearch(\n",
    "    build_model,\n",
    "    objective = 'val_loss',\n",
    "    max_trials = 20\n",
    ")\n",
    "tuner.search(x_train, y_train, epochs=5, validation_data=(x_test, y_test))"
   ]
  },
  {
   "cell_type": "code",
   "execution_count": 60,
   "metadata": {},
   "outputs": [
    {
     "name": "stdout",
     "output_type": "stream",
     "text": [
      "Search space summary\n",
      "Default search space size: 7\n",
      "firstlayer (Choice)\n",
      "{'default': 16, 'conditions': [], 'values': [16, 24, 32], 'ordered': True}\n",
      "x1_activation (Choice)\n",
      "{'default': 'relu', 'conditions': [], 'values': ['relu', 'sigmoid', 'tanh'], 'ordered': False}\n",
      "secondlayer (Choice)\n",
      "{'default': 4, 'conditions': [], 'values': [4, 5, 8, 16], 'ordered': True}\n",
      "x2_activation (Choice)\n",
      "{'default': 'relu', 'conditions': [], 'values': ['relu', 'sigmoid', 'tanh'], 'ordered': False}\n",
      "thirdlayer (Choice)\n",
      "{'default': 3, 'conditions': [], 'values': [3, 4, 5, 6, 7, 8], 'ordered': True}\n",
      "x3_activation (Choice)\n",
      "{'default': 'relu', 'conditions': [], 'values': ['relu', 'sigmoid', 'tanh'], 'ordered': False}\n",
      "learning_rate (Choice)\n",
      "{'default': 0.1, 'conditions': [], 'values': [0.1, 0.01, 0.001, 0.0001], 'ordered': True}\n"
     ]
    }
   ],
   "source": [
    "tuner.search_space_summary()"
   ]
  },
  {
   "cell_type": "code",
   "execution_count": 61,
   "metadata": {},
   "outputs": [
    {
     "name": "stdout",
     "output_type": "stream",
     "text": [
      "Results summary\n",
      "Results in ./untitled_project\n",
      "Showing 10 best trials\n",
      "<keras_tuner.engine.objective.Objective object at 0x7fbafc6ea820>\n",
      "Trial summary\n",
      "Hyperparameters:\n",
      "firstlayer: 16\n",
      "x1_activation: relu\n",
      "secondlayer: 4\n",
      "x2_activation: tanh\n",
      "thirdlayer: 8\n",
      "x3_activation: relu\n",
      "learning_rate: 0.001\n",
      "Score: 336496.28125\n",
      "Trial summary\n",
      "Hyperparameters:\n",
      "firstlayer: 24\n",
      "x1_activation: tanh\n",
      "secondlayer: 8\n",
      "x2_activation: relu\n",
      "thirdlayer: 8\n",
      "x3_activation: sigmoid\n",
      "learning_rate: 0.01\n",
      "Score: 336496.375\n",
      "Trial summary\n",
      "Hyperparameters:\n",
      "firstlayer: 16\n",
      "x1_activation: sigmoid\n",
      "secondlayer: 8\n",
      "x2_activation: relu\n",
      "thirdlayer: 3\n",
      "x3_activation: tanh\n",
      "learning_rate: 0.1\n",
      "Score: 336496.5\n",
      "Trial summary\n",
      "Hyperparameters:\n",
      "firstlayer: 24\n",
      "x1_activation: tanh\n",
      "secondlayer: 16\n",
      "x2_activation: tanh\n",
      "thirdlayer: 4\n",
      "x3_activation: tanh\n",
      "learning_rate: 0.01\n",
      "Score: 336496.53125\n",
      "Trial summary\n",
      "Hyperparameters:\n",
      "firstlayer: 32\n",
      "x1_activation: tanh\n",
      "secondlayer: 16\n",
      "x2_activation: tanh\n",
      "thirdlayer: 6\n",
      "x3_activation: relu\n",
      "learning_rate: 0.01\n",
      "Score: 336498.84375\n",
      "Trial summary\n",
      "Hyperparameters:\n",
      "firstlayer: 16\n",
      "x1_activation: tanh\n",
      "secondlayer: 4\n",
      "x2_activation: sigmoid\n",
      "thirdlayer: 5\n",
      "x3_activation: sigmoid\n",
      "learning_rate: 0.1\n",
      "Score: 336499.71875\n",
      "Trial summary\n",
      "Hyperparameters:\n",
      "firstlayer: 32\n",
      "x1_activation: relu\n",
      "secondlayer: 4\n",
      "x2_activation: tanh\n",
      "thirdlayer: 5\n",
      "x3_activation: sigmoid\n",
      "learning_rate: 0.01\n",
      "Score: 336501.0\n",
      "Trial summary\n",
      "Hyperparameters:\n",
      "firstlayer: 32\n",
      "x1_activation: sigmoid\n",
      "secondlayer: 8\n",
      "x2_activation: tanh\n",
      "thirdlayer: 7\n",
      "x3_activation: sigmoid\n",
      "learning_rate: 0.1\n",
      "Score: 336501.09375\n",
      "Trial summary\n",
      "Hyperparameters:\n",
      "firstlayer: 16\n",
      "x1_activation: tanh\n",
      "secondlayer: 4\n",
      "x2_activation: tanh\n",
      "thirdlayer: 5\n",
      "x3_activation: tanh\n",
      "learning_rate: 0.1\n",
      "Score: 336501.65625\n",
      "Trial summary\n",
      "Hyperparameters:\n",
      "firstlayer: 16\n",
      "x1_activation: sigmoid\n",
      "secondlayer: 5\n",
      "x2_activation: tanh\n",
      "thirdlayer: 3\n",
      "x3_activation: relu\n",
      "learning_rate: 0.1\n",
      "Score: 336508.75\n"
     ]
    }
   ],
   "source": [
    "tuner.results_summary()"
   ]
  }
 ],
 "metadata": {
  "kernelspec": {
   "display_name": "Python 3 (ipykernel)",
   "language": "python",
   "name": "python3"
  },
  "language_info": {
   "codemirror_mode": {
    "name": "ipython",
    "version": 3
   },
   "file_extension": ".py",
   "mimetype": "text/x-python",
   "name": "python",
   "nbconvert_exporter": "python",
   "pygments_lexer": "ipython3",
   "version": "3.9.7"
  },
  "vscode": {
   "interpreter": {
    "hash": "604cf3a9394c66cbf5287310c1f5b5d7842e137a3208bfcc6a02740f6980241a"
   }
  }
 },
 "nbformat": 4,
 "nbformat_minor": 2
}
